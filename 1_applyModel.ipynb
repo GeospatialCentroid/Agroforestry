{
 "cells": [
  {
   "cell_type": "code",
   "execution_count": 1,
   "id": "54052850-7c55-4694-80ca-d9e2ebefb6f6",
   "metadata": {},
   "outputs": [],
   "source": [
    "import ee\n",
    "import geemap\n",
    "import geopandas as gpd\n",
    "import numpy as np\n",
    "from agroforestry.config import * \n",
    "from agroforestry.geeHelpers import *\n",
    "from agroforestry.naipProcessing import *\n",
    "from agroforestry.snicProcessing import *\n",
    "from agroforestry.randomForest import *\n",
    "from agroforestry.exportFunctions import *"
   ]
  },
  {
   "cell_type": "code",
   "execution_count": 2,
   "id": "53ada3ac-c3d6-478f-8f22-5649e36bcbba",
   "metadata": {},
   "outputs": [
    {
     "data": {
      "text/html": [
       "\n",
       "            <style>\n",
       "                .geemap-dark {\n",
       "                    --jp-widgets-color: white;\n",
       "                    --jp-widgets-label-color: white;\n",
       "                    --jp-ui-font-color1: white;\n",
       "                    --jp-layout-color2: #454545;\n",
       "                    background-color: #383838;\n",
       "                }\n",
       "                    \n",
       "                .geemap-dark .jupyter-button {\n",
       "                    --jp-layout-color3: #383838;\n",
       "                }\n",
       "                \n",
       "                .geemap-colab {\n",
       "                    background-color: var(--colab-primary-surface-color, white);\n",
       "                }\n",
       "                    \n",
       "                .geemap-colab .jupyter-button {\n",
       "                    --jp-layout-color3: var(--colab-primary-surface-color, white);\n",
       "                }\n",
       "            </style>\n",
       "            "
      ],
      "text/plain": [
       "<IPython.core.display.HTML object>"
      ]
     },
     "metadata": {},
     "output_type": "display_data"
    }
   ],
   "source": [
    "# establish connection with ee account. might require some additional configuration based on local machine \n",
    "ee.Initialize()"
   ]
  },
  {
   "cell_type": "code",
   "execution_count": 3,
   "id": "9906f9bd-e141-4e73-97cb-798f34faab1d",
   "metadata": {},
   "outputs": [
    {
     "data": {
      "text/html": [
       "\n",
       "            <style>\n",
       "                .geemap-dark {\n",
       "                    --jp-widgets-color: white;\n",
       "                    --jp-widgets-label-color: white;\n",
       "                    --jp-ui-font-color1: white;\n",
       "                    --jp-layout-color2: #454545;\n",
       "                    background-color: #383838;\n",
       "                }\n",
       "                    \n",
       "                .geemap-dark .jupyter-button {\n",
       "                    --jp-layout-color3: #383838;\n",
       "                }\n",
       "                \n",
       "                .geemap-colab {\n",
       "                    background-color: var(--colab-primary-surface-color, white);\n",
       "                }\n",
       "                    \n",
       "                .geemap-colab .jupyter-button {\n",
       "                    --jp-layout-color3: var(--colab-primary-surface-color, white);\n",
       "                }\n",
       "            </style>\n",
       "            "
      ],
      "text/plain": [
       "<IPython.core.display.HTML object>"
      ]
     },
     "metadata": {},
     "output_type": "display_data"
    },
    {
     "data": {
      "text/plain": [
       "<Axes: >"
      ]
     },
     "execution_count": 3,
     "metadata": {},
     "output_type": "execute_result"
    },
    {
     "data": {
      "image/png": "[encoded data removed]",
      "text/plain": [
       "<Figure size 640x480 with 1 Axes>"
      ]
     },
     "metadata": {},
     "output_type": "display_data"
    }
   ],
   "source": [
    "# define the aoi\n",
    "aoiID = initGridID # something to itorate over for now is defined based on the input training dataset \n",
    "# this becomes the AOI to used in the prepNAIP function. I'll need to edit it so that it converts the input data into a bbox \n",
    "gridSelect = grid.loc[grid.Unique_ID == aoiID]\n",
    "# create a sub grid for downloading \n",
    "downloadGrids = create_grid(gdf=gridSelect,n_cells=5,crs=gridSelect.crs)\n",
    "# convert to a gee object \n",
    "aoi1 = geemap.gdf_to_ee(gridSelect)\n",
    "\n",
    "# generate the USDA reference object \n",
    "aoi2 = geemap.gdf_to_ee(downloadGrids)\n",
    "downloadGrids.plot()"
   ]
  },
  {
   "cell_type": "code",
   "execution_count": 6,
   "id": "5f7155e3-f818-4872-9540-61f7ba229dc8",
   "metadata": {},
   "outputs": [
    {
     "data": {
      "text/html": [
       "\n",
       "            <style>\n",
       "                .geemap-dark {\n",
       "                    --jp-widgets-color: white;\n",
       "                    --jp-widgets-label-color: white;\n",
       "                    --jp-ui-font-color1: white;\n",
       "                    --jp-layout-color2: #454545;\n",
       "                    background-color: #383838;\n",
       "                }\n",
       "                    \n",
       "                .geemap-dark .jupyter-button {\n",
       "                    --jp-layout-color3: #383838;\n",
       "                }\n",
       "                \n",
       "                .geemap-colab {\n",
       "                    background-color: var(--colab-primary-surface-color, white);\n",
       "                }\n",
       "                    \n",
       "                .geemap-colab .jupyter-button {\n",
       "                    --jp-layout-color3: var(--colab-primary-surface-color, white);\n",
       "                }\n",
       "            </style>\n",
       "            "
      ],
      "text/plain": [
       "<IPython.core.display.HTML object>"
      ]
     },
     "metadata": {},
     "output_type": "display_data"
    }
   ],
   "source": [
    "Map = geemap.Map(center=(42.3, -98), zoom=10)\n",
    "Map.addLayer(aoi1, {'color': '000000ff',\n",
    "                    'width': 2,\n",
    "                    'lineType': 'solid'},\n",
    "             'area of interest')\n",
    "Map.addLayer(aoi2, {'color': '000000ff',\n",
    "                    'width': 2,\n",
    "                    'lineType': 'solid'},\n",
    "             'area of subgrid')\n",
    "Map.add_basemap('HYBRID')\n",
    "# Map"
   ]
  },
  {
   "cell_type": "code",
   "execution_count": 7,
   "id": "1839f638-3811-43a4-bdcb-db5397b38bfa",
   "metadata": {},
   "outputs": [
    {
     "data": {
      "text/html": [
       "\n",
       "            <style>\n",
       "                .geemap-dark {\n",
       "                    --jp-widgets-color: white;\n",
       "                    --jp-widgets-label-color: white;\n",
       "                    --jp-ui-font-color1: white;\n",
       "                    --jp-layout-color2: #454545;\n",
       "                    background-color: #383838;\n",
       "                }\n",
       "                    \n",
       "                .geemap-dark .jupyter-button {\n",
       "                    --jp-layout-color3: #383838;\n",
       "                }\n",
       "                \n",
       "                .geemap-colab {\n",
       "                    background-color: var(--colab-primary-surface-color, white);\n",
       "                }\n",
       "                    \n",
       "                .geemap-colab .jupyter-button {\n",
       "                    --jp-layout-color3: var(--colab-primary-surface-color, white);\n",
       "                }\n",
       "            </style>\n",
       "            "
      ],
      "text/plain": [
       "<IPython.core.display.HTML object>"
      ]
     },
     "metadata": {},
     "output_type": "display_data"
    }
   ],
   "source": [
    "# import training dataset \n",
    "trainingData = gpd.read_file(filename=\"data/processed/trainingdataset_withClasses.geojson\")\n",
    "# print(type(trainingData))\n",
    "# select the training class of interest and drop unnecessary columns\n",
    "trainingSubset =  trainingData[trainingData.sampleStrat == \"subgrid\"]\n",
    "# print(trainingSubset)\n",
    "# convert to ee object\n",
    "pointsEE = geemap.gdf_to_ee(gdf=trainingSubset)\n",
    "# subset testing and training data \n",
    "training = pointsEE.filter(ee.Filter.gt('random', test_train_ratio))\n",
    "testing = pointsEE.filter(ee.Filter.lte('random',test_train_ratio))\n",
    "# traing the rf model \n",
    "rfCluster = trainRFModel(bands=bandsToUse_Cluster, inputFeature=training, nTrees=nTrees,setSeed=setSeed)\n",
    "rfPixel = trainRFModel(bands=bandsToUse_Pixel, inputFeature=training, nTrees=nTrees,setSeed=setSeed)\n",
    "rfPixelTrim = trainRFModel(bands=vsurfNoCor,  inputFeature=training, nTrees=nTrees,setSeed=setSeed )\n",
    "## run validation using the testing set \n",
    "clusterValidation = testRFClassifier(classifier=rfCluster, testingData= testing)\n",
    "pixelValidation = testRFClassifier(classifier=rfPixel, testingData= testing)\n",
    "pixelValidationTrim = testRFClassifier(classifier=rfPixelTrim, testingData= testing)"
   ]
  },
  {
   "cell_type": "code",
   "execution_count": 21,
   "id": "8d1797fe-ae8f-4ff6-905e-a90b1322844a",
   "metadata": {},
   "outputs": [
    {
     "data": {
      "text/html": [
       "\n",
       "            <style>\n",
       "                .geemap-dark {\n",
       "                    --jp-widgets-color: white;\n",
       "                    --jp-widgets-label-color: white;\n",
       "                    --jp-ui-font-color1: white;\n",
       "                    --jp-layout-color2: #454545;\n",
       "                    background-color: #383838;\n",
       "                }\n",
       "                    \n",
       "                .geemap-dark .jupyter-button {\n",
       "                    --jp-layout-color3: #383838;\n",
       "                }\n",
       "                \n",
       "                .geemap-colab {\n",
       "                    background-color: var(--colab-primary-surface-color, white);\n",
       "                }\n",
       "                    \n",
       "                .geemap-colab .jupyter-button {\n",
       "                    --jp-layout-color3: var(--colab-primary-surface-color, white);\n",
       "                }\n",
       "            </style>\n",
       "            "
      ],
      "text/plain": [
       "<IPython.core.display.HTML object>"
      ]
     },
     "metadata": {},
     "output_type": "display_data"
    },
    {
     "name": "stdout",
     "output_type": "stream",
     "text": [
      "0.9891304347826086\n"
     ]
    }
   ],
   "source": [
    "# cant print tuple with this function\n",
    "geePrint(pixelValidationTrim)"
   ]
  },
  {
   "cell_type": "code",
   "execution_count": 15,
   "id": "1452380f-c12b-4c36-8b8c-20ff80c3e869",
   "metadata": {},
   "outputs": [
    {
     "data": {
      "text/html": [
       "\n",
       "            <style>\n",
       "                .geemap-dark {\n",
       "                    --jp-widgets-color: white;\n",
       "                    --jp-widgets-label-color: white;\n",
       "                    --jp-ui-font-color1: white;\n",
       "                    --jp-layout-color2: #454545;\n",
       "                    background-color: #383838;\n",
       "                }\n",
       "                    \n",
       "                .geemap-dark .jupyter-button {\n",
       "                    --jp-layout-color3: #383838;\n",
       "                }\n",
       "                \n",
       "                .geemap-colab {\n",
       "                    background-color: var(--colab-primary-surface-color, white);\n",
       "                }\n",
       "                    \n",
       "                .geemap-colab .jupyter-button {\n",
       "                    --jp-layout-color3: var(--colab-primary-surface-color, white);\n",
       "                }\n",
       "            </style>\n",
       "            "
      ],
      "text/plain": [
       "<IPython.core.display.HTML object>"
      ]
     },
     "metadata": {},
     "output_type": "display_data"
    },
    {
     "name": "stdout",
     "output_type": "stream",
     "text": [
      "0.967391304347826\n"
     ]
    }
   ],
   "source": [
    "# cant print tuple with this function\n",
    "geePrint(pixelValidation)\n",
    "# strange that these are both the same value... "
   ]
  },
  {
   "cell_type": "code",
   "execution_count": 8,
   "id": "3370868c-96ff-489e-9bae-157427b8a988",
   "metadata": {},
   "outputs": [
    {
     "data": {
      "text/html": [
       "\n",
       "            <style>\n",
       "                .geemap-dark {\n",
       "                    --jp-widgets-color: white;\n",
       "                    --jp-widgets-label-color: white;\n",
       "                    --jp-ui-font-color1: white;\n",
       "                    --jp-layout-color2: #454545;\n",
       "                    background-color: #383838;\n",
       "                }\n",
       "                    \n",
       "                .geemap-dark .jupyter-button {\n",
       "                    --jp-layout-color3: #383838;\n",
       "                }\n",
       "                \n",
       "                .geemap-colab {\n",
       "                    background-color: var(--colab-primary-surface-color, white);\n",
       "                }\n",
       "                    \n",
       "                .geemap-colab .jupyter-button {\n",
       "                    --jp-layout-color3: var(--colab-primary-surface-color, white);\n",
       "                }\n",
       "            </style>\n",
       "            "
      ],
      "text/plain": [
       "<IPython.core.display.HTML object>"
      ]
     },
     "metadata": {},
     "output_type": "display_data"
    },
    {
     "name": "stdout",
     "output_type": "stream",
     "text": [
      "['R_mean', 'G_mean', 'B_mean', 'N_mean', 'nd_mean', 'contrast_g_mean', 'corr_g_mean', 'entropy_g_mean', 'contrast_n_mean', 'corr_n_mean', 'entropy_n_mean', 'R', 'G', 'B', 'N', 'contrast_g', 'corr_g', 'entropy_g', 'contrast_n', 'corr_n', 'entropy_n', 'nd', 'nd_sd_neighborhood', 'nd_mean_neighborhood']\n"
     ]
    }
   ],
   "source": [
    "# generate NAIP layer \n",
    "naipEE = prepNAIP(aoi=aoi1, year=year,windowSize=windowSize)\n",
    "\n",
    "# normal the naip data\n",
    "# normalizedNAIP = normalize_by_maxes(img=naipEE, bandMaxes=bandMaxes)\n",
    "\n",
    "# produce the SNIC object \n",
    "snicData = snicOutputs(naip = naipEE,\n",
    "                       SNIC_SeedShape = SNIC_SeedShape, \n",
    "                       SNIC_SuperPixelSize = SNIC_SuperPixelSize, \n",
    "                       SNIC_Compactness = SNIC_Compactness, \n",
    "                       SNIC_Connectivity = SNIC_Connectivity,\n",
    "                       # nativeScaleOfImage = nativeScaleOfImage, \n",
    "                       bandsToUse_Cluster = bandsToUse_Cluster)\n",
    "geePrint(snicData.bandNames())\n"
   ]
  },
  {
   "cell_type": "code",
   "execution_count": 9,
   "id": "f7855879-0834-4fc4-b593-612f41f57d50",
   "metadata": {},
   "outputs": [
    {
     "data": {
      "text/html": [
       "\n",
       "            <style>\n",
       "                .geemap-dark {\n",
       "                    --jp-widgets-color: white;\n",
       "                    --jp-widgets-label-color: white;\n",
       "                    --jp-ui-font-color1: white;\n",
       "                    --jp-layout-color2: #454545;\n",
       "                    background-color: #383838;\n",
       "                }\n",
       "                    \n",
       "                .geemap-dark .jupyter-button {\n",
       "                    --jp-layout-color3: #383838;\n",
       "                }\n",
       "                \n",
       "                .geemap-colab {\n",
       "                    background-color: var(--colab-primary-surface-color, white);\n",
       "                }\n",
       "                    \n",
       "                .geemap-colab .jupyter-button {\n",
       "                    --jp-layout-color3: var(--colab-primary-surface-color, white);\n",
       "                }\n",
       "            </style>\n",
       "            "
      ],
      "text/plain": [
       "<IPython.core.display.HTML object>"
      ]
     },
     "metadata": {},
     "output_type": "display_data"
    },
    {
     "name": "stdout",
     "output_type": "stream",
     "text": [
      "['classification']\n"
     ]
    }
   ],
   "source": [
    "# apply the rf model to the cluster imagery \n",
    "classifiedClusters = applyRFModel(imagery=snicData, bands=bandsToUse_Cluster, classifier=rfCluster)\n",
    "geePrint(classifiedClusters.bandNames())\n",
    "\n",
    "# apply the rf model to the pixels \n",
    "classifiedPixels = applyRFModel(imagery=snicData, bands=bandsToUse_Pixel,classifier=rfPixel)\n",
    "# trim RF model \n",
    "classifiedPixelsTrim = applyRFModel(imagery=snicData, bands=vsurfNoCor,classifier=rfPixelTrim)\n",
    "\n",
    "# generate the ensamble model \n",
    "combinedModels = classifiedPixels.add(classifiedClusters)\n",
    "# reclass the image so it is a 0,1 value set \n",
    "from_list = [0, 1, 2]\n",
    "# A corresponding list of replacement values (10 becomes 1, 20 becomes 2, etc).\n",
    "to_list = [0, 0, 1]\n",
    "combinedModelsReclass =  combinedModels.remap(from_list, to_list, bandName='classification').clip(aoi1.geometry())\n",
    "# geePrint(combinedModelsReclass)"
   ]
  },
  {
   "cell_type": "code",
   "execution_count": 10,
   "id": "17250844-77ed-4bd6-8556-a971bf4f8050",
   "metadata": {},
   "outputs": [
    {
     "data": {
      "text/html": [
       "\n",
       "            <style>\n",
       "                .geemap-dark {\n",
       "                    --jp-widgets-color: white;\n",
       "                    --jp-widgets-label-color: white;\n",
       "                    --jp-ui-font-color1: white;\n",
       "                    --jp-layout-color2: #454545;\n",
       "                    background-color: #383838;\n",
       "                }\n",
       "                    \n",
       "                .geemap-dark .jupyter-button {\n",
       "                    --jp-layout-color3: #383838;\n",
       "                }\n",
       "                \n",
       "                .geemap-colab {\n",
       "                    background-color: var(--colab-primary-surface-color, white);\n",
       "                }\n",
       "                    \n",
       "                .geemap-colab .jupyter-button {\n",
       "                    --jp-layout-color3: var(--colab-primary-surface-color, white);\n",
       "                }\n",
       "            </style>\n",
       "            "
      ],
      "text/plain": [
       "<IPython.core.display.HTML object>"
      ]
     },
     "metadata": {},
     "output_type": "display_data"
    },
    {
     "data": {
      "application/vnd.jupyter.widget-view+json": {
       "model_id": "16d25da9ff51457db14a6508dee264b2",
       "version_major": 2,
       "version_minor": 0
      },
      "text/plain": [
       "Map(center=[42.3, -98], controls=(WidgetControl(options=['position', 'transparent_bg'], widget=SearchDataGUI(c…"
      ]
     },
     "execution_count": 10,
     "metadata": {},
     "output_type": "execute_result"
    }
   ],
   "source": [
    "# Set visualization parameters.\n",
    "vis_params = {\n",
    "    'min': 0,\n",
    "    'max': 1,\n",
    "    'palette': ['#f5f7f710', '#10c9a1'],\n",
    "}\n",
    "Map.addLayer(classifiedClusters, vis_params,'cluster Model')\n",
    "Map.addLayer(classifiedPixels, vis_params,'pixel Model')\n",
    "Map.addLayer(combinedModelsReclass, vis_params,'combined Model')\n",
    "Map.addLayer(classifiedPixelsTrim, vis_params,'trim pixel Model')\n",
    "\n",
    "Map"
   ]
  }
 ],
 "metadata": {
  "kernelspec": {
   "display_name": "Python 3 (ipykernel)",
   "language": "python",
   "name": "python3"
  },
  "language_info": {
   "codemirror_mode": {
    "name": "ipython",
    "version": 3
   },
   "file_extension": ".py",
   "mimetype": "text/x-python",
   "name": "python",
   "nbconvert_exporter": "python",
   "pygments_lexer": "ipython3",
   "version": "3.12.0"
  }
 },
 "nbformat": 4,
 "nbformat_minor": 5
}
