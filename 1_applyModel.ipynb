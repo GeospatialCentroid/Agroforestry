{
 "cells": [
  {
   "cell_type": "code",
   "execution_count": 1,
   "id": "54052850-7c55-4694-80ca-d9e2ebefb6f6",
   "metadata": {},
   "outputs": [],
   "source": [
    "import ee\n",
    "import geemap\n",
    "import geopandas as gpd\n",
    "import numpy as np\n",
    "from agroforestry.config import * \n",
    "from agroforestry.geeHelpers import *\n",
    "from agroforestry.naipProcessing import *\n",
    "from agroforestry.snicProcessing import *\n",
    "from agroforestry.randomForest import *\n",
    "from agroforestry.exportFunctions import *"
   ]
  },
  {
   "cell_type": "code",
   "execution_count": 2,
   "id": "53ada3ac-c3d6-478f-8f22-5649e36bcbba",
   "metadata": {},
   "outputs": [
    {
     "data": {
      "text/html": [
       "\n",
       "            <style>\n",
       "                .geemap-dark {\n",
       "                    --jp-widgets-color: white;\n",
       "                    --jp-widgets-label-color: white;\n",
       "                    --jp-ui-font-color1: white;\n",
       "                    --jp-layout-color2: #454545;\n",
       "                    background-color: #383838;\n",
       "                }\n",
       "                    \n",
       "                .geemap-dark .jupyter-button {\n",
       "                    --jp-layout-color3: #383838;\n",
       "                }\n",
       "                \n",
       "                .geemap-colab {\n",
       "                    background-color: var(--colab-primary-surface-color, white);\n",
       "                }\n",
       "                    \n",
       "                .geemap-colab .jupyter-button {\n",
       "                    --jp-layout-color3: var(--colab-primary-surface-color, white);\n",
       "                }\n",
       "            </style>\n",
       "            "
      ],
      "text/plain": [
       "<IPython.core.display.HTML object>"
      ]
     },
     "metadata": {},
     "output_type": "display_data"
    }
   ],
   "source": [
    "# establish connection with ee account. might require some additional configuration based on local machine \n",
    "try:\n",
    "        ee.Initialize()\n",
    "except Exception as e:\n",
    "        ee.Authenticate()\n",
    "        ee.Initialize()# i"
   ]
  },
  {
   "cell_type": "code",
   "execution_count": 3,
   "id": "9906f9bd-e141-4e73-97cb-798f34faab1d",
   "metadata": {},
   "outputs": [
    {
     "data": {
      "text/html": [
       "\n",
       "            <style>\n",
       "                .geemap-dark {\n",
       "                    --jp-widgets-color: white;\n",
       "                    --jp-widgets-label-color: white;\n",
       "                    --jp-ui-font-color1: white;\n",
       "                    --jp-layout-color2: #454545;\n",
       "                    background-color: #383838;\n",
       "                }\n",
       "                    \n",
       "                .geemap-dark .jupyter-button {\n",
       "                    --jp-layout-color3: #383838;\n",
       "                }\n",
       "                \n",
       "                .geemap-colab {\n",
       "                    background-color: var(--colab-primary-surface-color, white);\n",
       "                }\n",
       "                    \n",
       "                .geemap-colab .jupyter-button {\n",
       "                    --jp-layout-color3: var(--colab-primary-surface-color, white);\n",
       "                }\n",
       "            </style>\n",
       "            "
      ],
      "text/plain": [
       "<IPython.core.display.HTML object>"
      ]
     },
     "metadata": {},
     "output_type": "display_data"
    },
    {
     "data": {
      "text/html": [
       "<div>\n",
       "<style scoped>\n",
       "    .dataframe tbody tr th:only-of-type {\n",
       "        vertical-align: middle;\n",
       "    }\n",
       "\n",
       "    .dataframe tbody tr th {\n",
       "        vertical-align: top;\n",
       "    }\n",
       "\n",
       "    .dataframe thead th {\n",
       "        text-align: right;\n",
       "    }\n",
       "</style>\n",
       "<table border=\"1\" class=\"dataframe\">\n",
       "  <thead>\n",
       "    <tr style=\"text-align: right;\">\n",
       "      <th></th>\n",
       "      <th>geometry</th>\n",
       "      <th>Unique_ID</th>\n",
       "    </tr>\n",
       "  </thead>\n",
       "  <tbody>\n",
       "    <tr>\n",
       "      <th>0</th>\n",
       "      <td>POLYGON ((-98.31460 42.43488, -98.31460 42.608...</td>\n",
       "      <td>X12-555</td>\n",
       "    </tr>\n",
       "  </tbody>\n",
       "</table>\n",
       "</div>"
      ],
      "text/plain": [
       "                                            geometry Unique_ID\n",
       "0  POLYGON ((-98.31460 42.43488, -98.31460 42.608...   X12-555"
      ]
     },
     "execution_count": 3,
     "metadata": {},
     "output_type": "execute_result"
    }
   ],
   "source": [
    "# define the aoi\n",
    "# aoiID = initGridID # something to itorate over for now is defined based on the input training dataset \n",
    "# or manually define it for where you want to apply the model too\n",
    "# aoiID = \"X12-601\"\n",
    "# # this becomes the AOI to used in the prepNAIP function. I'll need to edit it so that it converts the input data into a bbox \n",
    "# gridSelect = grid.loc[grid.Unique_ID == aoiID]\n",
    "\n",
    "\n",
    "#Define bands to use\n",
    "bandsToUse = vsurfWithCor\n",
    "\n",
    "# select multiple grids level 1 \n",
    "## want to pull thing from the csv rather than write it out. \n",
    "aoiID = [\"X12-555\",\"X12-556\",\"X12-557\",\"X12-600\",\"X12-601\",\"X12-602\",\"X12-645\",\"X12-646\",\"X12-647\"]\n",
    "gridSelect =  grid.loc[grid.Unique_ID .isin(aoiID)].dissolve()\n",
    "# gridSelect = grid.loc[grid.Unique_ID in aoiID]\n",
    "# dissolve into a single object\n",
    "gridSelect\n",
    "\n",
    "\n",
    "\n"
   ]
  },
  {
   "cell_type": "code",
   "execution_count": 4,
   "id": "23273027",
   "metadata": {},
   "outputs": [
    {
     "data": {
      "text/html": [
       "\n",
       "            <style>\n",
       "                .geemap-dark {\n",
       "                    --jp-widgets-color: white;\n",
       "                    --jp-widgets-label-color: white;\n",
       "                    --jp-ui-font-color1: white;\n",
       "                    --jp-layout-color2: #454545;\n",
       "                    background-color: #383838;\n",
       "                }\n",
       "                    \n",
       "                .geemap-dark .jupyter-button {\n",
       "                    --jp-layout-color3: #383838;\n",
       "                }\n",
       "                \n",
       "                .geemap-colab {\n",
       "                    background-color: var(--colab-primary-surface-color, white);\n",
       "                }\n",
       "                    \n",
       "                .geemap-colab .jupyter-button {\n",
       "                    --jp-layout-color3: var(--colab-primary-surface-color, white);\n",
       "                }\n",
       "            </style>\n",
       "            "
      ],
      "text/plain": [
       "<IPython.core.display.HTML object>"
      ]
     },
     "metadata": {},
     "output_type": "display_data"
    },
    {
     "data": {
      "text/plain": [
       "['X12-555',\n",
       " 'X12-556',\n",
       " 'X12-557',\n",
       " 'X12-600',\n",
       " 'X12-601',\n",
       " 'X12-602',\n",
       " 'X12-645',\n",
       " 'X12-646',\n",
       " 'X12-647']"
      ]
     },
     "execution_count": 4,
     "metadata": {},
     "output_type": "execute_result"
    }
   ],
   "source": [
    "# convert to a gee object \n",
    "aoi1 = geemap.gdf_to_ee(gridSelect)\n",
    "# create a sub grid for downloading \n",
    "# downloadGrids = geemap.fishnet(aoi1.geometry(), rows=6, cols=4, delta=0)\n",
    "aoiID"
   ]
  },
  {
   "cell_type": "code",
   "execution_count": 5,
   "id": "5f7155e3-f818-4872-9540-61f7ba229dc8",
   "metadata": {},
   "outputs": [
    {
     "data": {
      "text/html": [
       "\n",
       "            <style>\n",
       "                .geemap-dark {\n",
       "                    --jp-widgets-color: white;\n",
       "                    --jp-widgets-label-color: white;\n",
       "                    --jp-ui-font-color1: white;\n",
       "                    --jp-layout-color2: #454545;\n",
       "                    background-color: #383838;\n",
       "                }\n",
       "                    \n",
       "                .geemap-dark .jupyter-button {\n",
       "                    --jp-layout-color3: #383838;\n",
       "                }\n",
       "                \n",
       "                .geemap-colab {\n",
       "                    background-color: var(--colab-primary-surface-color, white);\n",
       "                }\n",
       "                    \n",
       "                .geemap-colab .jupyter-button {\n",
       "                    --jp-layout-color3: var(--colab-primary-surface-color, white);\n",
       "                }\n",
       "            </style>\n",
       "            "
      ],
      "text/plain": [
       "<IPython.core.display.HTML object>"
      ]
     },
     "metadata": {},
     "output_type": "display_data"
    },
    {
     "data": {
      "application/vnd.jupyter.widget-view+json": {
       "model_id": "d627be8aabe249d3be445ba1f4bf541b",
       "version_major": 2,
       "version_minor": 0
      },
      "text/plain": [
       "Map(center=[42.3, -98], controls=(WidgetControl(options=['position', 'transparent_bg'], widget=SearchDataGUI(c…"
      ]
     },
     "execution_count": 5,
     "metadata": {},
     "output_type": "execute_result"
    }
   ],
   "source": [
    "Map = geemap.Map(center=(42.3, -98), zoom=10)\n",
    "Map.add_basemap('HYBRID')\n",
    "Map.addLayer(aoi1, {'color': '000000ff',\n",
    "                    'width': 2,\n",
    "                    'lineType': 'solid'},\n",
    "             'area of interest')\n",
    "# Map.addLayer(downloadGrids, {'color': '000000ff',\n",
    "#                     'width': 2,\n",
    "#                     'lineType': 'solid'},\n",
    "#              'area of subgrid')\n",
    "\n",
    "Map"
   ]
  },
  {
   "cell_type": "code",
   "execution_count": 6,
   "id": "1839f638-3811-43a4-bdcb-db5397b38bfa",
   "metadata": {},
   "outputs": [
    {
     "data": {
      "text/html": [
       "\n",
       "            <style>\n",
       "                .geemap-dark {\n",
       "                    --jp-widgets-color: white;\n",
       "                    --jp-widgets-label-color: white;\n",
       "                    --jp-ui-font-color1: white;\n",
       "                    --jp-layout-color2: #454545;\n",
       "                    background-color: #383838;\n",
       "                }\n",
       "                    \n",
       "                .geemap-dark .jupyter-button {\n",
       "                    --jp-layout-color3: #383838;\n",
       "                }\n",
       "                \n",
       "                .geemap-colab {\n",
       "                    background-color: var(--colab-primary-surface-color, white);\n",
       "                }\n",
       "                    \n",
       "                .geemap-colab .jupyter-button {\n",
       "                    --jp-layout-color3: var(--colab-primary-surface-color, white);\n",
       "                }\n",
       "            </style>\n",
       "            "
      ],
      "text/plain": [
       "<IPython.core.display.HTML object>"
      ]
     },
     "metadata": {},
     "output_type": "display_data"
    }
   ],
   "source": [
    "# import training dataset \n",
    "# trainingData = gpd.read_file(filename=\"data/processed/trainingdataset_withClasses.geojson\")\n",
    "trainingData = gpd.read_file(filename=\"data/processed/\" + str(initGridID) +\"/\"+ \"agroforestrySamplingData_\"+str(year)+\".geojson\") # initGridID defined int he config file\n",
    "\n",
    "# print(type(trainingData))\n",
    "# select the training class of interest and drop unnecessary columns\n",
    "trainingSubset =  trainingData[trainingData.sampleStrat == \"original\"] ## will want to drop this as we wont have multiple sampling categories \n",
    "# print(trainingSubset)\n",
    "# convert to ee object\n",
    "pointsEE = geemap.gdf_to_ee(gdf=trainingSubset)\n",
    "# subset testing and training data \n",
    "training = pointsEE.filter(ee.Filter.gt('random', test_train_ratio))\n",
    "testing = pointsEE.filter(ee.Filter.lte('random',test_train_ratio))\n",
    "# traing the rf model \n",
    "# rfCluster = trainRFModel(bands=bandsToUse_Cluster, inputFeature=training, nTrees=nTrees,setSeed=setSeed)\n",
    "# rfPixel = trainRFModel(bands=bandsToUse_Pixel, inputFeature=training, nTrees=nTrees,setSeed=setSeed)\n",
    "rfPixelTrim = trainRFModel(bands=bandsToUse,  inputFeature=training, nTrees=nTrees,setSeed=setSeed )\n",
    "## run validation using the testing set \n",
    "# clusterValidation = testRFClassifier(classifier=rfCluster, testingData= testing)\n",
    "# pixelValidation = testRFClassifier(classifier=rfPixel, testingData= testing)\n",
    "pixelValidationTrim = testRFClassifier(classifier=rfPixelTrim, testingData= testing)\n"
   ]
  },
  {
   "cell_type": "code",
   "execution_count": null,
   "id": "6bd4e041",
   "metadata": {},
   "outputs": [],
   "source": []
  },
  {
   "cell_type": "code",
   "execution_count": 7,
   "id": "8d1797fe-ae8f-4ff6-905e-a90b1322844a",
   "metadata": {},
   "outputs": [
    {
     "data": {
      "text/html": [
       "\n",
       "            <style>\n",
       "                .geemap-dark {\n",
       "                    --jp-widgets-color: white;\n",
       "                    --jp-widgets-label-color: white;\n",
       "                    --jp-ui-font-color1: white;\n",
       "                    --jp-layout-color2: #454545;\n",
       "                    background-color: #383838;\n",
       "                }\n",
       "                    \n",
       "                .geemap-dark .jupyter-button {\n",
       "                    --jp-layout-color3: #383838;\n",
       "                }\n",
       "                \n",
       "                .geemap-colab {\n",
       "                    background-color: var(--colab-primary-surface-color, white);\n",
       "                }\n",
       "                    \n",
       "                .geemap-colab .jupyter-button {\n",
       "                    --jp-layout-color3: var(--colab-primary-surface-color, white);\n",
       "                }\n",
       "            </style>\n",
       "            "
      ],
      "text/plain": [
       "<IPython.core.display.HTML object>"
      ]
     },
     "metadata": {},
     "output_type": "display_data"
    },
    {
     "name": "stdout",
     "output_type": "stream",
     "text": [
      "0.9619771863117871\n"
     ]
    }
   ],
   "source": [
    "# cant print tuple with this function\n",
    "geePrint(pixelValidationTrim)"
   ]
  },
  {
   "cell_type": "code",
   "execution_count": 8,
   "id": "8aab0ce4",
   "metadata": {},
   "outputs": [
    {
     "data": {
      "text/html": [
       "\n",
       "            <style>\n",
       "                .geemap-dark {\n",
       "                    --jp-widgets-color: white;\n",
       "                    --jp-widgets-label-color: white;\n",
       "                    --jp-ui-font-color1: white;\n",
       "                    --jp-layout-color2: #454545;\n",
       "                    background-color: #383838;\n",
       "                }\n",
       "                    \n",
       "                .geemap-dark .jupyter-button {\n",
       "                    --jp-layout-color3: #383838;\n",
       "                }\n",
       "                \n",
       "                .geemap-colab {\n",
       "                    background-color: var(--colab-primary-surface-color, white);\n",
       "                }\n",
       "                    \n",
       "                .geemap-colab .jupyter-button {\n",
       "                    --jp-layout-color3: var(--colab-primary-surface-color, white);\n",
       "                }\n",
       "            </style>\n",
       "            "
      ],
      "text/plain": [
       "<IPython.core.display.HTML object>"
      ]
     },
     "metadata": {},
     "output_type": "display_data"
    },
    {
     "data": {
      "text/plain": [
       "2020"
      ]
     },
     "execution_count": 8,
     "metadata": {},
     "output_type": "execute_result"
    }
   ],
   "source": [
    "\n",
    "# define export aoi\n",
    "# exportAOI = ee.Feature(downloadGrids.toList(50).get(4))\n",
    "# geePrint(exportAOI)\n",
    "# exportAOI.geometry()\n",
    "year\n"
   ]
  },
  {
   "cell_type": "code",
   "execution_count": 9,
   "id": "3370868c-96ff-489e-9bae-157427b8a988",
   "metadata": {},
   "outputs": [
    {
     "data": {
      "text/html": [
       "\n",
       "            <style>\n",
       "                .geemap-dark {\n",
       "                    --jp-widgets-color: white;\n",
       "                    --jp-widgets-label-color: white;\n",
       "                    --jp-ui-font-color1: white;\n",
       "                    --jp-layout-color2: #454545;\n",
       "                    background-color: #383838;\n",
       "                }\n",
       "                    \n",
       "                .geemap-dark .jupyter-button {\n",
       "                    --jp-layout-color3: #383838;\n",
       "                }\n",
       "                \n",
       "                .geemap-colab {\n",
       "                    background-color: var(--colab-primary-surface-color, white);\n",
       "                }\n",
       "                    \n",
       "                .geemap-colab .jupyter-button {\n",
       "                    --jp-layout-color3: var(--colab-primary-surface-color, white);\n",
       "                }\n",
       "            </style>\n",
       "            "
      ],
      "text/plain": [
       "<IPython.core.display.HTML object>"
      ]
     },
     "metadata": {},
     "output_type": "display_data"
    },
    {
     "name": "stdout",
     "output_type": "stream",
     "text": [
      "{'type': 'Image', 'bands': [{'id': 'classification', 'data_type': {'type': 'PixelType', 'precision': 'int', 'min': 0, 'max': 255}, 'crs': 'EPSG:4326', 'crs_transform': [1, 0, 0, 0, 1, 0]}]}\n"
     ]
    }
   ],
   "source": [
    "### \n",
    "# Generate model based on year define in config \n",
    "\n",
    "# generate NAIP layer \n",
    "naipEE = prepNAIP(aoi=aoi1, year=year,windowSize=windowSize)\n",
    "\n",
    "# normal the naip data\n",
    "# normalizedNAIP = normalize_by_maxes(img=naipEE, bandMaxes=bandMaxes)\n",
    "\n",
    "# produce the SNIC object \n",
    "## filtering the image bands right away based on the single model output \n",
    "snicData = snicOutputs(naip = naipEE,\n",
    "                       SNIC_SeedShape = SNIC_SeedShape, \n",
    "                       SNIC_SuperPixelSize = SNIC_SuperPixelSize, \n",
    "                       SNIC_Compactness = SNIC_Compactness, \n",
    "                       SNIC_Connectivity = SNIC_Connectivity,\n",
    "                       # nativeScaleOfImage = nativeScaleOfImage, \n",
    "                       bandsToUse_Cluster = bandsToUse_Cluster).select(bandsToUse)\n",
    "# apply the model and clip to aoi and reclass to unsigned 8bit image \n",
    "classifiedPixelsTrim = applyRFModel(imagery=snicData, bands=bandsToUse,classifier=rfPixelTrim).clip(aoi1).uint8()\n",
    "# produce image for map \n",
    "demoImage = classifiedPixelsTrim #.clip(exportAOI)\n",
    "# demoImage = classifiedPixelsTrim.clip(ee.Feature(downloadGrids.toList(50).get(10))).reproject(crs='EPSG:4326', scale=5)\n",
    "\n",
    "geePrint(demoImage)\n"
   ]
  },
  {
   "cell_type": "code",
   "execution_count": 10,
   "id": "01141bc1",
   "metadata": {},
   "outputs": [
    {
     "data": {
      "text/html": [
       "\n",
       "            <style>\n",
       "                .geemap-dark {\n",
       "                    --jp-widgets-color: white;\n",
       "                    --jp-widgets-label-color: white;\n",
       "                    --jp-ui-font-color1: white;\n",
       "                    --jp-layout-color2: #454545;\n",
       "                    background-color: #383838;\n",
       "                }\n",
       "                    \n",
       "                .geemap-dark .jupyter-button {\n",
       "                    --jp-layout-color3: #383838;\n",
       "                }\n",
       "                \n",
       "                .geemap-colab {\n",
       "                    background-color: var(--colab-primary-surface-color, white);\n",
       "                }\n",
       "                    \n",
       "                .geemap-colab .jupyter-button {\n",
       "                    --jp-layout-color3: var(--colab-primary-surface-color, white);\n",
       "                }\n",
       "            </style>\n",
       "            "
      ],
      "text/plain": [
       "<IPython.core.display.HTML object>"
      ]
     },
     "metadata": {},
     "output_type": "display_data"
    }
   ],
   "source": [
    "# print\n",
    "# vsurfNoCor\n",
    "# vsurfWithCor"
   ]
  },
  {
   "cell_type": "code",
   "execution_count": 11,
   "id": "17250844-77ed-4bd6-8556-a971bf4f8050",
   "metadata": {},
   "outputs": [
    {
     "data": {
      "text/html": [
       "\n",
       "            <style>\n",
       "                .geemap-dark {\n",
       "                    --jp-widgets-color: white;\n",
       "                    --jp-widgets-label-color: white;\n",
       "                    --jp-ui-font-color1: white;\n",
       "                    --jp-layout-color2: #454545;\n",
       "                    background-color: #383838;\n",
       "                }\n",
       "                    \n",
       "                .geemap-dark .jupyter-button {\n",
       "                    --jp-layout-color3: #383838;\n",
       "                }\n",
       "                \n",
       "                .geemap-colab {\n",
       "                    background-color: var(--colab-primary-surface-color, white);\n",
       "                }\n",
       "                    \n",
       "                .geemap-colab .jupyter-button {\n",
       "                    --jp-layout-color3: var(--colab-primary-surface-color, white);\n",
       "                }\n",
       "            </style>\n",
       "            "
      ],
      "text/plain": [
       "<IPython.core.display.HTML object>"
      ]
     },
     "metadata": {},
     "output_type": "display_data"
    },
    {
     "data": {
      "application/vnd.jupyter.widget-view+json": {
       "model_id": "d627be8aabe249d3be445ba1f4bf541b",
       "version_major": 2,
       "version_minor": 0
      },
      "text/plain": [
       "Map(center=[42.3, -98], controls=(WidgetControl(options=['position', 'transparent_bg'], widget=SearchDataGUI(c…"
      ]
     },
     "execution_count": 11,
     "metadata": {},
     "output_type": "execute_result"
    }
   ],
   "source": [
    "# Set visualization parameters.\n",
    "vis_params = {\n",
    "    'min': 0,\n",
    "    'max': 1,\n",
    "    'palette': ['#f5f7f710', '#10c9a1'],\n",
    "}\n",
    "# add features to the map\n",
    "Map.addLayer(demoImage, vis_params, str(year) + ' model')\n",
    "# Map.addLayer(demoImage2010, vis_params,'2010 model',False)\n",
    "# Map.addLayer(demoImage2020, vis_params,'2020 model',False)\n",
    "\n",
    "Map"
   ]
  },
  {
   "cell_type": "code",
   "execution_count": 12,
   "id": "c004e7d4",
   "metadata": {},
   "outputs": [
    {
     "data": {
      "text/html": [
       "\n",
       "            <style>\n",
       "                .geemap-dark {\n",
       "                    --jp-widgets-color: white;\n",
       "                    --jp-widgets-label-color: white;\n",
       "                    --jp-ui-font-color1: white;\n",
       "                    --jp-layout-color2: #454545;\n",
       "                    background-color: #383838;\n",
       "                }\n",
       "                    \n",
       "                .geemap-dark .jupyter-button {\n",
       "                    --jp-layout-color3: #383838;\n",
       "                }\n",
       "                \n",
       "                .geemap-colab {\n",
       "                    background-color: var(--colab-primary-surface-color, white);\n",
       "                }\n",
       "                    \n",
       "                .geemap-colab .jupyter-button {\n",
       "                    --jp-layout-color3: var(--colab-primary-surface-color, white);\n",
       "                }\n",
       "            </style>\n",
       "            "
      ],
      "text/plain": [
       "<IPython.core.display.HTML object>"
      ]
     },
     "metadata": {},
     "output_type": "display_data"
    }
   ],
   "source": [
    "# export image to asset \n",
    "task = ee.batch.Export.image.toAsset(\n",
    "  image = demoImage,\n",
    "  description = 'fullAOI_level1surround2020',\n",
    "  assetId = \"projects/agroforestry2023/assets/testExport_10grids2020\",\n",
    "  region=aoi1.geometry(),\n",
    "  scale=1,\n",
    "  crs= demoImage.projection(),\n",
    "  maxPixels = 1e13\n",
    ")\n",
    "task.start()"
   ]
  },
  {
   "cell_type": "code",
   "execution_count": null,
   "id": "ffe992e5",
   "metadata": {},
   "outputs": [],
   "source": [
    "# track the task \n",
    "import time\n",
    "while task.active():\n",
    "  print('Polling for task (id: {}).'.format(task.id))\n",
    "  time.sleep(5)"
   ]
  },
  {
   "cell_type": "code",
   "execution_count": null,
   "id": "681427d4",
   "metadata": {},
   "outputs": [],
   "source": [
    "\n",
    "# image_new_class = demoImage.select('classification')\n",
    "# geePrint(image_new_class)\n",
    "\n",
    "# export_image = ee.batch.Export.image.toDrive(\n",
    "#   image = image_new_class,\n",
    "#   region = exportAOI.geometry(),\n",
    "#   description = 'GTB_v',\n",
    "#   folder = 'agroforestry',\n",
    "#   scale = 30,\n",
    "#   # crs = img_crs,\n",
    "#   maxPixels = 1e13\n",
    "#   )\n",
    "  \n",
    "#   #Check how many existing tasks are running and take a break of 5 mins if it's >10\n",
    "#   # maximum_no_of_tasks(10, 5*60)\n",
    "#   #Send next task.\n",
    "# export_image.start()\n",
    "\n",
    "\n",
    "# task =  ee.batch.Export.image.toDrive(\n",
    "#     image=demoImage.select(\"classification\"),\n",
    "#     scale= 4,\n",
    "#     description='testExport_0124',\n",
    "#     folder='agroforestry',\n",
    "#     # region= clipArea.geometry()\n",
    "#     # maxPixels = 1e10\n",
    "#     )\n",
    "# task.start()\n",
    "        "
   ]
  },
  {
   "cell_type": "code",
   "execution_count": null,
   "id": "4c472af2",
   "metadata": {},
   "outputs": [],
   "source": [
    "# # test the export process \n",
    "# # A Landsat 8 surface reflectance image.\n",
    "# image = ee.Image(\n",
    "#     'LANDSAT/LC08/C02/T1_L2/LC08_044034_20210508'\n",
    "# ).select(['SR_B.'])  # reflectance bands\n",
    "\n",
    "# # A region of interest.\n",
    "# region = ee.Geometry.BBox(-122.24, 37.13, -122.11, 37.20)\n",
    "\n",
    "# # Set the export \"scale\" and \"crs\" parameters.\n",
    "# task = ee.batch.Export.image.toDrive(\n",
    "#     image=image,\n",
    "#     description='image_export',\n",
    "#     folder='agroforestry',\n",
    "#     region=region,\n",
    "#     scale=30,\n",
    "#     crs='EPSG:5070'\n",
    "# )\n",
    "# task.start()\n"
   ]
  },
  {
   "cell_type": "code",
   "execution_count": null,
   "id": "0ea616f7",
   "metadata": {},
   "outputs": [],
   "source": [
    "geePrint(demoImage)"
   ]
  }
 ],
 "metadata": {
  "kernelspec": {
   "display_name": "Python 3 (ipykernel)",
   "language": "python",
   "name": "python3"
  },
  "language_info": {
   "codemirror_mode": {
    "name": "ipython",
    "version": 3
   },
   "file_extension": ".py",
   "mimetype": "text/x-python",
   "name": "python",
   "nbconvert_exporter": "python",
   "pygments_lexer": "ipython3",
   "version": "3.11.7"
  }
 },
 "nbformat": 4,
 "nbformat_minor": 5
}
