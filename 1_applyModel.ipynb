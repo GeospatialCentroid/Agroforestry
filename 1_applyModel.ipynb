{
 "cells": [
  {
   "cell_type": "code",
   "execution_count": null,
   "id": "54052850-7c55-4694-80ca-d9e2ebefb6f6",
   "metadata": {},
   "outputs": [],
   "source": [
    "import ee\n",
    "import geemap\n",
    "import geopandas as gpd\n",
    "import numpy as np\n",
    "from agroforestry.config import * \n",
    "from agroforestry.geeHelpers import *\n",
    "from agroforestry.naipProcessing import *\n",
    "from agroforestry.snicProcessing import *\n",
    "from agroforestry.randomForest import *\n",
    "from agroforestry.exportFunctions import *"
   ]
  },
  {
   "cell_type": "code",
   "execution_count": null,
   "id": "53ada3ac-c3d6-478f-8f22-5649e36bcbba",
   "metadata": {},
   "outputs": [],
   "source": [
    "# establish connection with ee account. might require some additional configuration based on local machine \n",
    "try:\n",
    "        ee.Initialize(project='agroforestry2023')\n",
    "except Exception as e:\n",
    "        ee.Authenticate()\n",
    "        ee.Initialize()# i"
   ]
  },
  {
   "cell_type": "code",
   "execution_count": null,
   "id": "ae41bd20",
   "metadata": {},
   "outputs": [],
   "source": [
    "# # 2010 models to rerun \n",
    "models10 = [\"X12-83\", \"X12-83\", \"X12-83\", \"X12-83\", \"X12-83\", \"X12-83\", \"X12-83\", \"X12-150\",\n",
    " \"X12-594\", \"X12-594\", \"X12-594\", \"X12-594\", \"X12-594\", \"X12-594\",  \"X12-615\",\n",
    " \"X12-594\"]\n",
    "ranGrid10 = [ \"X12-1\",\"X12-2\",\"X12-3\",\"X12-4\",\"X12-5\",\"X12-6\", \n",
    "\"X12-7\",\"X12-336\", \"X12-414\", \"X12-415\", \"X12-592\", \"X12-637\",\n",
    "\"X12-682\",\"X12-725\",\"X12-740\",\"X12-766\"]\n",
    "# # 2016 models to rerun \n",
    "# models16 = [\"X12-150\", \"X12-594\", \"X12-594\", \"X12-594\",\"X12-594\",\n",
    "#  \"X12-594\",\"X12-594\", \"X12-615\",\"X12-615\"  ]\n",
    "# ranGrid16 = [\"X12-336\",\"X12-414\",\"X12-415\",\"X12-592\",\"X12-637\",\n",
    "# \"X12-682\",\"X12-725\", \"X12-740\", \"X12-766\"]\n",
    "# # 2020 models to rerun \n",
    "# models20 = [\"X12-150\", \"X12-615\"]\n",
    "# ranGrid20 = [\"X12-336\",\"X12-740\"]\n"
   ]
  },
  {
   "cell_type": "code",
   "execution_count": null,
   "id": "9906f9bd-e141-4e73-97cb-798f34faab1d",
   "metadata": {},
   "outputs": [],
   "source": [
    "# define the aoi\n",
    "aoiID = \"X12-766\" # something to itorate over for now is defined based on the input training dataset \n",
    "year = 2010\n",
    "# or manually define it for where you want to apply the model too\n",
    "# aoiID = \"X12-601\"\n",
    "# # this becomes the AOI to used in the prepNAIP function. I'll need to edit it so that it converts the input data into a bbox \n",
    "gridSelect = grid.loc[grid.Unique_ID == aoiID]\n",
    "# manual selection \n",
    "# gridSelect = grid.loc[grid.Unique_ID == \"X12-400\"]\n",
    "\n",
    "\n",
    "#Define bands to use\n",
    "### can change this to a manually defined [] of variable names \n",
    "# bandsToUse = vsurfWithCor\n",
    "\n",
    "# define standard variable set \n",
    "bandsToUse = [\"contrast_n_mean\", \"entropy_n_mean\", \"entropy_n\", \n",
    "\"entropy_g_mean\",\"nd_mean_neighborhood\",\"contrast_n\",\n",
    "\"entropy_g\",\"nd_mean\",\"contrast_g_mean\",\"contrast_g\"] \n",
    "\n",
    "\n",
    "# select multiple grids level 1 \n",
    "## want to pull thing from the csv rather than write it out. \n",
    "# aoiID = grid24\n",
    "# gridSelect =  grid.loc[grid.Unique_ID.isin(grid36.Unique_ID)].dissolve()\n",
    "# gridSelect = \"X12-400\"\n",
    "# after the desolve this gets assign a unique id some way. Might want to assign it the initGridID instead \n",
    "# might want to \n",
    "# len(gridSelect.Unique_ID)\n",
    "\n"
   ]
  },
  {
   "cell_type": "code",
   "execution_count": null,
   "id": "9bbc927f",
   "metadata": {},
   "outputs": [],
   "source": [
    "gridSelect\n"
   ]
  },
  {
   "cell_type": "code",
   "execution_count": null,
   "id": "23273027",
   "metadata": {},
   "outputs": [],
   "source": [
    "# convert to a gee object \n",
    "aoi1 = geemap.gdf_to_ee(gridSelect)\n",
    "# create a sub grid for downloading \n",
    "# downloadGrids = geemap.fishnet(aoi1.geometry(), rows=6, cols=4, delta=0)\n",
    "aoi1\n"
   ]
  },
  {
   "cell_type": "code",
   "execution_count": null,
   "id": "5f7155e3-f818-4872-9540-61f7ba229dc8",
   "metadata": {},
   "outputs": [],
   "source": [
    "Map = geemap.Map(center=(42.3, -98), zoom=10)\n",
    "Map.add_basemap('HYBRID')\n",
    "Map.addLayer(aoi1, {'color': '000000ff',\n",
    "                    'width': 2,\n",
    "                    'lineType': 'solid'},\n",
    "             'area of interest')\n",
    "# Map.addLayer(downloadGrids, {'color': '000000ff',\n",
    "#                     'width': 2,\n",
    "#                     'lineType': 'solid'},\n",
    "#              'area of subgrid')\n",
    "\n",
    "Map"
   ]
  },
  {
   "cell_type": "code",
   "execution_count": null,
   "id": "1839f638-3811-43a4-bdcb-db5397b38bfa",
   "metadata": {},
   "outputs": [],
   "source": [
    "# import training dataset \n",
    "# trainingData = gpd.read_file(filename=\"data/processed/trainingdataset_withClasses.geojson\")\n",
    "trainingData = gpd.read_file(filename=\"data/processed/\" + str(initGridID) +\"/\"+ \"agroforestrySamplingData_\"+str(year)+\".geojson\") # initGridID defined int he config file\n",
    "\n",
    "# divide the data into test train spilts \n",
    "trainingData = trainingData.sample(frac = 1)\n",
    "# get rows \n",
    "total_rows = trainingData.shape[0]\n",
    "# get train size \n",
    "train_size = int(total_rows*test_train_ratio)\n",
    " \n",
    "# Split data into test and train\n",
    "train = trainingData[0:train_size]\n",
    "test = trainingData[train_size:]\n",
    "# define the GEE objects\n",
    "training = geemap.gdf_to_ee(gdf=train)\n",
    "testing = geemap.gdf_to_ee(gdf=test)\n",
    "\n",
    "# # print(type(trainingData))\n",
    "# # select the training class of interest and drop unnecessary columns\n",
    "# trainingSubset = trainingData\n",
    "# # trainingSubset =  trainingData[trainingData.sampleStrat == \"original\"] ## will want to drop this as we wont have multiple sampling categories \n",
    "# # print(trainingSubset)\n",
    "# # convert to ee object\n",
    "# pointsEE = geemap.gdf_to_ee(gdf=trainingSubset)\n",
    "# # subset testing and training data \n",
    "# training = pointsEE.filter(ee.Filter.gt('random', test_train_ratio))\n",
    "# testing = pointsEE.filter(ee.Filter.lte('random',test_train_ratio))\n",
    "# traing the rf model \n",
    "# rfCluster = trainRFModel(bands=bandsToUse_Cluster, inputFeature=training, nTrees=nTrees,setSeed=setSeed)\n",
    "# rfPixel = trainRFModel(bands=bandsToUse_Pixel, inputFeature=training, nTrees=nTrees,setSeed=setSeed)\n",
    "rfPixelTrim = trainRFModel(bands=bandsToUse,  inputFeature=training, nTrees=nTrees,setSeed=setSeed )\n",
    "## run validation using the testing set \n",
    "# clusterValidation = testRFClassifier(classifier=rfCluster, testingData= testing)\n",
    "# pixelValidation = testRFClassifier(classifier=rfPixel, testingData= testing)\n",
    "pixelValidationTrim = testRFClassifier(classifier=rfPixelTrim, testingData= testing)\n",
    "print(trainingData)"
   ]
  },
  {
   "cell_type": "code",
   "execution_count": null,
   "id": "6bd4e041",
   "metadata": {},
   "outputs": [],
   "source": [
    "geePrint(training)\n"
   ]
  },
  {
   "cell_type": "code",
   "execution_count": null,
   "id": "8aab0ce4",
   "metadata": {},
   "outputs": [],
   "source": [
    "\n",
    "# define export aoi\n",
    "# exportAOI = ee.Feature(downloadGrids.toList(50).get(4))\n",
    "# geePrint(exportAOI)\n",
    "# exportAOI.geometry()\n",
    "year \n",
    "\n"
   ]
  },
  {
   "cell_type": "code",
   "execution_count": null,
   "id": "3370868c-96ff-489e-9bae-157427b8a988",
   "metadata": {},
   "outputs": [],
   "source": [
    "### \n",
    "# Generate model based on year define in config \n",
    "\n",
    "# generate NAIP layer \n",
    "naipEE = prepNAIP(aoi=aoi1, year=year,windowSize=windowSize)\n",
    "# geePrint(naipEE.bandNames())\n",
    "# normal the naip data\n",
    "# normalizedNAIP = normalize_by_maxes(img=naipEE, bandMaxes=bandMaxes)\n",
    "\n",
    "# produce the SNIC object \n",
    "## filtering the image bands right away based on the single model output \n",
    "snicData = snicOutputs(naip = naipEE,\n",
    "                       SNIC_SeedShape = SNIC_SeedShape, \n",
    "                       SNIC_SuperPixelSize = SNIC_SuperPixelSize, \n",
    "                       SNIC_Compactness = SNIC_Compactness, \n",
    "                       SNIC_Connectivity = SNIC_Connectivity,\n",
    "                       # nativeScaleOfImage = nativeScaleOfImage, \n",
    "                       bandsToUse_Cluster = bandsToUse_Cluster).select(bandsToUse)\n",
    "# apply the model and clip to aoi and reclass to unsigned 8bit image \n",
    "classifiedPixelsTrim = applyRFModel(imagery=snicData, bands=bandsToUse,classifier=rfPixelTrim).clip(aoi1).uint8()\n",
    "# produce image for map \n",
    "demoImage = classifiedPixelsTrim #.clip(exportAOI)\n",
    "# demoImage = classifiedPixelsTrim.clip(ee.Feature(downloadGrids.toList(50).get(10))).reproject(crs='EPSG:4326', scale=5)\n",
    "\n",
    "geePrint(demoImage)\n"
   ]
  },
  {
   "cell_type": "code",
   "execution_count": null,
   "id": "01141bc1",
   "metadata": {},
   "outputs": [],
   "source": []
  },
  {
   "cell_type": "code",
   "execution_count": null,
   "id": "17250844-77ed-4bd6-8556-a971bf4f8050",
   "metadata": {},
   "outputs": [],
   "source": [
    "# Set visualization parameters.\n",
    "vis_params = {\n",
    "    'min': 0,\n",
    "    'max': 1,\n",
    "    'palette': ['#f5f7f710', '#10c9a1'],\n",
    "}\n",
    "# add features to the map\n",
    "Map.addLayer(demoImage, vis_params, str(year) + ' model')\n",
    "\n",
    "\n",
    "Map"
   ]
  },
  {
   "cell_type": "code",
   "execution_count": null,
   "id": "2116df54",
   "metadata": {},
   "outputs": [],
   "source": [
    "export_params = {\n",
    "'image': demoImage,\n",
    "'description': str(aoiID) + \"_\" + str(year)  +\"_cleanup\",  # Task name (appears in GEE Tasks tab)\n",
    "'folder': 'aagroforestry/imageCleanup/',  # Google Drive folder to export to\n",
    "'scale': 1,  # Pixel resolution (in meters)\n",
    "'region': aoi1.geometry(),  # Export area (image bounds)\n",
    "# 'fileFormat': 'GeoTIFF',  # Output file format\n",
    "# 'crs': naipa.projection(),       # Optional: Coordinate Reference System\n",
    "# 'crsTransform': [30, 0, -2493045, 0, -30, 3310005], # Optional: CRS transform\n",
    "'maxPixels': 1e13,        # Optional: Increase for large exports\n",
    "}\n",
    "\n",
    "# 3. Create and Start the Export Task\n",
    "task = ee.batch.Export.image.toDrive(**export_params)\n",
    "\n",
    "task.start()"
   ]
  },
  {
   "cell_type": "code",
   "execution_count": null,
   "id": "c004e7d4",
   "metadata": {},
   "outputs": [],
   "source": [
    "#this will produce a asset \n",
    "\n",
    "\n",
    "# # export image to asset \n",
    "# task = ee.batch.Export.image.toAsset(\n",
    "#   image = demoImage,\n",
    "#   description = str(initGridID) + \"_\" + str(year) + \"_36grid\",\n",
    "#   assetId = \"projects/agroforestry2023/assets/\"+ str(initGridID) + \"_\" + str(year) + \"_36grid\",\n",
    "#   region=aoi1.geometry(),\n",
    "#   scale=1,\n",
    "#   crs= demoImage.projection(),\n",
    "#   maxPixels = 1e13\n",
    "# )\n",
    "# task.start()"
   ]
  },
  {
   "cell_type": "code",
   "execution_count": null,
   "id": "ffe992e5",
   "metadata": {},
   "outputs": [],
   "source": [
    "# # track the task \n",
    "# import time\n",
    "# while task.active():\n",
    "#   print('Polling for task (id: {}).'.format(task.id))\n",
    "#   time.sleep(5)"
   ]
  },
  {
   "cell_type": "code",
   "execution_count": null,
   "id": "0ea616f7",
   "metadata": {},
   "outputs": [],
   "source": [
    "geePrint(demoImage)"
   ]
  }
 ],
 "metadata": {
  "kernelspec": {
   "display_name": "Python 3",
   "language": "python",
   "name": "python3"
  },
  "language_info": {
   "codemirror_mode": {
    "name": "ipython",
    "version": 3
   },
   "file_extension": ".py",
   "mimetype": "text/x-python",
   "name": "python",
   "nbconvert_exporter": "python",
   "pygments_lexer": "ipython3",
   "version": "3.12.3"
  }
 },
 "nbformat": 4,
 "nbformat_minor": 5
}
