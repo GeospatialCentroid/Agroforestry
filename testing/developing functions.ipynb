{
 "cells": [
  {
   "cell_type": "code",
   "execution_count": 1,
   "id": "86cc2709",
   "metadata": {},
   "outputs": [],
   "source": [
    "import ee\n",
    "import os\n",
    "import geopandas as gpd\n",
    "import geemap"
   ]
  },
  {
   "cell_type": "code",
   "execution_count": 2,
   "id": "c146d855",
   "metadata": {},
   "outputs": [
    {
     "name": "stdout",
     "output_type": "stream",
     "text": [
      "Error in callback <function _set_css_in_cell_output at 0x00000225A7323550> (for pre_run_cell), with arguments args (<ExecutionInfo object at 225948bb5b0, raw_cell=\"# import the point data \n",
      "# filePath = \"../testing/..\" store_history=True silent=False shell_futures=True cell_id=None>,),kwargs {}:\n"
     ]
    },
    {
     "ename": "TypeError",
     "evalue": "_set_css_in_cell_output() takes 0 positional arguments but 1 was given",
     "output_type": "error",
     "traceback": [
      "\u001b[1;31m---------------------------------------------------------------------------\u001b[0m",
      "\u001b[1;31mTypeError\u001b[0m                                 Traceback (most recent call last)",
      "\u001b[1;31mTypeError\u001b[0m: _set_css_in_cell_output() takes 0 positional arguments but 1 was given"
     ]
    },
    {
     "data": {
      "application/vnd.jupyter.widget-view+json": {
       "model_id": "32797d40684843359d7b31535fdcb9b9",
       "version_major": 2,
       "version_minor": 0
      },
      "text/plain": [
       "Map(center=[0, 0], controls=(WidgetControl(options=['position', 'transparent_bg'], widget=SearchDataGUI(childr…"
      ]
     },
     "execution_count": 2,
     "metadata": {},
     "output_type": "execute_result"
    }
   ],
   "source": [
    "# import the point data \n",
    "# filePath = \"../testing/data/testSamplingData.geojson\"\n",
    "# filePath3 = \"../testing/data/testSamplingData.kml\"\n",
    "\n",
    "## kml\n",
    "m = geemap.Map()\n",
    "# geemap.kml_to_shp(filePath3, \"a.shp\")\n",
    "# fc = geemap.shp_to_ee('a.shp')\n",
    "# m.addLayer(fc, {}, 'shp')\n",
    "m\n",
    "\n"
   ]
  },
  {
   "cell_type": "code",
   "execution_count": 5,
   "id": "ffa02d79",
   "metadata": {},
   "outputs": [
    {
     "name": "stdout",
     "output_type": "stream",
     "text": [
      "Error in callback <function _set_css_in_cell_output at 0x0000019A26B0A550> (for pre_run_cell), with arguments args (<ExecutionInfo object at 19a140c6f40, raw_cell=\"# p1 = gpd.GeoDataFrame(gpd.read_file(filePath))\n",
      "#..\" store_history=True silent=False shell_futures=True cell_id=None>,),kwargs {}:\n"
     ]
    },
    {
     "ename": "TypeError",
     "evalue": "_set_css_in_cell_output() takes 0 positional arguments but 1 was given",
     "output_type": "error",
     "traceback": [
      "\u001b[1;31m---------------------------------------------------------------------------\u001b[0m",
      "\u001b[1;31mTypeError\u001b[0m                                 Traceback (most recent call last)",
      "\u001b[1;31mTypeError\u001b[0m: _set_css_in_cell_output() takes 0 positional arguments but 1 was given"
     ]
    }
   ],
   "source": [
    "# p1 = gpd.GeoDataFrame(gpd.read_file(filePath))\n",
    "# type(p1)\n",
    "\n",
    "## geojson directly \n",
    "# p2 = geemap.geojson_to_ee(filePath)\n",
    "# p2\n"
   ]
  },
  {
   "cell_type": "code",
   "execution_count": null,
   "id": "ee19bb13",
   "metadata": {},
   "outputs": [],
   "source": [
    "\n",
    "def prepSamplePoints(filePath):\n"
   ]
  }
 ],
 "metadata": {
  "kernelspec": {
   "display_name": "agro-env",
   "language": "python",
   "name": "agro-env"
  },
  "language_info": {
   "codemirror_mode": {
    "name": "ipython",
    "version": 3
   },
   "file_extension": ".py",
   "mimetype": "text/x-python",
   "name": "python",
   "nbconvert_exporter": "python",
   "pygments_lexer": "ipython3",
   "version": "3.9.12"
  }
 },
 "nbformat": 4,
 "nbformat_minor": 5
}
