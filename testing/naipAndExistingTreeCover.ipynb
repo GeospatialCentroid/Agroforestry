{
 "cells": [
  {
   "cell_type": "code",
   "execution_count": null,
   "id": "99523517-7502-4bc8-a685-5d8cbc4801f5",
   "metadata": {},
   "outputs": [],
   "source": [
    "###\n",
    "# testing location for looking at the inital project location data against NAIP imagery\n",
    "# 2023-09-26\n",
    "# carverd@colostate.edu\n",
    "### "
   ]
  },
  {
   "cell_type": "code",
   "execution_count": 1,
   "id": "e6652871-7230-4cd3-90e7-ea0971c9e250",
   "metadata": {},
   "outputs": [],
   "source": [
    "# libraries \n",
    "import geemap\n",
    "import geopandas as gpd\n",
    "import pandas as pd\n",
    "import ee\n",
    "# ee.Authenticate()\n",
    "ee.Initialize()\n"
   ]
  },
  {
   "cell_type": "code",
   "execution_count": 2,
   "id": "76e283ae-dd71-4518-929e-6fee6915c787",
   "metadata": {},
   "outputs": [],
   "source": [
    "# read in the mapped tree layers \n",
    "trees = gpd.read_file(\"../data/referenceData/Antelope_ALL_metrics_LCC_edited.shp\")"
   ]
  },
  {
   "cell_type": "code",
   "execution_count": 3,
   "id": "0885060b-1d03-4b09-8aa4-d641bdbb5e8c",
   "metadata": {},
   "outputs": [
    {
     "name": "stdout",
     "output_type": "stream",
     "text": [
      "     FID_  LCC    Shape__Are  Shape__Len     width  length  \\\n",
      "0       0    1    626.000488       230.0  2.721741     NaN   \n",
      "1       1    1   1774.000488       398.0  4.457288     NaN   \n",
      "2       2    5    467.999512       166.0       NaN     NaN   \n",
      "3       3    5    150.000000        64.0       NaN     NaN   \n",
      "4       4    5     48.000000        34.0       NaN     NaN   \n",
      "..    ...  ...           ...         ...       ...     ...   \n",
      "294   314    5  14300.000488      1000.0       NaN     NaN   \n",
      "295   315    5   9304.000488      1032.0       NaN     NaN   \n",
      "296   316    5  11276.000977      1124.0       NaN     NaN   \n",
      "297   317    5   3059.999023       444.0       NaN     NaN   \n",
      "298   318    5   2527.999512       320.0       NaN     NaN   \n",
      "\n",
      "                                              geometry  \n",
      "0    POLYGON ((565613.564 4640680.241, 565615.564 4...  \n",
      "1    POLYGON ((566269.564 4640692.241, 566271.564 4...  \n",
      "2    POLYGON ((566133.564 4640690.241, 566145.564 4...  \n",
      "3    POLYGON ((565783.564 4640680.241, 565797.564 4...  \n",
      "4    POLYGON ((565767.564 4640678.241, 565773.564 4...  \n",
      "..                                                 ...  \n",
      "294  POLYGON ((572361.564 4643966.241, 572369.564 4...  \n",
      "295  POLYGON ((570771.564 4643950.241, 570781.564 4...  \n",
      "296  POLYGON ((567101.564 4643994.241, 567111.564 4...  \n",
      "297  POLYGON ((559469.564 4643990.241, 559477.564 4...  \n",
      "298  POLYGON ((575613.564 4643960.241, 575665.564 4...  \n",
      "\n",
      "[299 rows x 7 columns]\n"
     ]
    }
   ],
   "source": [
    "# subset for visualization \n",
    "trees_sub = trees.iloc[0:299,]\n",
    "print(trees_sub)"
   ]
  },
  {
   "cell_type": "code",
   "execution_count": 5,
   "id": "f953ab51-2b38-48ef-86a0-920b2a9ffefe",
   "metadata": {},
   "outputs": [
    {
     "name": "stdout",
     "output_type": "stream",
     "text": [
      "    FID_Nebraska                featurecla  scalerank adm1_code  diss_me  \\\n",
      "0              1  Admin-1 states provinces          2  USA-3532     3532   \n",
      "1              1  Admin-1 states provinces          2  USA-3532     3532   \n",
      "2              1  Admin-1 states provinces          2  USA-3532     3532   \n",
      "3              1  Admin-1 states provinces          2  USA-3532     3532   \n",
      "4              1  Admin-1 states provinces          2  USA-3532     3532   \n",
      "..           ...                       ...        ...       ...      ...   \n",
      "88             1  Admin-1 states provinces          2  USA-3532     3532   \n",
      "89             1  Admin-1 states provinces          2  USA-3532     3532   \n",
      "90             1  Admin-1 states provinces          2  USA-3532     3532   \n",
      "91             1  Admin-1 states provinces          2  USA-3532     3532   \n",
      "92             1  Admin-1 states provinces          2  USA-3532     3532   \n",
      "\n",
      "   iso_3166_2                              wikipedia iso_a2  adm0_sr  \\\n",
      "0       US-NE  http://en.wikipedia.org/wiki/Nebraska     US        1   \n",
      "1       US-NE  http://en.wikipedia.org/wiki/Nebraska     US        1   \n",
      "2       US-NE  http://en.wikipedia.org/wiki/Nebraska     US        1   \n",
      "3       US-NE  http://en.wikipedia.org/wiki/Nebraska     US        1   \n",
      "4       US-NE  http://en.wikipedia.org/wiki/Nebraska     US        1   \n",
      "..        ...                                    ...    ...      ...   \n",
      "88      US-NE  http://en.wikipedia.org/wiki/Nebraska     US        1   \n",
      "89      US-NE  http://en.wikipedia.org/wiki/Nebraska     US        1   \n",
      "90      US-NE  http://en.wikipedia.org/wiki/Nebraska     US        1   \n",
      "91      US-NE  http://en.wikipedia.org/wiki/Nebraska     US        1   \n",
      "92      US-NE  http://en.wikipedia.org/wiki/Nebraska     US        1   \n",
      "\n",
      "        name  ...     NAME_PT_1    NAME_RU_1     NAME_SV_1     NAME_TR_1  \\\n",
      "0   Nebraska  ...       Kimball      Кимболл       Kimball       Kimball   \n",
      "1   Nebraska  ...        Banner       Баннер        Banner        Banner   \n",
      "2   Nebraska  ...  Scotts Bluff  Скотс-Блафф  Scotts Bluff  Scotts Bluff   \n",
      "3   Nebraska  ...         Sioux           Су         Sioux         Sioux   \n",
      "4   Nebraska  ...      Cheyenne       Шайенн      Cheyenne      Cheyenne   \n",
      "..       ...  ...           ...          ...           ...           ...   \n",
      "88  Nebraska  ...        Gosper       Госпер        Gosper        Gosper   \n",
      "89  Nebraska  ...      Frontier      Фронтир      Frontier      Frontier   \n",
      "90  Nebraska  ...        Saline        Салин        Saline        Saline   \n",
      "91  Nebraska  ...       Johnson      Джонсон       Johnson       Johnson   \n",
      "92  Nebraska  ...       Merrick       Меррик       Merrick       Merrick   \n",
      "\n",
      "       NAME_UK_1                   NAME_UR_1     NAME_VI_1 NAME_ZH_1  \\\n",
      "0        Кімболл      کمبال کاؤنٹی، نیبراسکا       Kimball      金博尔县   \n",
      "1         Беннер       بینر کاؤنٹی، نیبراسکا        Banner       班纳县   \n",
      "2   Скоттс-Блафф  سکاٹس بلف کاؤنٹی، نیبراسکا  Scotts Bluff   斯科茨布拉夫县   \n",
      "3            Сіу        سیو کاؤنٹی، نیبراسکا         Sioux        苏县   \n",
      "4          Шаєнн       شاین کاؤنٹی، نیبراسکا      Cheyenne       夏延县   \n",
      "..           ...                         ...           ...       ...   \n",
      "88        Ґоспер      گوسپر کاؤنٹی، نیبراسکا        Gosper      高斯帕县   \n",
      "89      Фронтьєр    فرنٹیئر کاؤنٹی، نیبراسکا      Frontier     弗兰蒂尔县   \n",
      "90         Салін     سالئین کاؤنٹی، نیبراسکا        Saline       萨林县   \n",
      "91       Джонсон      جانسن کاؤنٹی، نیبراسکا       Johnson      约翰逊县   \n",
      "92        Меррік       میرک کاؤنٹی، نیبراسکا       Merrick      梅里克县   \n",
      "\n",
      "   NAME_ZHT_1                                           geometry  \n",
      "0        金博爾郡  MULTIPOLYGON (((-103.38248 40.99974, -103.3822...  \n",
      "1         班納郡  MULTIPOLYGON (((-103.37038 41.69920, -103.4851...  \n",
      "2     斯科茨布拉夫郡  MULTIPOLYGON (((-103.40163 42.00353, -103.4319...  \n",
      "3          蘇縣  MULTIPOLYGON (((-103.44452 42.43735, -103.4800...  \n",
      "4         夏延縣  MULTIPOLYGON (((-102.61040 41.22161, -102.6093...  \n",
      "..        ...                                                ...  \n",
      "88       高斯帕郡  MULTIPOLYGON (((-99.64345 40.68490, -99.70182 ...  \n",
      "89      弗蘭蒂爾郡  MULTIPOLYGON (((-99.98173 40.70000, -100.22330...  \n",
      "90        薩林郡  MULTIPOLYGON (((-96.91350 40.69796, -97.36839 ...  \n",
      "91        詹森郡  MULTIPOLYGON (((-96.06673 40.26203, -96.06601 ...  \n",
      "92       梅里克郡  MULTIPOLYGON (((-97.59853 41.33366, -97.59845 ...  \n",
      "\n",
      "[93 rows x 185 columns]\n"
     ]
    }
   ],
   "source": [
    "# read in county reference layer\n",
    "counties = gpd.read_file(\"../data/referenceData/nebraska_counties.gpkg\")\n",
    "# view for column to filter on \n",
    "print(counties)"
   ]
  },
  {
   "cell_type": "code",
   "execution_count": 6,
   "id": "c361cfd8-360c-428d-9c28-85f4ad7f0132",
   "metadata": {},
   "outputs": [],
   "source": [
    "# grab exact county name \n",
    "# counties['NAME_PT_1'].unique()\n",
    "Antelope = counties[counties['NAME_PT_1'] == \"Antelope\"]\n",
    "Antelope_ee = geemap.gdf_to_ee(Antelope)"
   ]
  },
  {
   "cell_type": "code",
   "execution_count": 7,
   "id": "63983980-7861-47a0-ba4f-b65ff7670a90",
   "metadata": {},
   "outputs": [],
   "source": [
    "# convert to a gee object --- slow\n",
    "trees_ee = geemap.gdf_to_ee(trees_sub)"
   ]
  },
  {
   "cell_type": "code",
   "execution_count": 8,
   "id": "4ae7ad6a-55a3-47a5-a602-78dc7c857911",
   "metadata": {},
   "outputs": [],
   "source": [
    "# generate content for the GEE map\n",
    "naip2015 = geemap.get_annual_NAIP(2016).filterBounds(Antelope_ee).mosaic() # .filterBounds(trees_ee) not liking this object. \n",
    "# compile Naip visualizations \n",
    "visParamsFalse = {\"bands\":['N', 'R', 'G']};\n",
    "visParamsTrue = {\"bands\":['R', 'G', 'B']};\n",
    "# generate the initial map object \n",
    "Map = geemap.Map()\n",
    "Map.add_basemap(\"SATELLITE\")\n",
    "Map.centerObject(ee_object = Antelope_ee, zoom = 10)"
   ]
  },
  {
   "cell_type": "code",
   "execution_count": 9,
   "id": "c1d7e612-ad99-4739-83e9-8ede3472d5f8",
   "metadata": {},
   "outputs": [
    {
     "data": {
      "application/vnd.jupyter.widget-view+json": {
       "model_id": "cc7d324b0fc446479dd95b4000393d05",
       "version_major": 2,
       "version_minor": 0
      },
      "text/plain": [
       "Map(center=[42.1765545175506, -98.06667674722179], controls=(WidgetControl(options=['position', 'transparent_b…"
      ]
     },
     "execution_count": 9,
     "metadata": {},
     "output_type": "execute_result"
    }
   ],
   "source": [
    "# populated and visualize the map \n",
    "# testing the 2015 layer\n",
    "Map.addLayer(naip2015, visParamsTrue, name = \"rgb2015\")\n",
    "Map.addLayer(trees_ee, name = \"trees\")\n",
    "Map.addLayer(Antelope_ee, name = \"Antelope County\")\n",
    "Map"
   ]
  }
 ],
 "metadata": {
  "kernelspec": {
   "display_name": "Python 3 (ipykernel)",
   "language": "python",
   "name": "python3"
  },
  "language_info": {
   "codemirror_mode": {
    "name": "ipython",
    "version": 3
   },
   "file_extension": ".py",
   "mimetype": "text/x-python",
   "name": "python",
   "nbconvert_exporter": "python",
   "pygments_lexer": "ipython3",
   "version": "3.9.12"
  }
 },
 "nbformat": 4,
 "nbformat_minor": 5
}
