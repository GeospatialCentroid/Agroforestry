{
 "cells": [
  {
   "cell_type": "code",
   "execution_count": 6,
   "id": "e5d06bac-ffd4-47df-8214-6328be384395",
   "metadata": {},
   "outputs": [],
   "source": [
    "import ee\n",
    "# ee.Authenticate()\n",
    "ee.Initialize()"
   ]
  },
  {
   "cell_type": "code",
   "execution_count": 7,
   "id": "84bbd972-14af-4611-8418-c92fbbe28957",
   "metadata": {},
   "outputs": [
    {
     "data": {
      "text/html": [
       "<div>\n",
       "<style scoped>\n",
       "    .dataframe tbody tr th:only-of-type {\n",
       "        vertical-align: middle;\n",
       "    }\n",
       "\n",
       "    .dataframe tbody tr th {\n",
       "        vertical-align: top;\n",
       "    }\n",
       "\n",
       "    .dataframe thead th {\n",
       "        text-align: right;\n",
       "    }\n",
       "</style>\n",
       "<table border=\"1\" class=\"dataframe\">\n",
       "  <thead>\n",
       "    <tr style=\"text-align: right;\">\n",
       "      <th></th>\n",
       "      <th>geometry</th>\n",
       "    </tr>\n",
       "  </thead>\n",
       "  <tbody>\n",
       "    <tr>\n",
       "      <th>0</th>\n",
       "      <td>POLYGON ((-100.57547 40.00010, -100.55808 40.0...</td>\n",
       "    </tr>\n",
       "    <tr>\n",
       "      <th>1</th>\n",
       "      <td>POLYGON ((-100.55808 40.00010, -100.54069 40.0...</td>\n",
       "    </tr>\n",
       "    <tr>\n",
       "      <th>2</th>\n",
       "      <td>POLYGON ((-100.54069 40.00010, -100.52329 40.0...</td>\n",
       "    </tr>\n",
       "    <tr>\n",
       "      <th>3</th>\n",
       "      <td>POLYGON ((-100.52329 40.00010, -100.50590 40.0...</td>\n",
       "    </tr>\n",
       "    <tr>\n",
       "      <th>4</th>\n",
       "      <td>POLYGON ((-100.50590 40.00010, -100.48851 40.0...</td>\n",
       "    </tr>\n",
       "    <tr>\n",
       "      <th>...</th>\n",
       "      <td>...</td>\n",
       "    </tr>\n",
       "    <tr>\n",
       "      <th>95</th>\n",
       "      <td>POLYGON ((-100.48851 40.15662, -100.47112 40.1...</td>\n",
       "    </tr>\n",
       "    <tr>\n",
       "      <th>96</th>\n",
       "      <td>POLYGON ((-100.47112 40.15662, -100.45373 40.1...</td>\n",
       "    </tr>\n",
       "    <tr>\n",
       "      <th>97</th>\n",
       "      <td>POLYGON ((-100.45373 40.15662, -100.43634 40.1...</td>\n",
       "    </tr>\n",
       "    <tr>\n",
       "      <th>98</th>\n",
       "      <td>POLYGON ((-100.43634 40.15662, -100.41895 40.1...</td>\n",
       "    </tr>\n",
       "    <tr>\n",
       "      <th>99</th>\n",
       "      <td>POLYGON ((-100.41895 40.15662, -100.40156 40.1...</td>\n",
       "    </tr>\n",
       "  </tbody>\n",
       "</table>\n",
       "<p>100 rows × 1 columns</p>\n",
       "</div>"
      ],
      "text/plain": [
       "                                             geometry\n",
       "0   POLYGON ((-100.57547 40.00010, -100.55808 40.0...\n",
       "1   POLYGON ((-100.55808 40.00010, -100.54069 40.0...\n",
       "2   POLYGON ((-100.54069 40.00010, -100.52329 40.0...\n",
       "3   POLYGON ((-100.52329 40.00010, -100.50590 40.0...\n",
       "4   POLYGON ((-100.50590 40.00010, -100.48851 40.0...\n",
       "..                                                ...\n",
       "95  POLYGON ((-100.48851 40.15662, -100.47112 40.1...\n",
       "96  POLYGON ((-100.47112 40.15662, -100.45373 40.1...\n",
       "97  POLYGON ((-100.45373 40.15662, -100.43634 40.1...\n",
       "98  POLYGON ((-100.43634 40.15662, -100.41895 40.1...\n",
       "99  POLYGON ((-100.41895 40.15662, -100.40156 40.1...\n",
       "\n",
       "[100 rows x 1 columns]"
      ]
     },
     "execution_count": 7,
     "metadata": {},
     "output_type": "execute_result"
    }
   ],
   "source": [
    "# read in reference grid\n",
    "import geopandas as gpd\n",
    "\n",
    "sp1 = gpd.read_file(\"../data/griddedFeatures/subgrid_test.gpkg\")\n",
    "sp1\n"
   ]
  },
  {
   "cell_type": "code",
   "execution_count": null,
   "id": "a822ed65-1aff-40db-b950-962643443cc9",
   "metadata": {},
   "outputs": [],
   "source": [
    "# grab naip and filter it to aoi "
   ]
  }
 ],
 "metadata": {
  "kernelspec": {
   "display_name": "Python 3 (ipykernel)",
   "language": "python",
   "name": "python3"
  },
  "language_info": {
   "codemirror_mode": {
    "name": "ipython",
    "version": 3
   },
   "file_extension": ".py",
   "mimetype": "text/x-python",
   "name": "python",
   "nbconvert_exporter": "python",
   "pygments_lexer": "ipython3",
   "version": "3.12.0"
  }
 },
 "nbformat": 4,
 "nbformat_minor": 5
}
