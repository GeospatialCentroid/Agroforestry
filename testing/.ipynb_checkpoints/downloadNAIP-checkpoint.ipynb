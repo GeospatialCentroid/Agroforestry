{
 "cells": [
  {
   "cell_type": "code",
   "execution_count": 3,
   "id": "e5d06bac-ffd4-47df-8214-6328be384395",
   "metadata": {},
   "outputs": [],
   "source": [
    "import ee\n",
    "# ee.Authenticate()\n",
    "ee.In"
   ]
  },
  {
   "cell_type": "code",
   "execution_count": null,
   "id": "84bbd972-14af-4611-8418-c92fbbe28957",
   "metadata": {},
   "outputs": [],
   "source": [
    "# \n",
    "\n",
    "\n"
   ]
  }
 ],
 "metadata": {
  "kernelspec": {
   "display_name": "Python 3 (ipykernel)",
   "language": "python",
   "name": "python3"
  },
  "language_info": {
   "codemirror_mode": {
    "name": "ipython",
    "version": 3
   },
   "file_extension": ".py",
   "mimetype": "text/x-python",
   "name": "python",
   "nbconvert_exporter": "python",
   "pygments_lexer": "ipython3",
   "version": "3.12.0"
  }
 },
 "nbformat": 4,
 "nbformat_minor": 5
}
