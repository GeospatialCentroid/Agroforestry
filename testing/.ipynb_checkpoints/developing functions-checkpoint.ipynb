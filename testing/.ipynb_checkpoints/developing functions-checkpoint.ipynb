{
 "cells": [
  {
   "cell_type": "code",
   "execution_count": 1,
   "id": "86cc2709",
   "metadata": {},
   "outputs": [],
   "source": [
    "import ee\n",
    "import os\n",
    "import geopandas as gpd\n",
    "import geemap"
   ]
  },
  {
   "cell_type": "code",
   "execution_count": 9,
   "id": "7682fd84",
   "metadata": {},
   "outputs": [
    {
     "name": "stdout",
     "output_type": "stream",
     "text": [
      "Error in callback <function _set_css_in_cell_output at 0x0000019A26B0A550> (for pre_run_cell), with arguments args (<ExecutionInfo object at 19a2ae24280, raw_cell=\"# import the point data \n",
      "# filePath = \"../testing/..\" store_history=True silent=False shell_futures=True cell_id=None>,),kwargs {}:\n"
     ]
    },
    {
     "ename": "TypeError",
     "evalue": "_set_css_in_cell_output() takes 0 positional arguments but 1 was given",
     "output_type": "error",
     "traceback": [
      "\u001b[1;31m---------------------------------------------------------------------------\u001b[0m",
      "\u001b[1;31mTypeError\u001b[0m                                 Traceback (most recent call last)",
      "\u001b[1;31mTypeError\u001b[0m: _set_css_in_cell_output() takes 0 positional arguments but 1 was given"
     ]
    },
    {
     "ename": "FileNotFoundError",
     "evalue": "The input KML could not be found.",
     "output_type": "error",
     "traceback": [
      "\u001b[1;31m---------------------------------------------------------------------------\u001b[0m",
      "\u001b[1;31mFileNotFoundError\u001b[0m                         Traceback (most recent call last)",
      "\u001b[1;32m~\\AppData\\Local\\Temp\\ipykernel_17000\\1619517947.py\u001b[0m in \u001b[0;36m?\u001b[1;34m()\u001b[0m\n\u001b[1;32m----> 7\u001b[1;33m \u001b[1;31m# import the point data\u001b[0m\u001b[1;33m\u001b[0m\u001b[1;33m\u001b[0m\u001b[0m\n\u001b[0m\u001b[0;32m      8\u001b[0m \u001b[1;31m# filePath = \"../testing/data/testSamplingData.geojson\"\u001b[0m\u001b[1;33m\u001b[0m\u001b[1;33m\u001b[0m\u001b[0m\n\u001b[0;32m      9\u001b[0m \u001b[0mfilePath3\u001b[0m \u001b[1;33m=\u001b[0m \u001b[1;34m\"../testing/data/testSamplingData.kml\"\u001b[0m\u001b[1;33m\u001b[0m\u001b[1;33m\u001b[0m\u001b[0m\n\u001b[0;32m     10\u001b[0m \u001b[1;33m\u001b[0m\u001b[0m\n",
      "\u001b[1;32m~\\Documents\\GitHub\\Agroforestry\\agro-env\\lib\\site-packages\\geemap\\common.py\u001b[0m in \u001b[0;36m?\u001b[1;34m(in_kml, out_shp, **kwargs)\u001b[0m\n\u001b[0;32m   8769\u001b[0m     \u001b[0mwarnings\u001b[0m\u001b[1;33m.\u001b[0m\u001b[0mfilterwarnings\u001b[0m\u001b[1;33m(\u001b[0m\u001b[1;34m\"ignore\"\u001b[0m\u001b[1;33m)\u001b[0m\u001b[1;33m\u001b[0m\u001b[1;33m\u001b[0m\u001b[0m\n\u001b[0;32m   8770\u001b[0m \u001b[1;33m\u001b[0m\u001b[0m\n\u001b[0;32m   8771\u001b[0m     \u001b[0min_kml\u001b[0m \u001b[1;33m=\u001b[0m \u001b[0mos\u001b[0m\u001b[1;33m.\u001b[0m\u001b[0mpath\u001b[0m\u001b[1;33m.\u001b[0m\u001b[0mabspath\u001b[0m\u001b[1;33m(\u001b[0m\u001b[0min_kml\u001b[0m\u001b[1;33m)\u001b[0m\u001b[1;33m\u001b[0m\u001b[1;33m\u001b[0m\u001b[0m\n\u001b[0;32m   8772\u001b[0m     \u001b[1;32mif\u001b[0m \u001b[1;32mnot\u001b[0m \u001b[0mos\u001b[0m\u001b[1;33m.\u001b[0m\u001b[0mpath\u001b[0m\u001b[1;33m.\u001b[0m\u001b[0mexists\u001b[0m\u001b[1;33m(\u001b[0m\u001b[0min_kml\u001b[0m\u001b[1;33m)\u001b[0m\u001b[1;33m:\u001b[0m\u001b[1;33m\u001b[0m\u001b[1;33m\u001b[0m\u001b[0m\n\u001b[1;32m-> 8773\u001b[1;33m         \u001b[1;32mraise\u001b[0m \u001b[0mFileNotFoundError\u001b[0m\u001b[1;33m(\u001b[0m\u001b[1;34m\"The input KML could not be found.\"\u001b[0m\u001b[1;33m)\u001b[0m\u001b[1;33m\u001b[0m\u001b[1;33m\u001b[0m\u001b[0m\n\u001b[0m\u001b[0;32m   8774\u001b[0m \u001b[1;33m\u001b[0m\u001b[0m\n\u001b[0;32m   8775\u001b[0m     \u001b[0mout_shp\u001b[0m \u001b[1;33m=\u001b[0m \u001b[0mos\u001b[0m\u001b[1;33m.\u001b[0m\u001b[0mpath\u001b[0m\u001b[1;33m.\u001b[0m\u001b[0mabspath\u001b[0m\u001b[1;33m(\u001b[0m\u001b[0mout_shp\u001b[0m\u001b[1;33m)\u001b[0m\u001b[1;33m\u001b[0m\u001b[1;33m\u001b[0m\u001b[0m\n\u001b[0;32m   8776\u001b[0m     \u001b[1;32mif\u001b[0m \u001b[1;32mnot\u001b[0m \u001b[0mout_shp\u001b[0m\u001b[1;33m.\u001b[0m\u001b[0mendswith\u001b[0m\u001b[1;33m(\u001b[0m\u001b[1;34m\".shp\"\u001b[0m\u001b[1;33m)\u001b[0m\u001b[1;33m:\u001b[0m\u001b[1;33m\u001b[0m\u001b[1;33m\u001b[0m\u001b[0m\n",
      "\u001b[1;31mFileNotFoundError\u001b[0m: The input KML could not be found."
     ]
    }
   ],
   "source": [
    "# import the point data \n",
    "# filePath = \"../testing/data/testSamplingData.geojson\"\n",
    "filePath3 = \"../testing\\data\\testSamplingData.kml\"\n",
    "\n",
    "## kml\n",
    "m = geemap.Map()\n",
    "geemap.kml_to_shp(\"filePath3\", \"a.shp\")\n",
    "fc = geemap.shp_to_ee('a.shp')\n",
    "m.addLayer(fc, {}, 'shp')\n",
    "m\n",
    "\n"
   ]
  },
  {
   "cell_type": "code",
   "execution_count": 5,
   "id": "830bf15e",
   "metadata": {},
   "outputs": [
    {
     "name": "stdout",
     "output_type": "stream",
     "text": [
      "Error in callback <function _set_css_in_cell_output at 0x0000019A26B0A550> (for pre_run_cell), with arguments args (<ExecutionInfo object at 19a140c6f40, raw_cell=\"# p1 = gpd.GeoDataFrame(gpd.read_file(filePath))\n",
      "#..\" store_history=True silent=False shell_futures=True cell_id=None>,),kwargs {}:\n"
     ]
    },
    {
     "ename": "TypeError",
     "evalue": "_set_css_in_cell_output() takes 0 positional arguments but 1 was given",
     "output_type": "error",
     "traceback": [
      "\u001b[1;31m---------------------------------------------------------------------------\u001b[0m",
      "\u001b[1;31mTypeError\u001b[0m                                 Traceback (most recent call last)",
      "\u001b[1;31mTypeError\u001b[0m: _set_css_in_cell_output() takes 0 positional arguments but 1 was given"
     ]
    }
   ],
   "source": [
    "# p1 = gpd.GeoDataFrame(gpd.read_file(filePath))\n",
    "# type(p1)\n",
    "\n",
    "## geojson directly \n",
    "# p2 = geemap.geojson_to_ee(filePath)\n",
    "# p2\n"
   ]
  },
  {
   "cell_type": "code",
   "execution_count": null,
   "id": "8b1bb7ab",
   "metadata": {},
   "outputs": [],
   "source": [
    "\n",
    "def prepSamplePoints(filePath):\n"
   ]
  }
 ],
 "metadata": {
  "kernelspec": {
   "display_name": "agro-env",
   "language": "python",
   "name": "agro-env"
  },
  "language_info": {
   "codemirror_mode": {
    "name": "ipython",
    "version": 3
   },
   "file_extension": ".py",
   "mimetype": "text/x-python",
   "name": "python",
   "nbconvert_exporter": "python",
   "pygments_lexer": "ipython3",
   "version": "3.9.12"
  }
 },
 "nbformat": 4,
 "nbformat_minor": 5
}
