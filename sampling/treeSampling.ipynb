{
 "cells": [
  {
   "cell_type": "code",
   "execution_count": 5,
   "id": "2c92c063-ebff-4296-ae63-beb523b1bbaa",
   "metadata": {},
   "outputs": [],
   "source": [
    "# sampling methodology template script \n",
    "# 20230913\n",
    "# carverd@colostate.edu"
   ]
  },
  {
   "cell_type": "code",
   "execution_count": 31,
   "id": "b175b238-75a3-4fb9-8cd5-9efc07db0382",
   "metadata": {},
   "outputs": [],
   "source": [
    "# libraries \n",
    "import geemap\n",
    "import geopandas as gpd\n",
    "import pandas as pd\n",
    "import numpy as np\n",
    "from datetime import date\n",
    "import ee\n",
    "# ee.Authenticate()\n",
    "ee.Initialize()\n"
   ]
  },
  {
   "cell_type": "code",
   "execution_count": 32,
   "id": "d78df8ca-3975-4f66-b61a-05d187d2462f",
   "metadata": {},
   "outputs": [
    {
     "name": "stdout",
     "output_type": "stream",
     "text": [
      "Today's date: 2023-10-11\n"
     ]
    }
   ],
   "source": [
    "### \n",
    "# set sample grid ID \n",
    "aoiID = 'X12-677'\n",
    "# set some basic parameter for workflow \n",
    "coordsAbsence = np.nan\n",
    "coordsPresence = np.nan\n",
    "today = date.today()"
   ]
  },
  {
   "cell_type": "code",
   "execution_count": 5,
   "id": "af76cf3e-b4fa-400c-a73f-48453a542e51",
   "metadata": {},
   "outputs": [
    {
     "name": "stdout",
     "output_type": "stream",
     "text": [
      "         presence2010  presence2015  presence2020  absence  sampledBy  \\\n",
      "ID                                                                      \n",
      "X12-677           NaN           NaN           NaN      NaN        NaN   \n",
      "X12-88            NaN           NaN           NaN      NaN        NaN   \n",
      "X12-34            NaN           NaN           NaN      NaN        NaN   \n",
      "X12-343           NaN           NaN           NaN      NaN        NaN   \n",
      "X12-608           NaN           NaN           NaN      NaN        NaN   \n",
      "X12-367           NaN           NaN           NaN      NaN        NaN   \n",
      "X12-311           NaN           NaN           NaN      NaN        NaN   \n",
      "X12-758           NaN           NaN           NaN      NaN        NaN   \n",
      "X12-489           NaN           NaN           NaN      NaN        NaN   \n",
      "X12-408           NaN           NaN           NaN      NaN        NaN   \n",
      "X12-413           NaN           NaN           NaN      NaN        NaN   \n",
      "X12-566           NaN           NaN           NaN      NaN        NaN   \n",
      "X12-639           NaN           NaN           NaN      NaN        NaN   \n",
      "X12-161           NaN           NaN           NaN      NaN        NaN   \n",
      "X12-100           NaN           NaN           NaN      NaN        NaN   \n",
      "X12-143           NaN           NaN           NaN      NaN        NaN   \n",
      "X12-688           NaN           NaN           NaN      NaN        NaN   \n",
      "X12-322           NaN           NaN           NaN      NaN        NaN   \n",
      "X12-366           NaN           NaN           NaN      NaN        NaN   \n",
      "X12-684           NaN           NaN           NaN      NaN        NaN   \n",
      "X12-593           NaN           NaN           NaN      NaN        NaN   \n",
      "X12-427           NaN           NaN           NaN      NaN        NaN   \n",
      "X12-568           NaN           NaN           NaN      NaN        NaN   \n",
      "X12-265           NaN           NaN           NaN      NaN        NaN   \n",
      "X12-116           NaN           NaN           NaN      NaN        NaN   \n",
      "\n",
      "         dateSampled  \n",
      "ID                    \n",
      "X12-677          NaN  \n",
      "X12-88           NaN  \n",
      "X12-34           NaN  \n",
      "X12-343          NaN  \n",
      "X12-608          NaN  \n",
      "X12-367          NaN  \n",
      "X12-311          NaN  \n",
      "X12-758          NaN  \n",
      "X12-489          NaN  \n",
      "X12-408          NaN  \n",
      "X12-413          NaN  \n",
      "X12-566          NaN  \n",
      "X12-639          NaN  \n",
      "X12-161          NaN  \n",
      "X12-100          NaN  \n",
      "X12-143          NaN  \n",
      "X12-688          NaN  \n",
      "X12-322          NaN  \n",
      "X12-366          NaN  \n",
      "X12-684          NaN  \n",
      "X12-593          NaN  \n",
      "X12-427          NaN  \n",
      "X12-568          NaN  \n",
      "X12-265          NaN  \n",
      "X12-116          NaN  \n"
     ]
    }
   ],
   "source": [
    "# load the sampling reference grid 12kGrid\n",
    "grid = gpd.read_file(\"../data/griddedFeatures/twelve_mi_grid_uid.gpkg\")\n",
    "# load the sampling grid \n",
    "df = pd.read_csv(\"../sampling/samplingReferenceSheet_12.csv\", index_col='ID')"
   ]
  },
  {
   "cell_type": "code",
   "execution_count": 6,
   "id": "cbd59220-b45a-4df9-a18b-e9b56d0b868a",
   "metadata": {},
   "outputs": [
    {
     "data": {
      "text/plain": [
       "<Axes: >"
      ]
     },
     "execution_count": 6,
     "metadata": {},
     "output_type": "execute_result"
    },
    {
     "data": {
      "image/png": "[encoded data removed]",
      "text/plain": [
       "<Figure size 640x480 with 1 Axes>"
      ]
     },
     "metadata": {},
     "output_type": "display_data"
    }
   ],
   "source": [
    "# quick map of the sampling locations \n",
    "mask = grid['Unique_ID'].isin(df.index)\n",
    "sp1 = grid[mask]\n",
    "sp1.plot()"
   ]
  },
  {
   "cell_type": "code",
   "execution_count": 8,
   "id": "a5c4b4f3-d9dd-4ce8-b5b5-499ac381a0b6",
   "metadata": {},
   "outputs": [],
   "source": [
    "# Generaete map objects based on the define reference grid \n",
    "### as geopandas class \n",
    "aoi_pandas = grid[grid.Unique_ID == aoiID]\n",
    "### as ee object\n",
    "aoi_ee = geemap.gdf_to_ee(aoi_pandas)\n"
   ]
  },
  {
   "cell_type": "code",
   "execution_count": 9,
   "id": "196fc88e-9233-4604-8945-b9e008a26792",
   "metadata": {},
   "outputs": [],
   "source": [
    "# compile naip imagery \n",
    "# 2010, 2016, 2020 for sample time periods \n",
    "naip2020 = geemap.get_annual_NAIP(2020).filterBounds(aoi_ee).mosaic()\n",
    "naip2015 = geemap.get_annual_NAIP(2016).filterBounds(aoi_ee).mosaic()\n",
    "naip2010 = geemap.get_annual_NAIP(2010).filterBounds(aoi_ee).mosaic()\n",
    "# print(naip2020)\n"
   ]
  },
  {
   "cell_type": "code",
   "execution_count": 10,
   "id": "17490c65-09f6-4a6c-b627-23ad302bf166",
   "metadata": {},
   "outputs": [],
   "source": [
    "# compile Naip visualizations \n",
    "visParamsFalse = {\"bands\":['N', 'R', 'G']};\n",
    "visParamsTrue = {\"bands\":['R', 'G', 'B']};\n",
    "\n"
   ]
  },
  {
   "cell_type": "code",
   "execution_count": 11,
   "id": "d60b8033-6172-4a75-97b4-0587eae966dd",
   "metadata": {},
   "outputs": [],
   "source": []
  },
  {
   "cell_type": "code",
   "execution_count": 26,
   "id": "511b5176-27e2-4830-87c7-2c57fa4efea7",
   "metadata": {
    "scrolled": true
   },
   "outputs": [
    {
     "data": {
      "application/vnd.jupyter.widget-view+json": {
       "model_id": "1042bc85aa6d4cae940f67eef7e39bf9",
       "version_major": 2,
       "version_minor": 0
      },
      "text/plain": [
       "Map(center=[42.69574620931511, -100.48851190949973], controls=(WidgetControl(options=['position', 'transparent…"
      ]
     },
     "execution_count": 26,
     "metadata": {},
     "output_type": "execute_result"
    }
   ],
   "source": [
    "### Tree presence sampling \n",
    "MapPresence = geemap.Map()\n",
    "MapPresence.add_basemap(\"SATELLITE\")\n",
    "MapPresence.centerObject(ee_object = aoi_ee, zoom = 10)\n",
    "MapPresence.addLayer(naip2020, visParamsTrue, name = \"rgb2020\")\n",
    "MapPresence.addLayer(naip2020, visParamsFalse, name = \"false2020\")\n",
    "# testing the 2015 layer\n",
    "MapPresence.addLayer(naip2015, visParamsTrue, name = \"rgb2015\")\n",
    "MapPresence.addLayer(naip2010, visParamsTrue, name = \"rgb2010\")\n",
    "\n",
    "MapPresence"
   ]
  },
  {
   "cell_type": "code",
   "execution_count": 42,
   "id": "e1863b67-79b3-4a5d-a711-546a75be29dc",
   "metadata": {
    "scrolled": true
   },
   "outputs": [
    {
     "ename": "TypeError",
     "evalue": "'_iAtIndexer' object is not callable",
     "output_type": "error",
     "traceback": [
      "\u001b[1;31m---------------------------------------------------------------------------\u001b[0m",
      "\u001b[1;31mTypeError\u001b[0m                                 Traceback (most recent call last)",
      "Cell \u001b[1;32mIn[42], line 10\u001b[0m\n\u001b[0;32m      8\u001b[0m aoiID\n\u001b[0;32m      9\u001b[0m \u001b[38;5;28;01mimport\u001b[39;00m \u001b[38;5;21;01mpandas\u001b[39;00m\n\u001b[1;32m---> 10\u001b[0m \u001b[43mdf\u001b[49m\u001b[38;5;241;43m.\u001b[39;49m\u001b[43miat\u001b[49m\u001b[43m(\u001b[49m\u001b[43maoiID\u001b[49m\u001b[43m,\u001b[49m\u001b[43m \u001b[49m\u001b[38;5;124;43m'\u001b[39;49m\u001b[38;5;124;43mpresence2020\u001b[39;49m\u001b[38;5;124;43m'\u001b[39;49m\u001b[43m)\u001b[49m\n",
      "\u001b[1;31mTypeError\u001b[0m: '_iAtIndexer' object is not callable"
     ]
    }
   ],
   "source": [
    "# extract presence objects \n",
    "presence = ee.FeatureCollection(MapPresence.draw_features)\n",
    "coordsPresence = geemap.ee_to_geojson(presence)\n"
   ]
  },
  {
   "cell_type": "code",
   "execution_count": 27,
   "id": "2802debf-aacc-48a3-ab04-bea8e25c5c03",
   "metadata": {},
   "outputs": [
    {
     "data": {
      "application/vnd.jupyter.widget-view+json": {
       "model_id": "71bcf46055b9457897afc804416ba0c0",
       "version_major": 2,
       "version_minor": 0
      },
      "text/plain": [
       "Map(center=[42.69574620931511, -100.48851190949973], controls=(WidgetControl(options=['position', 'transparent…"
      ]
     },
     "execution_count": 27,
     "metadata": {},
     "output_type": "execute_result"
    }
   ],
   "source": [
    "### 2020 absence sampling \n",
    "MapAbsence = geemap.Map()\n",
    "MapAbsence.add_basemap(\"SATELLITE\")\n",
    "MapAbsence.centerObject(ee_object = aoi_ee, zoom = 10)\n",
    "MapAbsence.addLayer(naip2020, visParamsTrue, name = \"rgb2020\")\n",
    "MapAbsence.addLayer(naip2020, visParamsFalse, name = \"false2020\")\n",
    "# testing the 2015 layer\n",
    "MapAbsence.addLayer(naip2015, visParamsTrue, name = \"rgb2015\")\n",
    "MapAbsence.addLayer(naip2010, visParamsTrue, name = \"rgb2010\")\n",
    "\n",
    "MapAbsence"
   ]
  },
  {
   "cell_type": "code",
   "execution_count": 22,
   "id": "18a101d6-7ecd-4e33-a25a-3054eef87004",
   "metadata": {},
   "outputs": [
    {
     "name": "stdout",
     "output_type": "stream",
     "text": [
      "{'type': 'FeatureCollection', 'columns': {'system:index': 'String'}, 'features': [{'type': 'Feature', 'geometry': {'type': 'Point', 'coordinates': [-100.570233, 42.588334]}, 'id': '0', 'properties': {}}, {'type': 'Feature', 'geometry': {'type': 'Point', 'coordinates': [-100.576069, 42.575695]}, 'id': '1', 'properties': {}}, {'type': 'Feature', 'geometry': {'type': 'Point', 'coordinates': [-100.607309, 42.568363]}, 'id': '2', 'properties': {}}, {'type': 'Feature', 'geometry': {'type': 'Point', 'coordinates': [-100.614862, 42.581256]}, 'id': '3', 'properties': {}}, {'type': 'Feature', 'geometry': {'type': 'Point', 'coordinates': [-100.615892, 42.626743]}, 'id': '4', 'properties': {}}]}\n"
     ]
    }
   ],
   "source": [
    "# extract absence objects \n",
    "absence = ee.FeatureCollection(MapAbsence.draw_features)\n",
    "coordsAbsence = geemap.ee_to_geojson(absence)\n",
    "print(coordsAbsence)"
   ]
  },
  {
   "cell_type": "code",
   "execution_count": 116,
   "id": "4bcbe65c-1434-453e-b9fe-a95f08e306f7",
   "metadata": {},
   "outputs": [
    {
     "data": {
      "text/html": [
       "<div>\n",
       "<style scoped>\n",
       "    .dataframe tbody tr th:only-of-type {\n",
       "        vertical-align: middle;\n",
       "    }\n",
       "\n",
       "    .dataframe tbody tr th {\n",
       "        vertical-align: top;\n",
       "    }\n",
       "\n",
       "    .dataframe thead th {\n",
       "        text-align: right;\n",
       "    }\n",
       "</style>\n",
       "<table border=\"1\" class=\"dataframe\">\n",
       "  <thead>\n",
       "    <tr style=\"text-align: right;\">\n",
       "      <th></th>\n",
       "      <th>presence2010</th>\n",
       "      <th>presence2015</th>\n",
       "      <th>presence2020</th>\n",
       "      <th>absence</th>\n",
       "      <th>sampledBy</th>\n",
       "      <th>dateSampled</th>\n",
       "    </tr>\n",
       "    <tr>\n",
       "      <th>ID</th>\n",
       "      <th></th>\n",
       "      <th></th>\n",
       "      <th></th>\n",
       "      <th></th>\n",
       "      <th></th>\n",
       "      <th></th>\n",
       "    </tr>\n",
       "  </thead>\n",
       "  <tbody>\n",
       "    <tr>\n",
       "      <th>X12-677</th>\n",
       "      <td>NaN</td>\n",
       "      <td>NaN</td>\n",
       "      <td>NaN</td>\n",
       "      <td>NaN</td>\n",
       "      <td>NaN</td>\n",
       "      <td>NaN</td>\n",
       "    </tr>\n",
       "    <tr>\n",
       "      <th>X12-88</th>\n",
       "      <td>NaN</td>\n",
       "      <td>NaN</td>\n",
       "      <td>NaN</td>\n",
       "      <td>NaN</td>\n",
       "      <td>NaN</td>\n",
       "      <td>NaN</td>\n",
       "    </tr>\n",
       "    <tr>\n",
       "      <th>X12-34</th>\n",
       "      <td>NaN</td>\n",
       "      <td>NaN</td>\n",
       "      <td>NaN</td>\n",
       "      <td>NaN</td>\n",
       "      <td>NaN</td>\n",
       "      <td>NaN</td>\n",
       "    </tr>\n",
       "    <tr>\n",
       "      <th>X12-343</th>\n",
       "      <td>NaN</td>\n",
       "      <td>NaN</td>\n",
       "      <td>NaN</td>\n",
       "      <td>NaN</td>\n",
       "      <td>NaN</td>\n",
       "      <td>NaN</td>\n",
       "    </tr>\n",
       "    <tr>\n",
       "      <th>X12-608</th>\n",
       "      <td>NaN</td>\n",
       "      <td>NaN</td>\n",
       "      <td>NaN</td>\n",
       "      <td>NaN</td>\n",
       "      <td>NaN</td>\n",
       "      <td>NaN</td>\n",
       "    </tr>\n",
       "    <tr>\n",
       "      <th>X12-367</th>\n",
       "      <td>NaN</td>\n",
       "      <td>NaN</td>\n",
       "      <td>NaN</td>\n",
       "      <td>NaN</td>\n",
       "      <td>NaN</td>\n",
       "      <td>NaN</td>\n",
       "    </tr>\n",
       "    <tr>\n",
       "      <th>X12-311</th>\n",
       "      <td>NaN</td>\n",
       "      <td>NaN</td>\n",
       "      <td>NaN</td>\n",
       "      <td>NaN</td>\n",
       "      <td>NaN</td>\n",
       "      <td>NaN</td>\n",
       "    </tr>\n",
       "    <tr>\n",
       "      <th>X12-758</th>\n",
       "      <td>NaN</td>\n",
       "      <td>NaN</td>\n",
       "      <td>NaN</td>\n",
       "      <td>NaN</td>\n",
       "      <td>NaN</td>\n",
       "      <td>NaN</td>\n",
       "    </tr>\n",
       "    <tr>\n",
       "      <th>X12-489</th>\n",
       "      <td>NaN</td>\n",
       "      <td>NaN</td>\n",
       "      <td>NaN</td>\n",
       "      <td>NaN</td>\n",
       "      <td>NaN</td>\n",
       "      <td>NaN</td>\n",
       "    </tr>\n",
       "    <tr>\n",
       "      <th>X12-408</th>\n",
       "      <td>NaN</td>\n",
       "      <td>NaN</td>\n",
       "      <td>NaN</td>\n",
       "      <td>NaN</td>\n",
       "      <td>NaN</td>\n",
       "      <td>NaN</td>\n",
       "    </tr>\n",
       "    <tr>\n",
       "      <th>X12-413</th>\n",
       "      <td>NaN</td>\n",
       "      <td>NaN</td>\n",
       "      <td>NaN</td>\n",
       "      <td>NaN</td>\n",
       "      <td>NaN</td>\n",
       "      <td>NaN</td>\n",
       "    </tr>\n",
       "    <tr>\n",
       "      <th>X12-566</th>\n",
       "      <td>NaN</td>\n",
       "      <td>NaN</td>\n",
       "      <td>NaN</td>\n",
       "      <td>NaN</td>\n",
       "      <td>NaN</td>\n",
       "      <td>NaN</td>\n",
       "    </tr>\n",
       "    <tr>\n",
       "      <th>X12-639</th>\n",
       "      <td>NaN</td>\n",
       "      <td>NaN</td>\n",
       "      <td>NaN</td>\n",
       "      <td>NaN</td>\n",
       "      <td>NaN</td>\n",
       "      <td>NaN</td>\n",
       "    </tr>\n",
       "    <tr>\n",
       "      <th>X12-161</th>\n",
       "      <td>NaN</td>\n",
       "      <td>NaN</td>\n",
       "      <td>NaN</td>\n",
       "      <td>NaN</td>\n",
       "      <td>NaN</td>\n",
       "      <td>NaN</td>\n",
       "    </tr>\n",
       "    <tr>\n",
       "      <th>X12-100</th>\n",
       "      <td>NaN</td>\n",
       "      <td>NaN</td>\n",
       "      <td>NaN</td>\n",
       "      <td>NaN</td>\n",
       "      <td>NaN</td>\n",
       "      <td>NaN</td>\n",
       "    </tr>\n",
       "    <tr>\n",
       "      <th>X12-143</th>\n",
       "      <td>NaN</td>\n",
       "      <td>NaN</td>\n",
       "      <td>NaN</td>\n",
       "      <td>NaN</td>\n",
       "      <td>NaN</td>\n",
       "      <td>NaN</td>\n",
       "    </tr>\n",
       "    <tr>\n",
       "      <th>X12-688</th>\n",
       "      <td>NaN</td>\n",
       "      <td>NaN</td>\n",
       "      <td>NaN</td>\n",
       "      <td>NaN</td>\n",
       "      <td>NaN</td>\n",
       "      <td>NaN</td>\n",
       "    </tr>\n",
       "    <tr>\n",
       "      <th>X12-322</th>\n",
       "      <td>NaN</td>\n",
       "      <td>NaN</td>\n",
       "      <td>NaN</td>\n",
       "      <td>NaN</td>\n",
       "      <td>NaN</td>\n",
       "      <td>NaN</td>\n",
       "    </tr>\n",
       "    <tr>\n",
       "      <th>X12-366</th>\n",
       "      <td>NaN</td>\n",
       "      <td>NaN</td>\n",
       "      <td>NaN</td>\n",
       "      <td>NaN</td>\n",
       "      <td>NaN</td>\n",
       "      <td>NaN</td>\n",
       "    </tr>\n",
       "    <tr>\n",
       "      <th>X12-684</th>\n",
       "      <td>NaN</td>\n",
       "      <td>NaN</td>\n",
       "      <td>NaN</td>\n",
       "      <td>NaN</td>\n",
       "      <td>NaN</td>\n",
       "      <td>NaN</td>\n",
       "    </tr>\n",
       "    <tr>\n",
       "      <th>X12-593</th>\n",
       "      <td>NaN</td>\n",
       "      <td>NaN</td>\n",
       "      <td>NaN</td>\n",
       "      <td>NaN</td>\n",
       "      <td>NaN</td>\n",
       "      <td>NaN</td>\n",
       "    </tr>\n",
       "    <tr>\n",
       "      <th>X12-427</th>\n",
       "      <td>NaN</td>\n",
       "      <td>NaN</td>\n",
       "      <td>NaN</td>\n",
       "      <td>NaN</td>\n",
       "      <td>NaN</td>\n",
       "      <td>NaN</td>\n",
       "    </tr>\n",
       "    <tr>\n",
       "      <th>X12-568</th>\n",
       "      <td>NaN</td>\n",
       "      <td>NaN</td>\n",
       "      <td>NaN</td>\n",
       "      <td>NaN</td>\n",
       "      <td>NaN</td>\n",
       "      <td>NaN</td>\n",
       "    </tr>\n",
       "    <tr>\n",
       "      <th>X12-265</th>\n",
       "      <td>NaN</td>\n",
       "      <td>NaN</td>\n",
       "      <td>NaN</td>\n",
       "      <td>NaN</td>\n",
       "      <td>NaN</td>\n",
       "      <td>NaN</td>\n",
       "    </tr>\n",
       "    <tr>\n",
       "      <th>X12-116</th>\n",
       "      <td>NaN</td>\n",
       "      <td>NaN</td>\n",
       "      <td>NaN</td>\n",
       "      <td>NaN</td>\n",
       "      <td>NaN</td>\n",
       "      <td>NaN</td>\n",
       "    </tr>\n",
       "  </tbody>\n",
       "</table>\n",
       "</div>"
      ],
      "text/plain": [
       "         presence2010  presence2015  presence2020  absence  sampledBy  \\\n",
       "ID                                                                      \n",
       "X12-677           NaN           NaN           NaN      NaN        NaN   \n",
       "X12-88            NaN           NaN           NaN      NaN        NaN   \n",
       "X12-34            NaN           NaN           NaN      NaN        NaN   \n",
       "X12-343           NaN           NaN           NaN      NaN        NaN   \n",
       "X12-608           NaN           NaN           NaN      NaN        NaN   \n",
       "X12-367           NaN           NaN           NaN      NaN        NaN   \n",
       "X12-311           NaN           NaN           NaN      NaN        NaN   \n",
       "X12-758           NaN           NaN           NaN      NaN        NaN   \n",
       "X12-489           NaN           NaN           NaN      NaN        NaN   \n",
       "X12-408           NaN           NaN           NaN      NaN        NaN   \n",
       "X12-413           NaN           NaN           NaN      NaN        NaN   \n",
       "X12-566           NaN           NaN           NaN      NaN        NaN   \n",
       "X12-639           NaN           NaN           NaN      NaN        NaN   \n",
       "X12-161           NaN           NaN           NaN      NaN        NaN   \n",
       "X12-100           NaN           NaN           NaN      NaN        NaN   \n",
       "X12-143           NaN           NaN           NaN      NaN        NaN   \n",
       "X12-688           NaN           NaN           NaN      NaN        NaN   \n",
       "X12-322           NaN           NaN           NaN      NaN        NaN   \n",
       "X12-366           NaN           NaN           NaN      NaN        NaN   \n",
       "X12-684           NaN           NaN           NaN      NaN        NaN   \n",
       "X12-593           NaN           NaN           NaN      NaN        NaN   \n",
       "X12-427           NaN           NaN           NaN      NaN        NaN   \n",
       "X12-568           NaN           NaN           NaN      NaN        NaN   \n",
       "X12-265           NaN           NaN           NaN      NaN        NaN   \n",
       "X12-116           NaN           NaN           NaN      NaN        NaN   \n",
       "\n",
       "         dateSampled  \n",
       "ID                    \n",
       "X12-677          NaN  \n",
       "X12-88           NaN  \n",
       "X12-34           NaN  \n",
       "X12-343          NaN  \n",
       "X12-608          NaN  \n",
       "X12-367          NaN  \n",
       "X12-311          NaN  \n",
       "X12-758          NaN  \n",
       "X12-489          NaN  \n",
       "X12-408          NaN  \n",
       "X12-413          NaN  \n",
       "X12-566          NaN  \n",
       "X12-639          NaN  \n",
       "X12-161          NaN  \n",
       "X12-100          NaN  \n",
       "X12-143          NaN  \n",
       "X12-688          NaN  \n",
       "X12-322          NaN  \n",
       "X12-366          NaN  \n",
       "X12-684          NaN  \n",
       "X12-593          NaN  \n",
       "X12-427          NaN  \n",
       "X12-568          NaN  \n",
       "X12-265          NaN  \n",
       "X12-116          NaN  "
      ]
     },
     "execution_count": 116,
     "metadata": {},
     "output_type": "execute_result"
    }
   ],
   "source": [
    "# binding values to the specific locations \n",
    "if \n",
    "\n",
    "\n",
    "df"
   ]
  },
  {
   "cell_type": "code",
   "execution_count": 35,
   "id": "94f6ec86-031a-4b13-991e-8efbeb916051",
   "metadata": {},
   "outputs": [
    {
     "ename": "ValueError",
     "evalue": "No axis named X12-677 for object type DataFrame",
     "output_type": "error",
     "traceback": [
      "\u001b[1;31m---------------------------------------------------------------------------\u001b[0m",
      "\u001b[1;31mKeyError\u001b[0m                                  Traceback (most recent call last)",
      "\u001b[1;32m~\\Desktop\\Agroforestry\\agro-env\\lib\\site-packages\\pandas\\core\\generic.py\u001b[0m in \u001b[0;36m?\u001b[1;34m(cls, axis)\u001b[0m\n\u001b[0;32m    552\u001b[0m             \u001b[1;32mreturn\u001b[0m \u001b[0mcls\u001b[0m\u001b[1;33m.\u001b[0m\u001b[0m_AXIS_TO_AXIS_NUMBER\u001b[0m\u001b[1;33m[\u001b[0m\u001b[0maxis\u001b[0m\u001b[1;33m]\u001b[0m\u001b[1;33m\u001b[0m\u001b[1;33m\u001b[0m\u001b[0m\n\u001b[0;32m    553\u001b[0m         \u001b[1;32mexcept\u001b[0m \u001b[0mKeyError\u001b[0m\u001b[1;33m:\u001b[0m\u001b[1;33m\u001b[0m\u001b[1;33m\u001b[0m\u001b[0m\n\u001b[1;32m--> 554\u001b[1;33m             \u001b[1;32mraise\u001b[0m \u001b[0mValueError\u001b[0m\u001b[1;33m(\u001b[0m\u001b[1;34mf\"No axis named {axis} for object type {cls.__name__}\"\u001b[0m\u001b[1;33m)\u001b[0m\u001b[1;33m\u001b[0m\u001b[1;33m\u001b[0m\u001b[0m\n\u001b[0m",
      "\u001b[1;31mKeyError\u001b[0m: 'X12-677'",
      "\nDuring handling of the above exception, another exception occurred:\n",
      "\u001b[1;31mValueError\u001b[0m                                Traceback (most recent call last)",
      "\u001b[1;32m~\\AppData\\Local\\Temp\\ipykernel_13752\\3341668906.py\u001b[0m in \u001b[0;36m?\u001b[1;34m()\u001b[0m\n\u001b[1;32m----> 4\u001b[1;33m \u001b[1;31m# assign coords to the dataframe\u001b[0m\u001b[1;33m\u001b[0m\u001b[1;33m\u001b[0m\u001b[0m\n\u001b[0m\u001b[0;32m      5\u001b[0m \u001b[1;31m# df.loc(\"ID\" == aoiID,\"presence2020\") # = coords\u001b[0m\u001b[1;33m\u001b[0m\u001b[1;33m\u001b[0m\u001b[0m\n\u001b[0;32m      6\u001b[0m \u001b[0maoiID\u001b[0m\u001b[1;33m\u001b[0m\u001b[1;33m\u001b[0m\u001b[0m\n\u001b[0;32m      7\u001b[0m \u001b[0mdf\u001b[0m\u001b[1;33m.\u001b[0m\u001b[0miloc\u001b[0m\u001b[1;33m(\u001b[0m\u001b[0maoiID\u001b[0m\u001b[1;33m)\u001b[0m\u001b[1;33m\u001b[0m\u001b[1;33m\u001b[0m\u001b[0m\n",
      "\u001b[1;32m~\\Desktop\\Agroforestry\\agro-env\\lib\\site-packages\\pandas\\core\\indexing.py\u001b[0m in \u001b[0;36m?\u001b[1;34m(self, axis)\u001b[0m\n\u001b[0;32m    718\u001b[0m         \u001b[1;31m# we need to return a copy of ourselves\u001b[0m\u001b[1;33m\u001b[0m\u001b[1;33m\u001b[0m\u001b[0m\n\u001b[0;32m    719\u001b[0m         \u001b[0mnew_self\u001b[0m \u001b[1;33m=\u001b[0m \u001b[0mtype\u001b[0m\u001b[1;33m(\u001b[0m\u001b[0mself\u001b[0m\u001b[1;33m)\u001b[0m\u001b[1;33m(\u001b[0m\u001b[0mself\u001b[0m\u001b[1;33m.\u001b[0m\u001b[0mname\u001b[0m\u001b[1;33m,\u001b[0m \u001b[0mself\u001b[0m\u001b[1;33m.\u001b[0m\u001b[0mobj\u001b[0m\u001b[1;33m)\u001b[0m\u001b[1;33m\u001b[0m\u001b[1;33m\u001b[0m\u001b[0m\n\u001b[0;32m    720\u001b[0m \u001b[1;33m\u001b[0m\u001b[0m\n\u001b[0;32m    721\u001b[0m         \u001b[1;32mif\u001b[0m \u001b[0maxis\u001b[0m \u001b[1;32mis\u001b[0m \u001b[1;32mnot\u001b[0m \u001b[1;32mNone\u001b[0m\u001b[1;33m:\u001b[0m\u001b[1;33m\u001b[0m\u001b[1;33m\u001b[0m\u001b[0m\n\u001b[1;32m--> 722\u001b[1;33m             \u001b[0maxis_int_none\u001b[0m \u001b[1;33m=\u001b[0m \u001b[0mself\u001b[0m\u001b[1;33m.\u001b[0m\u001b[0mobj\u001b[0m\u001b[1;33m.\u001b[0m\u001b[0m_get_axis_number\u001b[0m\u001b[1;33m(\u001b[0m\u001b[0maxis\u001b[0m\u001b[1;33m)\u001b[0m\u001b[1;33m\u001b[0m\u001b[1;33m\u001b[0m\u001b[0m\n\u001b[0m\u001b[0;32m    723\u001b[0m         \u001b[1;32melse\u001b[0m\u001b[1;33m:\u001b[0m\u001b[1;33m\u001b[0m\u001b[1;33m\u001b[0m\u001b[0m\n\u001b[0;32m    724\u001b[0m             \u001b[0maxis_int_none\u001b[0m \u001b[1;33m=\u001b[0m \u001b[0maxis\u001b[0m\u001b[1;33m\u001b[0m\u001b[1;33m\u001b[0m\u001b[0m\n\u001b[0;32m    725\u001b[0m         \u001b[0mnew_self\u001b[0m\u001b[1;33m.\u001b[0m\u001b[0maxis\u001b[0m \u001b[1;33m=\u001b[0m \u001b[0maxis_int_none\u001b[0m\u001b[1;33m\u001b[0m\u001b[1;33m\u001b[0m\u001b[0m\n",
      "\u001b[1;32m~\\Desktop\\Agroforestry\\agro-env\\lib\\site-packages\\pandas\\core\\generic.py\u001b[0m in \u001b[0;36m?\u001b[1;34m(cls, axis)\u001b[0m\n\u001b[0;32m    550\u001b[0m     \u001b[1;32mdef\u001b[0m \u001b[0m_get_axis_number\u001b[0m\u001b[1;33m(\u001b[0m\u001b[0mcls\u001b[0m\u001b[1;33m,\u001b[0m \u001b[0maxis\u001b[0m\u001b[1;33m:\u001b[0m \u001b[0mAxis\u001b[0m\u001b[1;33m)\u001b[0m \u001b[1;33m->\u001b[0m \u001b[0mAxisInt\u001b[0m\u001b[1;33m:\u001b[0m\u001b[1;33m\u001b[0m\u001b[1;33m\u001b[0m\u001b[0m\n\u001b[0;32m    551\u001b[0m         \u001b[1;32mtry\u001b[0m\u001b[1;33m:\u001b[0m\u001b[1;33m\u001b[0m\u001b[1;33m\u001b[0m\u001b[0m\n\u001b[0;32m    552\u001b[0m             \u001b[1;32mreturn\u001b[0m \u001b[0mcls\u001b[0m\u001b[1;33m.\u001b[0m\u001b[0m_AXIS_TO_AXIS_NUMBER\u001b[0m\u001b[1;33m[\u001b[0m\u001b[0maxis\u001b[0m\u001b[1;33m]\u001b[0m\u001b[1;33m\u001b[0m\u001b[1;33m\u001b[0m\u001b[0m\n\u001b[0;32m    553\u001b[0m         \u001b[1;32mexcept\u001b[0m \u001b[0mKeyError\u001b[0m\u001b[1;33m:\u001b[0m\u001b[1;33m\u001b[0m\u001b[1;33m\u001b[0m\u001b[0m\n\u001b[1;32m--> 554\u001b[1;33m             \u001b[1;32mraise\u001b[0m \u001b[0mValueError\u001b[0m\u001b[1;33m(\u001b[0m\u001b[1;34mf\"No axis named {axis} for object type {cls.__name__}\"\u001b[0m\u001b[1;33m)\u001b[0m\u001b[1;33m\u001b[0m\u001b[1;33m\u001b[0m\u001b[0m\n\u001b[0m",
      "\u001b[1;31mValueError\u001b[0m: No axis named X12-677 for object type DataFrame"
     ]
    }
   ],
   "source": [
    "# assign coords to the dataframe \n",
    "# df.loc(\"ID\" == aoiID,\"presence2020\") # = coords\n",
    "aoiID\n",
    "df.iloc(aoiID)"
   ]
  }
 ],
 "metadata": {
  "kernelspec": {
   "display_name": "Python 3 (ipykernel)",
   "language": "python",
   "name": "python3"
  },
  "language_info": {
   "codemirror_mode": {
    "name": "ipython",
    "version": 3
   },
   "file_extension": ".py",
   "mimetype": "text/x-python",
   "name": "python",
   "nbconvert_exporter": "python",
   "pygments_lexer": "ipython3",
   "version": "3.9.12"
  }
 },
 "nbformat": 4,
 "nbformat_minor": 5
}
