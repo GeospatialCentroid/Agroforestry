{
 "cells": [
  {
   "cell_type": "code",
   "execution_count": null,
   "id": "2c92c063-ebff-4296-ae63-beb523b1bbaa",
   "metadata": {},
   "outputs": [],
   "source": [
    "# sampling methodology template script \n",
    "# 20230913\n",
    "# carverd@colostate.edu"
   ]
  },
  {
   "cell_type": "code",
   "execution_count": 10,
   "id": "b175b238-75a3-4fb9-8cd5-9efc07db0382",
   "metadata": {},
   "outputs": [],
   "source": [
    "# libraries \n",
    "import geemap\n",
    "import geopandas\n",
    "import pandas\n",
    "import ee"
   ]
  },
  {
   "cell_type": "code",
   "execution_count": 12,
   "id": "3ffa96d0-a4ab-4f47-8709-16966915863d",
   "metadata": {},
   "outputs": [],
   "source": [
    "# read in inputdatasets \n",
    "## index and results  \n",
    "# df = pandas.read_csv(\"../data/samplingPlan/samplingReferenceSheet_4mile.csv\")\n",
    "## spatial reference grid\n",
    "grid = geopandas.read_file(\"../data/griddedFeatures/Nebraska_Fishnet.gpkg\")\n",
    "### this will be remove once we get more \n",
    "grid['id'] = range(1, len(grid.index)+1)\n",
    "grid = grid[['id','geometry']]"
   ]
  },
  {
   "cell_type": "code",
   "execution_count": 15,
   "id": "a50ba363-82b7-405e-b8a8-6341ffd22321",
   "metadata": {},
   "outputs": [
    {
     "data": {
      "text/html": [
       "<div>\n",
       "<style scoped>\n",
       "    .dataframe tbody tr th:only-of-type {\n",
       "        vertical-align: middle;\n",
       "    }\n",
       "\n",
       "    .dataframe tbody tr th {\n",
       "        vertical-align: top;\n",
       "    }\n",
       "\n",
       "    .dataframe thead th {\n",
       "        text-align: right;\n",
       "    }\n",
       "</style>\n",
       "<table border=\"1\" class=\"dataframe\">\n",
       "  <thead>\n",
       "    <tr style=\"text-align: right;\">\n",
       "      <th></th>\n",
       "      <th>id</th>\n",
       "      <th>geometry</th>\n",
       "    </tr>\n",
       "  </thead>\n",
       "  <tbody>\n",
       "    <tr>\n",
       "      <th>0</th>\n",
       "      <td>1</td>\n",
       "      <td>MULTIPOLYGON (((-104.05373 40.00010, -103.7638...</td>\n",
       "    </tr>\n",
       "    <tr>\n",
       "      <th>1</th>\n",
       "      <td>2</td>\n",
       "      <td>MULTIPOLYGON (((-103.76387 40.00010, -103.4740...</td>\n",
       "    </tr>\n",
       "    <tr>\n",
       "      <th>2</th>\n",
       "      <td>3</td>\n",
       "      <td>MULTIPOLYGON (((-103.47402 40.00010, -103.1841...</td>\n",
       "    </tr>\n",
       "    <tr>\n",
       "      <th>3</th>\n",
       "      <td>4</td>\n",
       "      <td>MULTIPOLYGON (((-103.18416 40.00010, -102.8943...</td>\n",
       "    </tr>\n",
       "    <tr>\n",
       "      <th>4</th>\n",
       "      <td>5</td>\n",
       "      <td>MULTIPOLYGON (((-102.89431 40.00010, -102.6044...</td>\n",
       "    </tr>\n",
       "    <tr>\n",
       "      <th>...</th>\n",
       "      <td>...</td>\n",
       "      <td>...</td>\n",
       "    </tr>\n",
       "    <tr>\n",
       "      <th>336</th>\n",
       "      <td>337</td>\n",
       "      <td>MULTIPOLYGON (((-96.51750 42.89865, -96.22764 ...</td>\n",
       "    </tr>\n",
       "    <tr>\n",
       "      <th>337</th>\n",
       "      <td>338</td>\n",
       "      <td>MULTIPOLYGON (((-96.22764 42.89865, -95.93779 ...</td>\n",
       "    </tr>\n",
       "    <tr>\n",
       "      <th>338</th>\n",
       "      <td>339</td>\n",
       "      <td>MULTIPOLYGON (((-95.93779 42.89865, -95.64793 ...</td>\n",
       "    </tr>\n",
       "    <tr>\n",
       "      <th>339</th>\n",
       "      <td>340</td>\n",
       "      <td>MULTIPOLYGON (((-95.64793 42.89865, -95.35808 ...</td>\n",
       "    </tr>\n",
       "    <tr>\n",
       "      <th>340</th>\n",
       "      <td>341</td>\n",
       "      <td>MULTIPOLYGON (((-95.35808 42.89865, -95.06822 ...</td>\n",
       "    </tr>\n",
       "  </tbody>\n",
       "</table>\n",
       "<p>341 rows × 2 columns</p>\n",
       "</div>"
      ],
      "text/plain": [
       "      id                                           geometry\n",
       "0      1  MULTIPOLYGON (((-104.05373 40.00010, -103.7638...\n",
       "1      2  MULTIPOLYGON (((-103.76387 40.00010, -103.4740...\n",
       "2      3  MULTIPOLYGON (((-103.47402 40.00010, -103.1841...\n",
       "3      4  MULTIPOLYGON (((-103.18416 40.00010, -102.8943...\n",
       "4      5  MULTIPOLYGON (((-102.89431 40.00010, -102.6044...\n",
       "..   ...                                                ...\n",
       "336  337  MULTIPOLYGON (((-96.51750 42.89865, -96.22764 ...\n",
       "337  338  MULTIPOLYGON (((-96.22764 42.89865, -95.93779 ...\n",
       "338  339  MULTIPOLYGON (((-95.93779 42.89865, -95.64793 ...\n",
       "339  340  MULTIPOLYGON (((-95.64793 42.89865, -95.35808 ...\n",
       "340  341  MULTIPOLYGON (((-95.35808 42.89865, -95.06822 ...\n",
       "\n",
       "[341 rows x 2 columns]"
      ]
     },
     "execution_count": 15,
     "metadata": {},
     "output_type": "execute_result"
    }
   ],
   "source": [
    "# !!User input required!!\n",
    "## define aoi by id\n",
    "aoiID = 200"
   ]
  },
  {
   "cell_type": "code",
   "execution_count": 35,
   "id": "a5c4b4f3-d9dd-4ce8-b5b5-499ac381a0b6",
   "metadata": {},
   "outputs": [],
   "source": [
    "# Generaete map objects based on the define reference grid \n",
    "## Polygon\n",
    "### as geopandas class \n",
    "aoi_pandas = grid[grid.id == aoiID]\n",
    "aoi_pandas\n",
    "### as ee object\n",
    "aoi_ee = geemap.geopandas_to_ee(aoi_pandas)\n",
    "# aoi_ee\n",
    "## points --- I don't think this is going to be an interactable object on the map... so we'll just sample presence and absence locations. \n",
    "# falsePoints = aoi_pandas.sample_points(size=100).explode()\n",
    "# falsePoints = geopandas.GeoDataFrame(geometry=geopandas.GeoSeries(falsePoints))\n",
    "# falsePoints\n",
    "# falsePoints_ee = geemap.gdf_to_ee(falsePoints)\n",
    "# falsePoints_ee"
   ]
  },
  {
   "cell_type": "code",
   "execution_count": 36,
   "id": "196fc88e-9233-4604-8945-b9e008a26792",
   "metadata": {},
   "outputs": [],
   "source": [
    "# compile naip imagery \n",
    "# 2010, 2016, 2020 for sample time periods \n",
    "naip2020 = geemap.get_annual_NAIP(2020).filterBounds(aoi_ee).mosaic()\n",
    "naip2015 = geemap.get_annual_NAIP(2016).filterBounds(aoi_ee).mosaic()\n",
    "naip2010 = geemap.get_annual_NAIP(2010).filterBounds(aoi_ee).mosaic()"
   ]
  },
  {
   "cell_type": "code",
   "execution_count": 37,
   "id": "17490c65-09f6-4a6c-b627-23ad302bf166",
   "metadata": {},
   "outputs": [],
   "source": [
    "# compile Naip visualizations \n",
    "visParamsFalse = {\"bands\":['N', 'R', 'G']};\n",
    "visParamsTrue = {\"bands\":['R', 'G', 'B']};\n",
    "\n"
   ]
  },
  {
   "cell_type": "code",
   "execution_count": 38,
   "id": "d60b8033-6172-4a75-97b4-0587eae966dd",
   "metadata": {},
   "outputs": [
    {
     "data": {
      "application/vnd.jupyter.widget-view+json": {
       "model_id": "4439827a50884282b1c7393f5efe0245",
       "version_major": 2,
       "version_minor": 0
      },
      "text/plain": [
       "Map(center=[41.88414123713827, -100.14068581900119], controls=(WidgetControl(options=['position', 'transparent…"
      ]
     },
     "execution_count": 38,
     "metadata": {},
     "output_type": "execute_result"
    }
   ],
   "source": [
    "# generate the initial map object \n",
    "Map = geemap.Map()\n",
    "Map.add_basemap(\"SATELLITE\")\n",
    "Map.centerObject(ee_object = aoi_ee, zoom = 10)\n",
    "\n",
    "Map"
   ]
  },
  {
   "cell_type": "code",
   "execution_count": 160,
   "id": "511b5176-27e2-4830-87c7-2c57fa4efea7",
   "metadata": {},
   "outputs": [
    {
     "data": {
      "application/vnd.jupyter.widget-view+json": {
       "model_id": "34708a7936294ed291d8f4da57711c15",
       "version_major": 2,
       "version_minor": 0
      },
      "text/plain": [
       "Map(bottom=779987.0, center=[41.88414123713827, -100.14068581900119], controls=(WidgetControl(options=['positi…"
      ]
     },
     "execution_count": 160,
     "metadata": {},
     "output_type": "execute_result"
    }
   ],
   "source": [
    "# I'm not sure if we want all three naip images on at once or each map getting it's own. \n",
    "### 2020 tree sampling \n",
    "Map2020 = Map \n",
    "Map2020.addLayer(naip2020, visParamsTrue, name = \"rgb2020\")\n",
    "Map2020.addLayer(naip2020, visParamsFalse, name = \"false2020\")\n",
    "# testing the 2015 layer\n",
    "Map2020.addLayer(naip2015, visParamsTrue, name = \"rgb2015\")\n",
    "\n",
    "Map2020"
   ]
  },
  {
   "cell_type": "code",
   "execution_count": 156,
   "id": "e1863b67-79b3-4a5d-a711-546a75be29dc",
   "metadata": {},
   "outputs": [
    {
     "data": {
      "text/html": [
       "<div>\n",
       "<style scoped>\n",
       "    .dataframe tbody tr th:only-of-type {\n",
       "        vertical-align: middle;\n",
       "    }\n",
       "\n",
       "    .dataframe tbody tr th {\n",
       "        vertical-align: top;\n",
       "    }\n",
       "\n",
       "    .dataframe thead th {\n",
       "        text-align: right;\n",
       "    }\n",
       "</style>\n",
       "<table border=\"1\" class=\"dataframe\">\n",
       "  <thead>\n",
       "    <tr style=\"text-align: right;\">\n",
       "      <th></th>\n",
       "      <th>ID</th>\n",
       "      <th>presence</th>\n",
       "      <th>absence</th>\n",
       "      <th>exported</th>\n",
       "      <th>expectedSampler</th>\n",
       "      <th>sampledBy</th>\n",
       "      <th>DateSampled</th>\n",
       "    </tr>\n",
       "  </thead>\n",
       "  <tbody>\n",
       "  </tbody>\n",
       "</table>\n",
       "</div>"
      ],
      "text/plain": [
       "Empty DataFrame\n",
       "Columns: [ID, presence, absence, exported, expectedSampler, sampledBy, DateSampled]\n",
       "Index: []"
      ]
     },
     "execution_count": 156,
     "metadata": {},
     "output_type": "execute_result"
    }
   ],
   "source": [
    "# extract objects \n",
    "presence2020 = ee.FeatureCollection(Map.draw_features)\n",
    "coords = presence2020.geometry()\n",
    "\n",
    "### ok lots to do here. Probably want to export the feature as a object incase the users exits. the map features are not save on reload. \n",
    "# grab the coordinates and assign them to the correct row and column based on the date \n",
    "# write out the csv to save progesss\n",
    "\n",
    "## for subsequent sampling periods. Re\n"
   ]
  },
  {
   "cell_type": "code",
   "execution_count": 161,
   "id": "a8bcfcea-ea03-4969-8626-8ba5f8d9a226",
   "metadata": {},
   "outputs": [
    {
     "data": {
      "application/vnd.jupyter.widget-view+json": {
       "model_id": "34708a7936294ed291d8f4da57711c15",
       "version_major": 2,
       "version_minor": 0
      },
      "text/plain": [
       "Map(bottom=12473332.0, center=[41.88414123713827, -100.14068581900119], controls=(WidgetControl(options=['posi…"
      ]
     },
     "execution_count": 161,
     "metadata": {},
     "output_type": "execute_result"
    }
   ],
   "source": [
    "Map2015 = Map \n",
    "Map2015.addLayer(naip2015, visParamsTrue, name = \"rgb2015\")\n",
    "Map2015.addLayer(naip2015, visParamsFalse, name = \"false2015\")\n",
    "# testing adding the previous selection to the 2015 naip. --- is this easier then resampling \n",
    "Map2015.addLayer(presence2020, name = \"2020Presence\")\n",
    "\n",
    "### idea, button that change map zoom from to all points. \n",
    "\n",
    "### absence --- generate the random points within gee so that they are editable features. \n",
    "\n",
    "Map2015"
   ]
  }
 ],
 "metadata": {
  "kernelspec": {
   "display_name": "Python 3 (ipykernel)",
   "language": "python",
   "name": "python3"
  },
  "language_info": {
   "codemirror_mode": {
    "name": "ipython",
    "version": 3
   },
   "file_extension": ".py",
   "mimetype": "text/x-python",
   "name": "python",
   "nbconvert_exporter": "python",
   "pygments_lexer": "ipython3",
   "version": "3.9.12"
  }
 },
 "nbformat": 4,
 "nbformat_minor": 5
}
