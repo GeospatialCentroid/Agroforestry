{
 "cells": [
  {
   "cell_type": "code",
   "execution_count": 1,
   "id": "2c92c063-ebff-4296-ae63-beb523b1bbaa",
   "metadata": {},
   "outputs": [],
   "source": [
    "# sampling methodology template script \n",
    "# 20230913\n",
    "# carverd@colostate.edu"
   ]
  },
  {
   "cell_type": "code",
   "execution_count": 1,
   "id": "b175b238-75a3-4fb9-8cd5-9efc07db0382",
   "metadata": {},
   "outputs": [],
   "source": [
    "# libraries \n",
    "import geemap\n",
    "import geopandas as gpd\n",
    "import pandas as pd\n",
    "import numpy as np\n",
    "from datetime import date\n",
    "import ee\n",
    "#ee.Authenticate()\n",
    "ee.Initialize()\n"
   ]
  },
  {
   "cell_type": "code",
   "execution_count": 54,
   "id": "d78df8ca-3975-4f66-b61a-05d187d2462f",
   "metadata": {},
   "outputs": [],
   "source": [
    "### \n",
    "# set sample grid ID \n",
    "aoiID = 'X12-695'\n",
    "# set some basic parameter for workflow \n",
    "coordsAbsence = np.nan\n",
    "coordsPresence = np.nan\n",
    "today = date.today()\n",
    "name = \"test\""
   ]
  },
  {
   "cell_type": "code",
   "execution_count": 75,
   "id": "af76cf3e-b4fa-400c-a73f-48453a542e51",
   "metadata": {},
   "outputs": [
    {
     "data": {
      "text/html": [
       "<div>\n",
       "<style scoped>\n",
       "    .dataframe tbody tr th:only-of-type {\n",
       "        vertical-align: middle;\n",
       "    }\n",
       "\n",
       "    .dataframe tbody tr th {\n",
       "        vertical-align: top;\n",
       "    }\n",
       "\n",
       "    .dataframe thead th {\n",
       "        text-align: right;\n",
       "    }\n",
       "</style>\n",
       "<table border=\"1\" class=\"dataframe\">\n",
       "  <thead>\n",
       "    <tr style=\"text-align: right;\">\n",
       "      <th></th>\n",
       "      <th>presence</th>\n",
       "      <th>absence</th>\n",
       "      <th>sampledBy</th>\n",
       "      <th>dateSampled</th>\n",
       "    </tr>\n",
       "    <tr>\n",
       "      <th>ID</th>\n",
       "      <th></th>\n",
       "      <th></th>\n",
       "      <th></th>\n",
       "      <th></th>\n",
       "    </tr>\n",
       "  </thead>\n",
       "  <tbody>\n",
       "    <tr>\n",
       "      <th>X12-695</th>\n",
       "      <td>NaN</td>\n",
       "      <td>NaN</td>\n",
       "      <td>NaN</td>\n",
       "      <td>NaN</td>\n",
       "    </tr>\n",
       "    <tr>\n",
       "      <th>X12-564</th>\n",
       "      <td>NaN</td>\n",
       "      <td>NaN</td>\n",
       "      <td>NaN</td>\n",
       "      <td>NaN</td>\n",
       "    </tr>\n",
       "    <tr>\n",
       "      <th>X12-220</th>\n",
       "      <td>NaN</td>\n",
       "      <td>NaN</td>\n",
       "      <td>NaN</td>\n",
       "      <td>NaN</td>\n",
       "    </tr>\n",
       "    <tr>\n",
       "      <th>X12-393</th>\n",
       "      <td>NaN</td>\n",
       "      <td>NaN</td>\n",
       "      <td>NaN</td>\n",
       "      <td>NaN</td>\n",
       "    </tr>\n",
       "    <tr>\n",
       "      <th>X12-567</th>\n",
       "      <td>NaN</td>\n",
       "      <td>NaN</td>\n",
       "      <td>NaN</td>\n",
       "      <td>NaN</td>\n",
       "    </tr>\n",
       "    <tr>\n",
       "      <th>X12-764</th>\n",
       "      <td>NaN</td>\n",
       "      <td>NaN</td>\n",
       "      <td>NaN</td>\n",
       "      <td>NaN</td>\n",
       "    </tr>\n",
       "    <tr>\n",
       "      <th>X12-752</th>\n",
       "      <td>NaN</td>\n",
       "      <td>NaN</td>\n",
       "      <td>NaN</td>\n",
       "      <td>NaN</td>\n",
       "    </tr>\n",
       "    <tr>\n",
       "      <th>X12-380</th>\n",
       "      <td>NaN</td>\n",
       "      <td>NaN</td>\n",
       "      <td>NaN</td>\n",
       "      <td>NaN</td>\n",
       "    </tr>\n",
       "    <tr>\n",
       "      <th>X12-730</th>\n",
       "      <td>NaN</td>\n",
       "      <td>NaN</td>\n",
       "      <td>NaN</td>\n",
       "      <td>NaN</td>\n",
       "    </tr>\n",
       "    <tr>\n",
       "      <th>X12-235</th>\n",
       "      <td>NaN</td>\n",
       "      <td>NaN</td>\n",
       "      <td>NaN</td>\n",
       "      <td>NaN</td>\n",
       "    </tr>\n",
       "    <tr>\n",
       "      <th>X12-575</th>\n",
       "      <td>NaN</td>\n",
       "      <td>NaN</td>\n",
       "      <td>NaN</td>\n",
       "      <td>NaN</td>\n",
       "    </tr>\n",
       "    <tr>\n",
       "      <th>X12-159</th>\n",
       "      <td>NaN</td>\n",
       "      <td>NaN</td>\n",
       "      <td>NaN</td>\n",
       "      <td>NaN</td>\n",
       "    </tr>\n",
       "    <tr>\n",
       "      <th>X12-168</th>\n",
       "      <td>NaN</td>\n",
       "      <td>NaN</td>\n",
       "      <td>NaN</td>\n",
       "      <td>NaN</td>\n",
       "    </tr>\n",
       "    <tr>\n",
       "      <th>X12-243</th>\n",
       "      <td>NaN</td>\n",
       "      <td>NaN</td>\n",
       "      <td>NaN</td>\n",
       "      <td>NaN</td>\n",
       "    </tr>\n",
       "    <tr>\n",
       "      <th>X12-655</th>\n",
       "      <td>NaN</td>\n",
       "      <td>NaN</td>\n",
       "      <td>NaN</td>\n",
       "      <td>NaN</td>\n",
       "    </tr>\n",
       "    <tr>\n",
       "      <th>X12-344</th>\n",
       "      <td>NaN</td>\n",
       "      <td>NaN</td>\n",
       "      <td>NaN</td>\n",
       "      <td>NaN</td>\n",
       "    </tr>\n",
       "    <tr>\n",
       "      <th>X12-233</th>\n",
       "      <td>NaN</td>\n",
       "      <td>NaN</td>\n",
       "      <td>NaN</td>\n",
       "      <td>NaN</td>\n",
       "    </tr>\n",
       "    <tr>\n",
       "      <th>X12-746</th>\n",
       "      <td>NaN</td>\n",
       "      <td>NaN</td>\n",
       "      <td>NaN</td>\n",
       "      <td>NaN</td>\n",
       "    </tr>\n",
       "    <tr>\n",
       "      <th>X12-225</th>\n",
       "      <td>NaN</td>\n",
       "      <td>NaN</td>\n",
       "      <td>NaN</td>\n",
       "      <td>NaN</td>\n",
       "    </tr>\n",
       "    <tr>\n",
       "      <th>X12-482</th>\n",
       "      <td>NaN</td>\n",
       "      <td>NaN</td>\n",
       "      <td>NaN</td>\n",
       "      <td>NaN</td>\n",
       "    </tr>\n",
       "    <tr>\n",
       "      <th>X12-162</th>\n",
       "      <td>NaN</td>\n",
       "      <td>NaN</td>\n",
       "      <td>NaN</td>\n",
       "      <td>NaN</td>\n",
       "    </tr>\n",
       "    <tr>\n",
       "      <th>X12-363</th>\n",
       "      <td>NaN</td>\n",
       "      <td>NaN</td>\n",
       "      <td>NaN</td>\n",
       "      <td>NaN</td>\n",
       "    </tr>\n",
       "    <tr>\n",
       "      <th>X12-700</th>\n",
       "      <td>NaN</td>\n",
       "      <td>NaN</td>\n",
       "      <td>NaN</td>\n",
       "      <td>NaN</td>\n",
       "    </tr>\n",
       "    <tr>\n",
       "      <th>X12-580</th>\n",
       "      <td>NaN</td>\n",
       "      <td>NaN</td>\n",
       "      <td>NaN</td>\n",
       "      <td>NaN</td>\n",
       "    </tr>\n",
       "    <tr>\n",
       "      <th>X12-66</th>\n",
       "      <td>NaN</td>\n",
       "      <td>NaN</td>\n",
       "      <td>NaN</td>\n",
       "      <td>NaN</td>\n",
       "    </tr>\n",
       "  </tbody>\n",
       "</table>\n",
       "</div>"
      ],
      "text/plain": [
       "        presence absence sampledBy dateSampled\n",
       "ID                                            \n",
       "X12-695      NaN     NaN       NaN         NaN\n",
       "X12-564      NaN     NaN       NaN         NaN\n",
       "X12-220      NaN     NaN       NaN         NaN\n",
       "X12-393      NaN     NaN       NaN         NaN\n",
       "X12-567      NaN     NaN       NaN         NaN\n",
       "X12-764      NaN     NaN       NaN         NaN\n",
       "X12-752      NaN     NaN       NaN         NaN\n",
       "X12-380      NaN     NaN       NaN         NaN\n",
       "X12-730      NaN     NaN       NaN         NaN\n",
       "X12-235      NaN     NaN       NaN         NaN\n",
       "X12-575      NaN     NaN       NaN         NaN\n",
       "X12-159      NaN     NaN       NaN         NaN\n",
       "X12-168      NaN     NaN       NaN         NaN\n",
       "X12-243      NaN     NaN       NaN         NaN\n",
       "X12-655      NaN     NaN       NaN         NaN\n",
       "X12-344      NaN     NaN       NaN         NaN\n",
       "X12-233      NaN     NaN       NaN         NaN\n",
       "X12-746      NaN     NaN       NaN         NaN\n",
       "X12-225      NaN     NaN       NaN         NaN\n",
       "X12-482      NaN     NaN       NaN         NaN\n",
       "X12-162      NaN     NaN       NaN         NaN\n",
       "X12-363      NaN     NaN       NaN         NaN\n",
       "X12-700      NaN     NaN       NaN         NaN\n",
       "X12-580      NaN     NaN       NaN         NaN\n",
       "X12-66       NaN     NaN       NaN         NaN"
      ]
     },
     "execution_count": 75,
     "metadata": {},
     "output_type": "execute_result"
    }
   ],
   "source": [
    "# load the sampling reference grid 12kGrid\n",
    "grid = gpd.read_file(\"../data/griddedFeatures/twelve_mi_grid_uid.gpkg\")\n",
    "# load the sampling grid \n",
    "df = pd.read_csv(\"../sampling/samplingReferenceSheet_12.csv\", index_col='ID',\n",
    "                 dtype = {'presence': str, 'absence': str, 'sampledBy': str,\n",
    "                         'dateSampled' :str})\n",
    "df"
   ]
  },
  {
   "cell_type": "code",
   "execution_count": 56,
   "id": "cbd59220-b45a-4df9-a18b-e9b56d0b868a",
   "metadata": {},
   "outputs": [
    {
     "data": {
      "text/plain": [
       "<Axes: >"
      ]
     },
     "execution_count": 56,
     "metadata": {},
     "output_type": "execute_result"
    },
    {
     "data": {
      "image/png": "[encoded data removed]",
      "text/plain": [
       "<Figure size 640x480 with 1 Axes>"
      ]
     },
     "metadata": {},
     "output_type": "display_data"
    }
   ],
   "source": [
    "# quick map of the sampling locations \n",
    "mask = grid['Unique_ID'].isin(df.index)\n",
    "sp1 = grid[mask]\n",
    "sp1.plot()"
   ]
  },
  {
   "cell_type": "code",
   "execution_count": 57,
   "id": "a5c4b4f3-d9dd-4ce8-b5b5-499ac381a0b6",
   "metadata": {},
   "outputs": [],
   "source": [
    "# Generaete map objects based on the define reference grid \n",
    "     \n"
   ]
  },
  {
   "cell_type": "code",
   "execution_count": 58,
   "id": "196fc88e-9233-4604-8945-b9e008a26792",
   "metadata": {},
   "outputs": [],
   "source": [
    "# compile naip imagery \n",
    "# 2010, 2016, 2020 for sample time periods \n",
    "naip2020 = geemap.get_annual_NAIP(2020).filterBounds(aoi_ee).mosaic()\n",
    "naip2015 = geemap.get_annual_NAIP(2016).filterBounds(aoi_ee).mosaic()\n",
    "naip2010 = geemap.get_annual_NAIP(2010).filterBounds(aoi_ee).mosaic()\n",
    "# print(naip2020)\n"
   ]
  },
  {
   "cell_type": "code",
   "execution_count": 59,
   "id": "17490c65-09f6-4a6c-b627-23ad302bf166",
   "metadata": {},
   "outputs": [],
   "source": [
    "# compile Naip visualizations \n",
    "visParamsFalse = {\"bands\":['N', 'R', 'G']};\n",
    "visParamsTrue = {\"bands\":['R', 'G', 'B']};\n",
    "\n"
   ]
  },
  {
   "cell_type": "code",
   "execution_count": 60,
   "id": "511b5176-27e2-4830-87c7-2c57fa4efea7",
   "metadata": {
    "scrolled": true
   },
   "outputs": [
    {
     "data": {
      "application/vnd.jupyter.widget-view+json": {
       "model_id": "3de5ff128e2e463bbaff8afcce2fa019",
       "version_major": 2,
       "version_minor": 0
      },
      "text/plain": [
       "Map(center=[42.69574620931539, -97.35807713549806], controls=(WidgetControl(options=['position', 'transparent_…"
      ]
     },
     "execution_count": 60,
     "metadata": {},
     "output_type": "execute_result"
    }
   ],
   "source": [
    "### Tree presence sampling \n",
    "MapPresence = geemap.Map()\n",
    "MapPresence.add_basemap(\"SATELLITE\")\n",
    "MapPresence.centerObject(ee_object = aoi_ee, zoom = 10)\n",
    "MapPresence.addLayer(naip2020, visParamsTrue, name = \"rgb2020\")\n",
    "MapPresence.addLayer(naip2020, visParamsFalse, name = \"false2020\")\n",
    "# testing the 2015 layer\n",
    "MapPresence.addLayer(naip2015, visParamsTrue, name = \"rgb2015\")\n",
    "MapPresence.addLayer(naip2010, visParamsTrue, name = \"rgb2010\")\n",
    "\n",
    "MapPresence"
   ]
  },
  {
   "cell_type": "code",
   "execution_count": 61,
   "id": "e1863b67-79b3-4a5d-a711-546a75be29dc",
   "metadata": {
    "scrolled": true
   },
   "outputs": [
    {
     "data": {
      "text/plain": [
       "[[-97.371987, 42.654448], [-97.42279, 42.608982], [-97.472221, 42.698872]]"
      ]
     },
     "execution_count": 61,
     "metadata": {},
     "output_type": "execute_result"
    }
   ],
   "source": [
    "# extract presence objects \n",
    "presence = ee.FeatureCollection(MapPresence.draw_features)\n",
    "coordsPresence = geemap.ee_to_gdf(presence)\n",
    "presence_points = []\n",
    "\n",
    "for index, row in coordsPresence.iterrows():\n",
    "    presence_points.append([row.geometry.x, row.geometry.y])\n",
    "presence_points"
   ]
  },
  {
   "cell_type": "code",
   "execution_count": 62,
   "id": "2802debf-aacc-48a3-ab04-bea8e25c5c03",
   "metadata": {},
   "outputs": [
    {
     "data": {
      "application/vnd.jupyter.widget-view+json": {
       "model_id": "f15971cbabe34e169a76469890e44f97",
       "version_major": 2,
       "version_minor": 0
      },
      "text/plain": [
       "Map(center=[42.69574620931539, -97.35807713549806], controls=(WidgetControl(options=['position', 'transparent_…"
      ]
     },
     "execution_count": 62,
     "metadata": {},
     "output_type": "execute_result"
    }
   ],
   "source": [
    "### 2020 absence sampling \n",
    "MapAbsence = geemap.Map()\n",
    "MapAbsence.add_basemap(\"SATELLITE\")\n",
    "MapAbsence.centerObject(ee_object = aoi_ee, zoom = 10)\n",
    "MapAbsence.addLayer(naip2020, visParamsTrue, name = \"rgb2020\")\n",
    "MapAbsence.addLayer(naip2020, visParamsFalse, name = \"false2020\")\n",
    "# testing the 2015 layer\n",
    "MapAbsence.addLayer(naip2015, visParamsTrue, name = \"rgb2015\")\n",
    "MapAbsence.addLayer(naip2010, visParamsTrue, name = \"rgb2010\")\n",
    "\n",
    "MapAbsence"
   ]
  },
  {
   "cell_type": "code",
   "execution_count": 63,
   "id": "18a101d6-7ecd-4e33-a25a-3054eef87004",
   "metadata": {},
   "outputs": [
    {
     "data": {
      "text/plain": [
       "[[-97.371987, 42.654448], [-97.42279, 42.608982], [-97.472221, 42.698872]]"
      ]
     },
     "execution_count": 63,
     "metadata": {},
     "output_type": "execute_result"
    }
   ],
   "source": [
    "# extract absence objects \n",
    "# extract presence objects \n",
    "absence = ee.FeatureCollection(MapPresence.draw_features)\n",
    "coordsAbsence = geemap.ee_to_gdf(absence)\n",
    "absence_points = []\n",
    "\n",
    "for index, row in coordsAbsence.iterrows():\n",
    "    absence_points.append([row.geometry.x, row.geometry.y])\n",
    "absence_points"
   ]
  },
  {
   "cell_type": "code",
   "execution_count": 76,
   "id": "4bcbe65c-1434-453e-b9fe-a95f08e306f7",
   "metadata": {},
   "outputs": [],
   "source": [
    "# binding values to the specific locations \n",
    "pLoc = df.loc[df.index==aoiID,'presence']\n",
    "aLoc = df.loc[df.index==aoiID,'absence']\n",
    "\n",
    "# this is here for a manuel overwrite of the exising data. Change parameter to True. !!! besure to change back on save or feautres \n",
    "# will continuously be overwritten. \n",
    "overwrite = False \n",
    "\n",
    "# add presence values\n",
    "if pd.isna(pLoc[0]) or overwrite is True:\n",
    "    df.loc[df.index==aoiID,'presence'] = str(presence_points)\n",
    "    \n",
    "# add absence values \n",
    "if pd.isna(aLoc[0]) or overwrite is True:\n",
    "    df.loc[df.index==aoiID,'absence'] = str(absence_points)\n",
    "    \n",
    "# add data and samplers name \n",
    "df.loc[df.index==aoiID,'sampledBy'] = name \n",
    "df.loc[df.index==aoiID,'dateSampled'] = today \n",
    "\n",
    "df\n",
    "# export the csv to save values \n",
    "df.to_csv(\"../sampling/samplingReferenceSheet_12.csv\", index = True)"
   ]
  },
  {
   "cell_type": "code",
   "execution_count": null,
   "id": "94f6ec86-031a-4b13-991e-8efbeb916051",
   "metadata": {
    "scrolled": true
   },
   "outputs": [],
   "source": [
    "\n"
   ]
  }
 ],
 "metadata": {
  "kernelspec": {
   "display_name": "Python 3 (ipykernel)",
   "language": "python",
   "name": "python3"
  },
  "language_info": {
   "codemirror_mode": {
    "name": "ipython",
    "version": 3
   },
   "file_extension": ".py",
   "mimetype": "text/x-python",
   "name": "python",
   "nbconvert_exporter": "python",
   "pygments_lexer": "ipython3",
   "version": "3.9.12"
  }
 },
 "nbformat": 4,
 "nbformat_minor": 5
}
