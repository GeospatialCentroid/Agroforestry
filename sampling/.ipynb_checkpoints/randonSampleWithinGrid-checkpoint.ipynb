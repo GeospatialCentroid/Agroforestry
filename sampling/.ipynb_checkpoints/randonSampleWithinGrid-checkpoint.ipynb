{
 "cells": [
  {
   "cell_type": "code",
   "execution_count": 10,
   "id": "888a0b89-c153-492f-b633-f0b700469486",
   "metadata": {},
   "outputs": [],
   "source": [
    "###\n",
    "# Script to assign the randomly sampled locations based on polygon grid \n",
    "# 20230922\n",
    "# carverd@colostate.edu\n",
    "###\n",
    "\n",
    "\n",
    "import geopandas as gpd\n",
    "import pandas as pd\n",
    "import random\n",
    "\n",
    "def defineGridID(gridGPKG, refTable,idVal, totalSites=25):\n",
    "    # gridGPKG : file path to gridded spatial object as string\n",
    "    # refTable : file path to generic reference table \n",
    "    # idVal : string the is used to define the grid id value\n",
    "    # totalSites : numberical value that  \n",
    "    \n",
    "    grid = gpd.read_file(\"../data/griddedFeatures/twelve_mi_grid_uid.gpkg\")\n",
    "    ref = idVal\n",
    "    randomlist = map(str, random.sample(range(0, grid.shape[0]), totalSites))\n",
    "    sampleList = [ref + x for x in randomlist]\n",
    "    # read in table \n",
    "    df = pd.read_csv(\"../sampling/samplingReferenceSheet.csv\") \n",
    "    df[\"ID\"] = sampleList\n",
    "    return df\n"
   ]
  },
  {
   "cell_type": "code",
   "execution_count": 13,
   "id": "82774cdd-6488-4648-af19-bb98b01c2aa0",
   "metadata": {},
   "outputs": [],
   "source": [
    "grid12 = defineGridID(gridGPKG = \"../data/griddedFeatures/twelve_mi_grid_uid.gpkg\",\n",
    "             refTable = \"../sampling/samplingReferenceSheet.csv\",\n",
    "             idVal= \"X12-\")\n",
    "\n",
    "grid12.to_csv(\"../sampling/samplingReferenceSheet_12.csv\", index = FALSE)"
   ]
  }
 ],
 "metadata": {
  "kernelspec": {
   "display_name": "Python 3 (ipykernel)",
   "language": "python",
   "name": "python3"
  },
  "language_info": {
   "codemirror_mode": {
    "name": "ipython",
    "version": 3
   },
   "file_extension": ".py",
   "mimetype": "text/x-python",
   "name": "python",
   "nbconvert_exporter": "python",
   "pygments_lexer": "ipython3",
   "version": "3.9.12"
  }
 },
 "nbformat": 4,
 "nbformat_minor": 5
}
