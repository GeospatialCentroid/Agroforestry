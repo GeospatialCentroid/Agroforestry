{
 "cells": [
  {
   "cell_type": "code",
   "execution_count": null,
   "id": "2c92c063-ebff-4296-ae63-beb523b1bbaa",
   "metadata": {},
   "outputs": [],
   "source": [
    "# sampling methodology template script \n",
    "# 20230913\n",
    "# carverd@colostate.edu"
   ]
  },
  {
   "cell_type": "code",
   "execution_count": 2,
   "id": "b175b238-75a3-4fb9-8cd5-9efc07db0382",
   "metadata": {},
   "outputs": [],
   "source": [
    "# libraries \n",
    "import pandas\n",
    "import numpy\n",
    "import datetime "
   ]
  },
  {
   "cell_type": "code",
   "execution_count": 1,
   "id": "966f70c9",
   "metadata": {},
   "outputs": [],
   "source": [
    "#  i was having issues with the kernal not capture the correct libraries, dug this out of this post\n",
    "# https://github.com/jupyter/notebook/issues/2359\n",
    "import sys\n",
    "sys.path.append('C:/Users/carverd/Documents/GitHub/Agroforestry/agro-env/Lib/site-packages')"
   ]
  },
  {
   "cell_type": "code",
   "execution_count": 3,
   "id": "1479e385",
   "metadata": {},
   "outputs": [],
   "source": [
    "import ee\n",
    "# ee.Authenticate()\n",
    "ee.Initialize()"
   ]
  },
  {
   "cell_type": "code",
   "execution_count": 4,
   "id": "d3e09c1c",
   "metadata": {},
   "outputs": [],
   "source": [
    "import geemap"
   ]
  },
  {
   "cell_type": "code",
   "execution_count": 5,
   "id": "285c99a4",
   "metadata": {},
   "outputs": [
    {
     "data": {
      "text/html": [
       "\n",
       "            <style>\n",
       "                .geemap-dark {\n",
       "                    --jp-widgets-color: white;\n",
       "                    --jp-widgets-label-color: white;\n",
       "                    --jp-ui-font-color1: white;\n",
       "                    --jp-layout-color2: #454545;\n",
       "                    background-color: #383838;\n",
       "                }\n",
       "                    \n",
       "                .geemap-dark .jupyter-button {\n",
       "                    --jp-layout-color3: #383838;\n",
       "                }\n",
       "                \n",
       "                .geemap-colab {\n",
       "                    background-color: var(--colab-primary-surface-color, white);\n",
       "                }\n",
       "                    \n",
       "                .geemap-colab .jupyter-button {\n",
       "                    --jp-layout-color3: var(--colab-primary-surface-color, white);\n",
       "                }\n",
       "            </style>\n",
       "            "
      ],
      "text/plain": [
       "<IPython.core.display.HTML object>"
      ]
     },
     "metadata": {},
     "output_type": "display_data"
    }
   ],
   "source": [
    "import geopandas"
   ]
  },
  {
   "cell_type": "code",
   "execution_count": 6,
   "id": "d78df8ca-3975-4f66-b61a-05d187d2462f",
   "metadata": {},
   "outputs": [
    {
     "data": {
      "text/html": [
       "\n",
       "            <style>\n",
       "                .geemap-dark {\n",
       "                    --jp-widgets-color: white;\n",
       "                    --jp-widgets-label-color: white;\n",
       "                    --jp-ui-font-color1: white;\n",
       "                    --jp-layout-color2: #454545;\n",
       "                    background-color: #383838;\n",
       "                }\n",
       "                    \n",
       "                .geemap-dark .jupyter-button {\n",
       "                    --jp-layout-color3: #383838;\n",
       "                }\n",
       "                \n",
       "                .geemap-colab {\n",
       "                    background-color: var(--colab-primary-surface-color, white);\n",
       "                }\n",
       "                    \n",
       "                .geemap-colab .jupyter-button {\n",
       "                    --jp-layout-color3: var(--colab-primary-surface-color, white);\n",
       "                }\n",
       "            </style>\n",
       "            "
      ],
      "text/plain": [
       "<IPython.core.display.HTML object>"
      ]
     },
     "metadata": {},
     "output_type": "display_data"
    }
   ],
   "source": [
    "# set sample grid ID \n",
    "aoiID = 'X12-601'\n",
    "# set some basic parameter for workflow \n",
    "coordsAbsence = numpy.nan\n",
    "coordsPresence = numpy.nan\n",
    "today = datetime.date.today()\n",
    "name = \"test\""
   ]
  },
  {
   "cell_type": "code",
   "execution_count": 7,
   "id": "af76cf3e-b4fa-400c-a73f-48453a542e51",
   "metadata": {},
   "outputs": [
    {
     "data": {
      "text/html": [
       "\n",
       "            <style>\n",
       "                .geemap-dark {\n",
       "                    --jp-widgets-color: white;\n",
       "                    --jp-widgets-label-color: white;\n",
       "                    --jp-ui-font-color1: white;\n",
       "                    --jp-layout-color2: #454545;\n",
       "                    background-color: #383838;\n",
       "                }\n",
       "                    \n",
       "                .geemap-dark .jupyter-button {\n",
       "                    --jp-layout-color3: #383838;\n",
       "                }\n",
       "                \n",
       "                .geemap-colab {\n",
       "                    background-color: var(--colab-primary-surface-color, white);\n",
       "                }\n",
       "                    \n",
       "                .geemap-colab .jupyter-button {\n",
       "                    --jp-layout-color3: var(--colab-primary-surface-color, white);\n",
       "                }\n",
       "            </style>\n",
       "            "
      ],
      "text/plain": [
       "<IPython.core.display.HTML object>"
      ]
     },
     "metadata": {},
     "output_type": "display_data"
    }
   ],
   "source": [
    "# load the sampling reference grid 12kGrid\n",
    "grid = geopandas.read_file(\"../data/griddedFeatures/twelve_mi_grid_uid.gpkg\")\n",
    "# load the sampling grid \n",
    "df = pandas.read_csv(\"../sampling/samplingReferenceSheet_12b.csv\", index_col='ID',\n",
    "                 dtype = {'presence': str, 'absence': str, 'sampledBy': str,\n",
    "                         'dateSampled' :str})"
   ]
  },
  {
   "cell_type": "code",
   "execution_count": 8,
   "id": "cbd59220-b45a-4df9-a18b-e9b56d0b868a",
   "metadata": {},
   "outputs": [
    {
     "data": {
      "text/html": [
       "\n",
       "            <style>\n",
       "                .geemap-dark {\n",
       "                    --jp-widgets-color: white;\n",
       "                    --jp-widgets-label-color: white;\n",
       "                    --jp-ui-font-color1: white;\n",
       "                    --jp-layout-color2: #454545;\n",
       "                    background-color: #383838;\n",
       "                }\n",
       "                    \n",
       "                .geemap-dark .jupyter-button {\n",
       "                    --jp-layout-color3: #383838;\n",
       "                }\n",
       "                \n",
       "                .geemap-colab {\n",
       "                    background-color: var(--colab-primary-surface-color, white);\n",
       "                }\n",
       "                    \n",
       "                .geemap-colab .jupyter-button {\n",
       "                    --jp-layout-color3: var(--colab-primary-surface-color, white);\n",
       "                }\n",
       "            </style>\n",
       "            "
      ],
      "text/plain": [
       "<IPython.core.display.HTML object>"
      ]
     },
     "metadata": {},
     "output_type": "display_data"
    },
    {
     "data": {
      "text/plain": [
       "<AxesSubplot:>"
      ]
     },
     "execution_count": 8,
     "metadata": {},
     "output_type": "execute_result"
    },
    {
     "data": {
      "image/png": "[encoded data removed]",
      "text/plain": [
       "<Figure size 432x288 with 1 Axes>"
      ]
     },
     "metadata": {
      "needs_background": "light"
     },
     "output_type": "display_data"
    }
   ],
   "source": [
    "# quick map of the sampling locations \n",
    "mask = grid['Unique_ID'].isin(df.index)\n",
    "sp1 = grid[mask]\n",
    "sp1.plot()"
   ]
  },
  {
   "cell_type": "code",
   "execution_count": 9,
   "id": "a5c4b4f3-d9dd-4ce8-b5b5-499ac381a0b6",
   "metadata": {},
   "outputs": [
    {
     "data": {
      "text/html": [
       "\n",
       "            <style>\n",
       "                .geemap-dark {\n",
       "                    --jp-widgets-color: white;\n",
       "                    --jp-widgets-label-color: white;\n",
       "                    --jp-ui-font-color1: white;\n",
       "                    --jp-layout-color2: #454545;\n",
       "                    background-color: #383838;\n",
       "                }\n",
       "                    \n",
       "                .geemap-dark .jupyter-button {\n",
       "                    --jp-layout-color3: #383838;\n",
       "                }\n",
       "                \n",
       "                .geemap-colab {\n",
       "                    background-color: var(--colab-primary-surface-color, white);\n",
       "                }\n",
       "                    \n",
       "                .geemap-colab .jupyter-button {\n",
       "                    --jp-layout-color3: var(--colab-primary-surface-color, white);\n",
       "                }\n",
       "            </style>\n",
       "            "
      ],
      "text/plain": [
       "<IPython.core.display.HTML object>"
      ]
     },
     "metadata": {},
     "output_type": "display_data"
    }
   ],
   "source": [
    "# Generaete map objects based on the define reference grid \n",
    "aoi_pandas = grid[grid.Unique_ID == aoiID]\n",
    "# as ee object\n",
    "aoi_ee = geemap.gdf_to_ee(aoi_pandas)"
   ]
  },
  {
   "cell_type": "code",
   "execution_count": 10,
   "id": "196fc88e-9233-4604-8945-b9e008a26792",
   "metadata": {},
   "outputs": [
    {
     "data": {
      "text/html": [
       "\n",
       "            <style>\n",
       "                .geemap-dark {\n",
       "                    --jp-widgets-color: white;\n",
       "                    --jp-widgets-label-color: white;\n",
       "                    --jp-ui-font-color1: white;\n",
       "                    --jp-layout-color2: #454545;\n",
       "                    background-color: #383838;\n",
       "                }\n",
       "                    \n",
       "                .geemap-dark .jupyter-button {\n",
       "                    --jp-layout-color3: #383838;\n",
       "                }\n",
       "                \n",
       "                .geemap-colab {\n",
       "                    background-color: var(--colab-primary-surface-color, white);\n",
       "                }\n",
       "                    \n",
       "                .geemap-colab .jupyter-button {\n",
       "                    --jp-layout-color3: var(--colab-primary-surface-color, white);\n",
       "                }\n",
       "            </style>\n",
       "            "
      ],
      "text/plain": [
       "<IPython.core.display.HTML object>"
      ]
     },
     "metadata": {},
     "output_type": "display_data"
    }
   ],
   "source": [
    "# compile naip imagery \n",
    "# 2010, 2016, 2020 for sample time periods \n",
    "naip2020 = geemap.get_annual_NAIP(2020).filterBounds(aoi_ee).mosaic()\n",
    "naip2015 = geemap.get_annual_NAIP(2016).filterBounds(aoi_ee).mosaic()\n",
    "naip2010 = geemap.get_annual_NAIP(2010).filterBounds(aoi_ee).mosaic()\n",
    "# print(naip2020)\n"
   ]
  },
  {
   "cell_type": "code",
   "execution_count": 11,
   "id": "17490c65-09f6-4a6c-b627-23ad302bf166",
   "metadata": {},
   "outputs": [
    {
     "data": {
      "text/html": [
       "\n",
       "            <style>\n",
       "                .geemap-dark {\n",
       "                    --jp-widgets-color: white;\n",
       "                    --jp-widgets-label-color: white;\n",
       "                    --jp-ui-font-color1: white;\n",
       "                    --jp-layout-color2: #454545;\n",
       "                    background-color: #383838;\n",
       "                }\n",
       "                    \n",
       "                .geemap-dark .jupyter-button {\n",
       "                    --jp-layout-color3: #383838;\n",
       "                }\n",
       "                \n",
       "                .geemap-colab {\n",
       "                    background-color: var(--colab-primary-surface-color, white);\n",
       "                }\n",
       "                    \n",
       "                .geemap-colab .jupyter-button {\n",
       "                    --jp-layout-color3: var(--colab-primary-surface-color, white);\n",
       "                }\n",
       "            </style>\n",
       "            "
      ],
      "text/plain": [
       "<IPython.core.display.HTML object>"
      ]
     },
     "metadata": {},
     "output_type": "display_data"
    }
   ],
   "source": [
    "# compile Naip visualizations \n",
    "visParamsFalse = {\"bands\":['N', 'R', 'G']};\n",
    "visParamsTrue = {\"bands\":['R', 'G', 'B']};"
   ]
  },
  {
   "cell_type": "code",
   "execution_count": 12,
   "id": "511b5176-27e2-4830-87c7-2c57fa4efea7",
   "metadata": {},
   "outputs": [
    {
     "data": {
      "text/html": [
       "\n",
       "            <style>\n",
       "                .geemap-dark {\n",
       "                    --jp-widgets-color: white;\n",
       "                    --jp-widgets-label-color: white;\n",
       "                    --jp-ui-font-color1: white;\n",
       "                    --jp-layout-color2: #454545;\n",
       "                    background-color: #383838;\n",
       "                }\n",
       "                    \n",
       "                .geemap-dark .jupyter-button {\n",
       "                    --jp-layout-color3: #383838;\n",
       "                }\n",
       "                \n",
       "                .geemap-colab {\n",
       "                    background-color: var(--colab-primary-surface-color, white);\n",
       "                }\n",
       "                    \n",
       "                .geemap-colab .jupyter-button {\n",
       "                    --jp-layout-color3: var(--colab-primary-surface-color, white);\n",
       "                }\n",
       "            </style>\n",
       "            "
      ],
      "text/plain": [
       "<IPython.core.display.HTML object>"
      ]
     },
     "metadata": {},
     "output_type": "display_data"
    },
    {
     "data": {
      "application/vnd.jupyter.widget-view+json": {
       "model_id": "083148616f714c95a359db78c82c7d5d",
       "version_major": 2,
       "version_minor": 0
      },
      "text/plain": [
       "Map(center=[42.3479205803485, -98.05372930749978], controls=(WidgetControl(options=['position', 'transparent_b…"
      ]
     },
     "metadata": {},
     "output_type": "display_data"
    }
   ],
   "source": [
    "### Tree presence sampling \n",
    "MapPresence = geemap.Map()\n",
    "MapPresence.add_basemap(\"SATELLITE\")\n",
    "MapPresence.centerObject(ee_object = aoi_ee, zoom = 10)\n",
    "MapPresence.addLayer(naip2020, visParamsTrue, name = \"rgb2020\")\n",
    "MapPresence.addLayer(naip2020, visParamsFalse, name = \"false2020\")\n",
    "# testing the 2015 layer\n",
    "MapPresence.addLayer(naip2015, visParamsTrue, name = \"rgb2015\")\n",
    "MapPresence.addLayer(naip2010, visParamsTrue, name = \"rgb2010\")\n",
    "\n",
    "MapPresence"
   ]
  },
  {
   "cell_type": "code",
   "execution_count": null,
   "id": "e1863b67-79b3-4a5d-a711-546a75be29dc",
   "metadata": {
    "scrolled": true
   },
   "outputs": [],
   "source": [
    "# extract presence objects \n",
    "presence = ee.FeatureCollection(MapPresence.draw_features)\n",
    "coordsPresence = geemap.ee_to_gdf(presence)\n",
    "presence_points = []\n",
    "\n",
    "for index, row in coordsPresence.iterrows():\n",
    "    presence_points.append([row.geometry.x, row.geometry.y])\n",
    "presence_points"
   ]
  },
  {
   "cell_type": "code",
   "execution_count": 32,
   "id": "2802debf-aacc-48a3-ab04-bea8e25c5c03",
   "metadata": {},
   "outputs": [
    {
     "data": {
      "text/html": [
       "\n",
       "            <style>\n",
       "                .geemap-dark {\n",
       "                    --jp-widgets-color: white;\n",
       "                    --jp-widgets-label-color: white;\n",
       "                    --jp-ui-font-color1: white;\n",
       "                    --jp-layout-color2: #454545;\n",
       "                    background-color: #383838;\n",
       "                }\n",
       "                    \n",
       "                .geemap-dark .jupyter-button {\n",
       "                    --jp-layout-color3: #383838;\n",
       "                }\n",
       "                \n",
       "                .geemap-colab {\n",
       "                    background-color: var(--colab-primary-surface-color, white);\n",
       "                }\n",
       "                    \n",
       "                .geemap-colab .jupyter-button {\n",
       "                    --jp-layout-color3: var(--colab-primary-surface-color, white);\n",
       "                }\n",
       "            </style>\n",
       "            "
      ],
      "text/plain": [
       "<IPython.core.display.HTML object>"
      ]
     },
     "metadata": {},
     "output_type": "display_data"
    },
    {
     "data": {
      "application/vnd.jupyter.widget-view+json": {
       "model_id": "332b8383a7fc414382bdc08d8ea4f216",
       "version_major": 2,
       "version_minor": 0
      },
      "text/plain": [
       "Map(center=[42.3479205803485, -98.05372930749978], controls=(WidgetControl(options=['position', 'transparent_b…"
      ]
     },
     "metadata": {},
     "output_type": "display_data"
    }
   ],
   "source": [
    "### 2020 absence sampling \n",
    "MapAbsence = geemap.Map()\n",
    "MapAbsence.add_basemap(\"SATELLITE\")\n",
    "MapAbsence.centerObject(ee_object = aoi_ee, zoom = 10)\n",
    "MapAbsence.addLayer(naip2020, visParamsTrue, name = \"rgb2020\")\n",
    "MapAbsence.addLayer(naip2020, visParamsFalse, name = \"false2020\")\n",
    "# testing the 2015 layer\n",
    "MapAbsence.addLayer(naip2015, visParamsTrue, name = \"rgb2015\")\n",
    "MapAbsence.addLayer(naip2010, visParamsTrue, name = \"rgb2010\")\n",
    "\n",
    "MapAbsence"
   ]
  },
  {
   "cell_type": "code",
   "execution_count": 33,
   "id": "18a101d6-7ecd-4e33-a25a-3054eef87004",
   "metadata": {},
   "outputs": [
    {
     "data": {
      "text/html": [
       "\n",
       "            <style>\n",
       "                .geemap-dark {\n",
       "                    --jp-widgets-color: white;\n",
       "                    --jp-widgets-label-color: white;\n",
       "                    --jp-ui-font-color1: white;\n",
       "                    --jp-layout-color2: #454545;\n",
       "                    background-color: #383838;\n",
       "                }\n",
       "                    \n",
       "                .geemap-dark .jupyter-button {\n",
       "                    --jp-layout-color3: #383838;\n",
       "                }\n",
       "                \n",
       "                .geemap-colab {\n",
       "                    background-color: var(--colab-primary-surface-color, white);\n",
       "                }\n",
       "                    \n",
       "                .geemap-colab .jupyter-button {\n",
       "                    --jp-layout-color3: var(--colab-primary-surface-color, white);\n",
       "                }\n",
       "            </style>\n",
       "            "
      ],
      "text/plain": [
       "<IPython.core.display.HTML object>"
      ]
     },
     "metadata": {},
     "output_type": "display_data"
    },
    {
     "ename": "NameError",
     "evalue": "name 'MapAbscence' is not defined",
     "output_type": "error",
     "traceback": [
      "\u001b[1;31m---------------------------------------------------------------------------\u001b[0m",
      "\u001b[1;31mNameError\u001b[0m                                 Traceback (most recent call last)",
      "Input \u001b[1;32mIn [33]\u001b[0m, in \u001b[0;36m<cell line: 3>\u001b[1;34m()\u001b[0m\n\u001b[0;32m      1\u001b[0m \u001b[38;5;66;03m# extract absence objects \u001b[39;00m\n\u001b[0;32m      2\u001b[0m \u001b[38;5;66;03m# extract presence objects \u001b[39;00m\n\u001b[1;32m----> 3\u001b[0m absence \u001b[38;5;241m=\u001b[39m ee\u001b[38;5;241m.\u001b[39mFeatureCollection(\u001b[43mMapAbscence\u001b[49m\u001b[38;5;241m.\u001b[39mdraw_features)\n\u001b[0;32m      4\u001b[0m coordsAbsence \u001b[38;5;241m=\u001b[39m geemap\u001b[38;5;241m.\u001b[39mee_to_gdf(absence)\n\u001b[0;32m      5\u001b[0m absence_points \u001b[38;5;241m=\u001b[39m []\n",
      "\u001b[1;31mNameError\u001b[0m: name 'MapAbscence' is not defined"
     ]
    }
   ],
   "source": [
    "# extract absence objects \n",
    "# extract presence objects \n",
    "absence = ee.FeatureCollection(MapAbscence.draw_features)\n",
    "coordsAbsence = geemap.ee_to_gdf(absence)\n",
    "absence_points = []\n",
    "\n",
    "for index, row in coordsAbsence.iterrows():\n",
    "    absence_points.append([row.geometry.x, row.geometry.y])\n",
    "absence_points"
   ]
  },
  {
   "cell_type": "code",
   "execution_count": null,
   "id": "4bcbe65c-1434-453e-b9fe-a95f08e306f7",
   "metadata": {},
   "outputs": [],
   "source": [
    "# binding values to the specific locations \n",
    "pLoc = df.loc[df.index==aoiID,'presence']\n",
    "aLoc = df.loc[df.index==aoiID,'absence']\n",
    "\n",
    "# this is here for a manuel overwrite of the exising data. Change parameter to True. !!! besure to change back on save or feautres \n",
    "# will continuously be overwritten. \n",
    "overwrite = False \n",
    "\n",
    "# add presence values\n",
    "if pd.isna(pLoc[0]) or overwrite is True:\n",
    "    df.loc[df.index==aoiID,'presence'] = str(presence_points)\n",
    "    \n",
    "# add absence values \n",
    "if pd.isna(aLoc[0]) or overwrite is True:\n",
    "    df.loc[df.index==aoiID,'absence'] = str(absence_points)\n",
    "    \n",
    "# add data and samplers name \n",
    "df.loc[df.index==aoiID,'sampledBy'] = name \n",
    "df.loc[df.index==aoiID,'dateSampled'] = today \n",
    "\n",
    "df\n",
    "# export the csv to save values \n",
    "df.to_csv(\"../sampling/samplingReferenceSheet_12b.csv\", index = True)"
   ]
  },
  {
   "cell_type": "code",
   "execution_count": null,
   "id": "94f6ec86-031a-4b13-991e-8efbeb916051",
   "metadata": {
    "scrolled": true
   },
   "outputs": [],
   "source": [
    "\n"
   ]
  },
  {
   "cell_type": "code",
   "execution_count": null,
   "id": "f52bb34a",
   "metadata": {},
   "outputs": [],
   "source": []
  }
 ],
 "metadata": {
  "kernelspec": {
   "display_name": "Python 3 (ipykernel)",
   "language": "python",
   "name": "python3"
  },
  "language_info": {
   "codemirror_mode": {
    "name": "ipython",
    "version": 3
   },
   "file_extension": ".py",
   "mimetype": "text/x-python",
   "name": "python",
   "nbconvert_exporter": "python",
   "pygments_lexer": "ipython3",
   "version": "3.9.12"
  }
 },
 "nbformat": 4,
 "nbformat_minor": 5
}
