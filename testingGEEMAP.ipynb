{
 "cells": [
  {
   "cell_type": "code",
   "execution_count": null,
   "id": "28118de0-2fe1-4c53-9603-e854751f0e8a",
   "metadata": {},
   "outputs": [],
   "source": [
    "###\n",
    "# \n",
    "#\n",
    "#\n",
    "#\n",
    "#"
   ]
  },
  {
   "cell_type": "code",
   "execution_count": 1,
   "id": "892f0472-1258-41d0-acf7-6a0d3e881104",
   "metadata": {},
   "outputs": [],
   "source": [
    "import os\n",
    "import ee\n",
    "import geemap"
   ]
  },
  {
   "cell_type": "code",
   "execution_count": null,
   "id": "30d4345b-e41e-4dc4-a78e-40651eeb7fc8",
   "metadata": {},
   "outputs": [],
   "source": [
    "### view the potential basemap layers \n",
    "# basemaps = geemap.basemaps.keys()\n",
    "# print(basemaps)"
   ]
  },
  {
   "cell_type": "code",
   "execution_count": 23,
   "id": "72a4d461-9ad9-4bfb-8a38-608b9687915e",
   "metadata": {},
   "outputs": [
    {
     "data": {
      "application/vnd.jupyter.widget-view+json": {
       "model_id": "78f070ec86554170b803fb82729ae586",
       "version_major": 2,
       "version_minor": 0
      },
      "text/plain": [
       "Map(center=[20, 0], controls=(WidgetControl(options=['position', 'transparent_bg'], widget=HBox(children=(Togg…"
      ]
     },
     "execution_count": 23,
     "metadata": {},
     "output_type": "execute_result"
    }
   ],
   "source": [
    "# define the map object \n",
    "Map = geemap.Map()\n",
    "# single pane map with drawing tools \n",
    "Map\n"
   ]
  },
  {
   "cell_type": "code",
   "execution_count": 49,
   "id": "9f51e2dc-eccc-4849-a742-620b8bf2784c",
   "metadata": {},
   "outputs": [
    {
     "data": {
      "text/html": [
       "<div><style>:root {\n",
       "  --font-color-primary: var(--jp-content-font-color0, rgba(0, 0, 0, 1));\n",
       "  --font-color-secondary: var(--jp-content-font-color2, rgba(0, 0, 0, 0.6));\n",
       "  --font-color-accent: rgba(123, 31, 162, 1);\n",
       "  --border-color: var(--jp-border-color2, #e0e0e0);\n",
       "  --background-color: var(--jp-layout-color0, white);\n",
       "  --background-color-row-even: var(--jp-layout-color1, white);\n",
       "  --background-color-row-odd: var(--jp-layout-color2, #eeeeee);\n",
       "}\n",
       "\n",
       "html[theme=\"dark\"],\n",
       "body[data-theme=\"dark\"],\n",
       "body.vscode-dark {\n",
       "  --font-color-primary: rgba(255, 255, 255, 1);\n",
       "  --font-color-secondary: rgba(255, 255, 255, 0.6);\n",
       "  --font-color-accent: rgb(173, 132, 190);\n",
       "  --border-color: #2e2e2e;\n",
       "  --background-color: #111111;\n",
       "  --background-color-row-even: #111111;\n",
       "  --background-color-row-odd: #313131;\n",
       "}\n",
       "\n",
       ".ee {\n",
       "  padding: 1em;\n",
       "  line-height: 1.5em;\n",
       "  min-width: 300px;\n",
       "  max-width: 1200px;\n",
       "  overflow-y: scroll;\n",
       "  max-height: 600px;\n",
       "  border: 1px solid var(--border-color);\n",
       "  font-family: monospace;\n",
       "}\n",
       "\n",
       ".ee li {\n",
       "  list-style-type: none;\n",
       "}\n",
       "\n",
       ".ee ul {\n",
       "  padding-left: 1.5em !important;\n",
       "  margin: 0;\n",
       "}\n",
       "\n",
       ".ee > ul {\n",
       "  padding-left: 0 !important;\n",
       "}\n",
       "\n",
       ".ee-open,\n",
       ".ee-shut {\n",
       "  color: var(--font-color-secondary);\n",
       "  cursor: pointer;\n",
       "  margin: 0;\n",
       "}\n",
       "\n",
       ".ee-open:hover,\n",
       ".ee-shut:hover {\n",
       "  color: var(--font-color-primary);\n",
       "}\n",
       "\n",
       ".ee-k {\n",
       "  color: var(--font-color-accent);\n",
       "  margin-right: 6px;\n",
       "}\n",
       "\n",
       ".ee-v {\n",
       "  color: var(--font-color-primary);\n",
       "}\n",
       "\n",
       ".ee-toggle {\n",
       "  display: none;\n",
       "}\n",
       "\n",
       ".ee-shut + ul {\n",
       "  display: none;\n",
       "}\n",
       "\n",
       ".ee-open + ul {\n",
       "  display: block;\n",
       "}\n",
       "\n",
       ".ee-shut::before {\n",
       "  display: inline-block;\n",
       "  content: \"▼\";\n",
       "  margin-right: 6px;\n",
       "  transform: rotate(-90deg);\n",
       "  transition: transform 0.2s;\n",
       "}\n",
       "\n",
       ".ee-open::before {\n",
       "  transform: rotate(0deg);\n",
       "  display: inline-block;\n",
       "  content: \"▼\";\n",
       "  margin-right: 6px;\n",
       "  transition: transform 0.2s;\n",
       "}\n",
       "</style><div class='ee'><ul><li><label class='ee-shut'>FeatureCollection (7 elements, 1 column)<input type='checkbox' class='ee-toggle'></label><ul><li><span class='ee-k'>type:</span><span class='ee-v'>FeatureCollection</span></li><li><label class='ee-shut'>columns: Object (1 property)<input type='checkbox' class='ee-toggle'></label><ul><li><span class='ee-k'>system:index:</span><span class='ee-v'>String</span></li></ul></li><li><label class='ee-shut'>features: List (7 elements)<input type='checkbox' class='ee-toggle'></label><ul><li><label class='ee-shut'>0: Feature (Polygon, 0 properties)<input type='checkbox' class='ee-toggle'></label><ul><li><span class='ee-k'>type:</span><span class='ee-v'>Feature</span></li><li><span class='ee-k'>id:</span><span class='ee-v'>0</span></li><li><label class='ee-shut'>geometry: Polygon (5 vertices)<input type='checkbox' class='ee-toggle'></label><ul><li><span class='ee-k'>type:</span><span class='ee-v'>Polygon</span></li><li><label class='ee-shut'>coordinates: List (1 element)<input type='checkbox' class='ee-toggle'></label><ul><li><label class='ee-shut'>0: List (5 elements)<input type='checkbox' class='ee-toggle'></label><ul><li><label class='ee-shut'>0: [-99.744873, 41.442726]<input type='checkbox' class='ee-toggle'></label><ul><li><span class='ee-k'>0:</span><span class='ee-v'>-99.744873</span></li><li><span class='ee-k'>1:</span><span class='ee-v'>41.442726</span></li></ul></li><li><label class='ee-shut'>1: [-99.003296, 41.442726]<input type='checkbox' class='ee-toggle'></label><ul><li><span class='ee-k'>0:</span><span class='ee-v'>-99.003296</span></li><li><span class='ee-k'>1:</span><span class='ee-v'>41.442726</span></li></ul></li><li><label class='ee-shut'>2: [-99.003296, 41.939063]<input type='checkbox' class='ee-toggle'></label><ul><li><span class='ee-k'>0:</span><span class='ee-v'>-99.003296</span></li><li><span class='ee-k'>1:</span><span class='ee-v'>41.939063</span></li></ul></li><li><label class='ee-shut'>3: [-99.744873, 41.939063]<input type='checkbox' class='ee-toggle'></label><ul><li><span class='ee-k'>0:</span><span class='ee-v'>-99.744873</span></li><li><span class='ee-k'>1:</span><span class='ee-v'>41.939063</span></li></ul></li><li><label class='ee-shut'>4: [-99.744873, 41.442726]<input type='checkbox' class='ee-toggle'></label><ul><li><span class='ee-k'>0:</span><span class='ee-v'>-99.744873</span></li><li><span class='ee-k'>1:</span><span class='ee-v'>41.442726</span></li></ul></li></ul></li></ul></li></ul></li><li><label class='ee-shut'>properties: Object (0 properties)<input type='checkbox' class='ee-toggle'></label><ul></ul></li></ul></li><li><label class='ee-shut'>1: Feature (Point, 0 properties)<input type='checkbox' class='ee-toggle'></label><ul><li><span class='ee-k'>type:</span><span class='ee-v'>Feature</span></li><li><span class='ee-k'>id:</span><span class='ee-v'>1</span></li><li><label class='ee-shut'>geometry: Point (-100.84, 40.50)<input type='checkbox' class='ee-toggle'></label><ul><li><span class='ee-k'>type:</span><span class='ee-v'>Point</span></li><li><label class='ee-shut'>coordinates: [-100.838013, 40.495004]<input type='checkbox' class='ee-toggle'></label><ul><li><span class='ee-k'>0:</span><span class='ee-v'>-100.838013</span></li><li><span class='ee-k'>1:</span><span class='ee-v'>40.495004</span></li></ul></li></ul></li><li><label class='ee-shut'>properties: Object (0 properties)<input type='checkbox' class='ee-toggle'></label><ul></ul></li></ul></li><li><label class='ee-shut'>2: Feature (Point, 0 properties)<input type='checkbox' class='ee-toggle'></label><ul><li><span class='ee-k'>type:</span><span class='ee-v'>Feature</span></li><li><span class='ee-k'>id:</span><span class='ee-v'>2</span></li><li><label class='ee-shut'>geometry: Point (-101.57, 40.69)<input type='checkbox' class='ee-toggle'></label><ul><li><span class='ee-k'>type:</span><span class='ee-v'>Point</span></li><li><label class='ee-shut'>coordinates: [-101.568604, 40.688969]<input type='checkbox' class='ee-toggle'></label><ul><li><span class='ee-k'>0:</span><span class='ee-v'>-101.568604</span></li><li><span class='ee-k'>1:</span><span class='ee-v'>40.688969</span></li></ul></li></ul></li><li><label class='ee-shut'>properties: Object (0 properties)<input type='checkbox' class='ee-toggle'></label><ul></ul></li></ul></li><li><label class='ee-shut'>3: Feature (Point, 0 properties)<input type='checkbox' class='ee-toggle'></label><ul><li><span class='ee-k'>type:</span><span class='ee-v'>Feature</span></li><li><span class='ee-k'>id:</span><span class='ee-v'>3</span></li><li><label class='ee-shut'>geometry: Point (-101.58, 40.42)<input type='checkbox' class='ee-toggle'></label><ul><li><span class='ee-k'>type:</span><span class='ee-v'>Point</span></li><li><label class='ee-shut'>coordinates: [-101.57959, 40.419769]<input type='checkbox' class='ee-toggle'></label><ul><li><span class='ee-k'>0:</span><span class='ee-v'>-101.57959</span></li><li><span class='ee-k'>1:</span><span class='ee-v'>40.419769</span></li></ul></li></ul></li><li><label class='ee-shut'>properties: Object (0 properties)<input type='checkbox' class='ee-toggle'></label><ul></ul></li></ul></li><li><label class='ee-shut'>4: Feature (Point, 0 properties)<input type='checkbox' class='ee-toggle'></label><ul><li><span class='ee-k'>type:</span><span class='ee-v'>Feature</span></li><li><span class='ee-k'>id:</span><span class='ee-v'>4</span></li><li><label class='ee-shut'>geometry: Point (-100.56, 40.51)<input type='checkbox' class='ee-toggle'></label><ul><li><span class='ee-k'>type:</span><span class='ee-v'>Point</span></li><li><label class='ee-shut'>coordinates: [-100.557861, 40.513799]<input type='checkbox' class='ee-toggle'></label><ul><li><span class='ee-k'>0:</span><span class='ee-v'>-100.557861</span></li><li><span class='ee-k'>1:</span><span class='ee-v'>40.513799</span></li></ul></li></ul></li><li><label class='ee-shut'>properties: Object (0 properties)<input type='checkbox' class='ee-toggle'></label><ul></ul></li></ul></li><li><label class='ee-shut'>5: Feature (Polygon, 0 properties)<input type='checkbox' class='ee-toggle'></label><ul><li><span class='ee-k'>type:</span><span class='ee-v'>Feature</span></li><li><span class='ee-k'>id:</span><span class='ee-v'>5</span></li><li><label class='ee-shut'>geometry: Polygon (5 vertices)<input type='checkbox' class='ee-toggle'></label><ul><li><span class='ee-k'>type:</span><span class='ee-v'>Polygon</span></li><li><label class='ee-shut'>coordinates: List (1 element)<input type='checkbox' class='ee-toggle'></label><ul><li><label class='ee-shut'>0: List (5 elements)<input type='checkbox' class='ee-toggle'></label><ul><li><label class='ee-shut'>0: [-100.162354, 41.442726]<input type='checkbox' class='ee-toggle'></label><ul><li><span class='ee-k'>0:</span><span class='ee-v'>-100.162354</span></li><li><span class='ee-k'>1:</span><span class='ee-v'>41.442726</span></li></ul></li><li><label class='ee-shut'>1: [-99.810791, 41.442726]<input type='checkbox' class='ee-toggle'></label><ul><li><span class='ee-k'>0:</span><span class='ee-v'>-99.810791</span></li><li><span class='ee-k'>1:</span><span class='ee-v'>41.442726</span></li></ul></li><li><label class='ee-shut'>2: [-99.810791, 41.672912]<input type='checkbox' class='ee-toggle'></label><ul><li><span class='ee-k'>0:</span><span class='ee-v'>-99.810791</span></li><li><span class='ee-k'>1:</span><span class='ee-v'>41.672912</span></li></ul></li><li><label class='ee-shut'>3: [-100.162354, 41.672912]<input type='checkbox' class='ee-toggle'></label><ul><li><span class='ee-k'>0:</span><span class='ee-v'>-100.162354</span></li><li><span class='ee-k'>1:</span><span class='ee-v'>41.672912</span></li></ul></li><li><label class='ee-shut'>4: [-100.162354, 41.442726]<input type='checkbox' class='ee-toggle'></label><ul><li><span class='ee-k'>0:</span><span class='ee-v'>-100.162354</span></li><li><span class='ee-k'>1:</span><span class='ee-v'>41.442726</span></li></ul></li></ul></li></ul></li></ul></li><li><label class='ee-shut'>properties: Object (0 properties)<input type='checkbox' class='ee-toggle'></label><ul></ul></li></ul></li><li><label class='ee-shut'>6: Feature (Polygon, 0 properties)<input type='checkbox' class='ee-toggle'></label><ul><li><span class='ee-k'>type:</span><span class='ee-v'>Feature</span></li><li><span class='ee-k'>id:</span><span class='ee-v'>6</span></li><li><label class='ee-shut'>geometry: Polygon (5 vertices)<input type='checkbox' class='ee-toggle'></label><ul><li><span class='ee-k'>type:</span><span class='ee-v'>Polygon</span></li><li><label class='ee-shut'>coordinates: List (1 element)<input type='checkbox' class='ee-toggle'></label><ul><li><label class='ee-shut'>0: List (5 elements)<input type='checkbox' class='ee-toggle'></label><ul><li><label class='ee-shut'>0: [-100.162354, 41.442726]<input type='checkbox' class='ee-toggle'></label><ul><li><span class='ee-k'>0:</span><span class='ee-v'>-100.162354</span></li><li><span class='ee-k'>1:</span><span class='ee-v'>41.442726</span></li></ul></li><li><label class='ee-shut'>1: [-99.95636, 41.461254]<input type='checkbox' class='ee-toggle'></label><ul><li><span class='ee-k'>0:</span><span class='ee-v'>-99.95636</span></li><li><span class='ee-k'>1:</span><span class='ee-v'>41.461254</span></li></ul></li><li><label class='ee-shut'>2: [-99.961853, 41.592851]<input type='checkbox' class='ee-toggle'></label><ul><li><span class='ee-k'>0:</span><span class='ee-v'>-99.961853</span></li><li><span class='ee-k'>1:</span><span class='ee-v'>41.592851</span></li></ul></li><li><label class='ee-shut'>3: [-100.141754, 41.588743]<input type='checkbox' class='ee-toggle'></label><ul><li><span class='ee-k'>0:</span><span class='ee-v'>-100.141754</span></li><li><span class='ee-k'>1:</span><span class='ee-v'>41.588743</span></li></ul></li><li><label class='ee-shut'>4: [-100.162354, 41.442726]<input type='checkbox' class='ee-toggle'></label><ul><li><span class='ee-k'>0:</span><span class='ee-v'>-100.162354</span></li><li><span class='ee-k'>1:</span><span class='ee-v'>41.442726</span></li></ul></li></ul></li></ul></li></ul></li><li><label class='ee-shut'>properties: Object (0 properties)<input type='checkbox' class='ee-toggle'></label><ul></ul></li></ul></li></ul></li></ul></li></ul></div><script>function toggleHeader() {\n",
       "    const parent = this.parentElement;\n",
       "    parent.className = parent.className === \"ee-open\" ? \"ee-shut\" : \"ee-open\";\n",
       "}\n",
       "\n",
       "for (let c of document.getElementsByClassName(\"ee-toggle\")) {\n",
       "    c.onclick = toggleHeader;\n",
       "}</script></div>"
      ],
      "text/plain": [
       "<ee.featurecollection.FeatureCollection at 0x1cd07bf53d0>"
      ]
     },
     "execution_count": 49,
     "metadata": {},
     "output_type": "execute_result"
    }
   ],
   "source": [
    "# convert the features drawn on the map into ee objects \n",
    "roi = ee.FeatureCollection(Map.draw_features)\n",
    "roi"
   ]
  },
  {
   "cell_type": "code",
   "execution_count": 22,
   "id": "657ae162-6e35-42da-b0a2-3adbcd172fe0",
   "metadata": {},
   "outputs": [
    {
     "data": {
      "application/vnd.jupyter.widget-view+json": {
       "model_id": "ca494bbd57df493cba02f337e61b73bc",
       "version_major": 2,
       "version_minor": 0
      },
      "text/plain": [
       "Map(center=[20, 0], controls=(ZoomControl(options=['position', 'zoom_in_text', 'zoom_in_title', 'zoom_out_text…"
      ]
     },
     "execution_count": 22,
     "metadata": {},
     "output_type": "execute_result"
    }
   ],
   "source": [
    "# split map option --- good for a validation of the points maybe after someone has created it. \n",
    "Map2 = geemap.Map()\n",
    "Map2.split_map(left_layer='USGS NAIP Imagery', right_layer='Google Satellite')\n",
    "#call map object to visualize\n",
    "Map2"
   ]
  },
  {
   "cell_type": "code",
   "execution_count": 4,
   "id": "8b990019-0132-413f-98d1-85199068e862",
   "metadata": {},
   "outputs": [],
   "source": [
    "# add spatial data from local environment"
   ]
  },
  {
   "cell_type": "code",
   "execution_count": 53,
   "id": "b5e48ead-2ede-4b67-b134-c051253a886b",
   "metadata": {},
   "outputs": [
    {
     "ename": "AttributeError",
     "evalue": "'Image' object has no attribute 'crop'",
     "output_type": "error",
     "traceback": [
      "\u001b[1;31m---------------------------------------------------------------------------\u001b[0m",
      "\u001b[1;31mAttributeError\u001b[0m                            Traceback (most recent call last)",
      "Cell \u001b[1;32mIn[53], line 2\u001b[0m\n\u001b[0;32m      1\u001b[0m \u001b[38;5;66;03m# Pull in Naip Based on the ROI map\u001b[39;00m\n\u001b[1;32m----> 2\u001b[0m naip \u001b[38;5;241m=\u001b[39m \u001b[43mee\u001b[49m\u001b[38;5;241;43m.\u001b[39;49m\u001b[43mImageCollection\u001b[49m\u001b[43m(\u001b[49m\u001b[38;5;124;43m\"\u001b[39;49m\u001b[38;5;124;43mUSDA/NAIP/DOQQ\u001b[39;49m\u001b[38;5;124;43m\"\u001b[39;49m\u001b[43m)\u001b[49m\u001b[38;5;241;43m.\u001b[39;49m\u001b[43mfilter\u001b[49m\u001b[43m(\u001b[49m\u001b[43mee\u001b[49m\u001b[38;5;241;43m.\u001b[39;49m\u001b[43mFilter\u001b[49m\u001b[38;5;241;43m.\u001b[39;49m\u001b[43mdate\u001b[49m\u001b[43m(\u001b[49m\u001b[38;5;124;43m'\u001b[39;49m\u001b[38;5;124;43m2014-01-01\u001b[39;49m\u001b[38;5;124;43m'\u001b[39;49m\u001b[43m,\u001b[49m\u001b[43m \u001b[49m\u001b[38;5;124;43m'\u001b[39;49m\u001b[38;5;124;43m2015-12-31\u001b[39;49m\u001b[38;5;124;43m'\u001b[39;49m\u001b[43m)\u001b[49m\u001b[43m)\u001b[49m\u001b[38;5;241;43m.\u001b[39;49m\u001b[43mfilterBounds\u001b[49m\u001b[43m(\u001b[49m\u001b[43mroi\u001b[49m\u001b[43m)\u001b[49m\u001b[38;5;241;43m.\u001b[39;49m\u001b[43mmosaic\u001b[49m\u001b[43m(\u001b[49m\u001b[43m)\u001b[49m\u001b[38;5;241;43m.\u001b[39;49m\u001b[43mcrop\u001b[49m(roi)\n\u001b[0;32m      3\u001b[0m naip\n",
      "\u001b[1;31mAttributeError\u001b[0m: 'Image' object has no attribute 'crop'"
     ]
    }
   ],
   "source": [
    "# Pull in Naip Based on the ROI map\n",
    "naip = ee.ImageCollection(\"USDA/NAIP/DOQQ\").filter(ee.Filter.date('2014-01-01', '2015-12-31')).filterBounds(roi).mosaic().clip(roi)\n",
    "naip"
   ]
  },
  {
   "cell_type": "code",
   "execution_count": 6,
   "id": "9578c69c-784d-4743-892f-e5f6f52f0066",
   "metadata": {},
   "outputs": [],
   "source": [
    "# render new observational data and save it out"
   ]
  },
  {
   "cell_type": "code",
   "execution_count": 52,
   "id": "7d6adc18-5b41-4d25-960d-4c371a41c802",
   "metadata": {},
   "outputs": [
    {
     "data": {
      "application/vnd.jupyter.widget-view+json": {
       "model_id": "78f070ec86554170b803fb82729ae586",
       "version_major": 2,
       "version_minor": 0
      },
      "text/plain": [
       "Map(bottom=98168.0, center=[41.430371882652814, -99.73731994628906], controls=(WidgetControl(options=['positio…"
      ]
     },
     "execution_count": 52,
     "metadata": {},
     "output_type": "execute_result"
    }
   ],
   "source": [
    "Map.addLayer(naip)\n",
    "Map"
   ]
  },
  {
   "cell_type": "code",
   "execution_count": null,
   "id": "719cc152-c5c8-4a1d-856f-596ba5c9c19b",
   "metadata": {},
   "outputs": [],
   "source": []
  }
 ],
 "metadata": {
  "kernelspec": {
   "display_name": "Python 3 (ipykernel)",
   "language": "python",
   "name": "python3"
  },
  "language_info": {
   "codemirror_mode": {
    "name": "ipython",
    "version": 3
   },
   "file_extension": ".py",
   "mimetype": "text/x-python",
   "name": "python",
   "nbconvert_exporter": "python",
   "pygments_lexer": "ipython3",
   "version": "3.8.17"
  }
 },
 "nbformat": 4,
 "nbformat_minor": 5
}
