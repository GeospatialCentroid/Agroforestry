{
 "cells": [
  {
   "cell_type": "code",
   "execution_count": 10,
   "id": "209c25d9-b9fc-4bfb-a4d3-21b4732b9d7c",
   "metadata": {},
   "outputs": [],
   "source": [
    "## developing the download function \n",
    "\n",
    "\n",
    "import ee\n",
    "import numpy as np\n",
    "import geopandas as gpd\n",
    "import itertools"
   ]
  },
  {
   "cell_type": "code",
   "execution_count": 11,
   "id": "351951e9-0b9d-4ceb-87f8-06d9f486ec30",
   "metadata": {},
   "outputs": [],
   "source": [
    "def make_grid(polygon, edge_size):\n",
    "    \"\"\"\n",
    "    polygon : shapely.geometry\n",
    "    edge_size : length of the grid cell\n",
    "    \"\"\"\n",
    "    from itertools import product\n",
    "    import numpy as np\n",
    "    import geopandas as gpd\n",
    "    \n",
    "    bounds = polygon.bounds\n",
    "    x_coords = np.arange(bounds[0] + edge_size/2, bounds[2], edge_size)\n",
    "    y_coords = np.arange(bounds[1] + edge_size/2, bounds[3], edge_size)\n",
    "    combinations = np.array(list(product(x_coords, y_coords)))\n",
    "    squares = gpd.points_from_xy(combinations[:, 0], combinations[:, 1]).buffer(edge_size / 2, cap_style=3)\n",
    "    return gpd.GeoSeries(squares[squares.intersects(polygon)])"
   ]
  },
  {
   "cell_type": "code",
   "execution_count": null,
   "id": "fdb42858-ccaf-4284-85a5-9b0eb9521705",
   "metadata": {},
   "outputs": [],
   "source": [
    "# set sample grid ID \n",
    "aoiID = 'X12-677'"
   ]
  },
  {
   "cell_type": "code",
   "execution_count": 26,
   "id": "3d6a32e2-42ad-446f-9e59-04a4924b303c",
   "metadata": {},
   "outputs": [
    {
     "ename": "TypeError",
     "evalue": "Input must be Index or array-like",
     "output_type": "error",
     "traceback": [
      "\u001b[1;31m---------------------------------------------------------------------------\u001b[0m",
      "\u001b[1;31mTypeError\u001b[0m                                 Traceback (most recent call last)",
      "Cell \u001b[1;32mIn[26], line 2\u001b[0m\n\u001b[0;32m      1\u001b[0m d1 \u001b[38;5;241m=\u001b[39m gpd\u001b[38;5;241m.\u001b[39mread_file(\u001b[38;5;124m\"\u001b[39m\u001b[38;5;124m../data/griddedFeatures/twelve_mi_grid_uid.gpkg\u001b[39m\u001b[38;5;124m\"\u001b[39m)\n\u001b[1;32m----> 2\u001b[0m d2 \u001b[38;5;241m=\u001b[39m \u001b[43md1\u001b[49m\u001b[38;5;241;43m.\u001b[39;49m\u001b[43mfilter\u001b[49m\u001b[43m(\u001b[49m\u001b[38;5;124;43m'\u001b[39;49m\u001b[38;5;124;43mUnique_ID\u001b[39;49m\u001b[38;5;124;43m'\u001b[39;49m\u001b[38;5;241;43m==\u001b[39;49m\u001b[43m \u001b[49m\u001b[38;5;124;43m\"\u001b[39;49m\u001b[38;5;124;43mX12-1\u001b[39;49m\u001b[38;5;124;43m\"\u001b[39;49m\u001b[43m)\u001b[49m\n\u001b[0;32m      3\u001b[0m poly  \u001b[38;5;241m=\u001b[39m d1\u001b[38;5;241m.\u001b[39mloc[\u001b[38;5;241m0\u001b[39m, \u001b[38;5;124m'\u001b[39m\u001b[38;5;124mgeometry\u001b[39m\u001b[38;5;124m'\u001b[39m]\n\u001b[0;32m      4\u001b[0m d2\n",
      "File \u001b[1;32m~\\Desktop\\Agroforestry\\agro-env\\lib\\site-packages\\pandas\\core\\generic.py:5706\u001b[0m, in \u001b[0;36mNDFrame.filter\u001b[1;34m(self, items, like, regex, axis)\u001b[0m\n\u001b[0;32m   5703\u001b[0m     name \u001b[38;5;241m=\u001b[39m \u001b[38;5;28mself\u001b[39m\u001b[38;5;241m.\u001b[39m_get_axis_name(axis)\n\u001b[0;32m   5704\u001b[0m     \u001b[38;5;66;03m# error: Keywords must be strings\u001b[39;00m\n\u001b[0;32m   5705\u001b[0m     \u001b[38;5;28;01mreturn\u001b[39;00m \u001b[38;5;28mself\u001b[39m\u001b[38;5;241m.\u001b[39mreindex(  \u001b[38;5;66;03m# type: ignore[misc]\u001b[39;00m\n\u001b[1;32m-> 5706\u001b[0m         \u001b[38;5;241m*\u001b[39m\u001b[38;5;241m*\u001b[39m{name: \u001b[43mlabels\u001b[49m\u001b[38;5;241;43m.\u001b[39;49m\u001b[43mintersection\u001b[49m\u001b[43m(\u001b[49m\u001b[43mitems\u001b[49m\u001b[43m)\u001b[49m}\n\u001b[0;32m   5707\u001b[0m     )\n\u001b[0;32m   5708\u001b[0m \u001b[38;5;28;01melif\u001b[39;00m like:\n\u001b[0;32m   5710\u001b[0m     \u001b[38;5;28;01mdef\u001b[39;00m \u001b[38;5;21mf\u001b[39m(x) \u001b[38;5;241m-\u001b[39m\u001b[38;5;241m>\u001b[39m bool_t:\n",
      "File \u001b[1;32m~\\Desktop\\Agroforestry\\agro-env\\lib\\site-packages\\pandas\\core\\indexes\\base.py:3459\u001b[0m, in \u001b[0;36mIndex.intersection\u001b[1;34m(self, other, sort)\u001b[0m\n\u001b[0;32m   3431\u001b[0m \u001b[38;5;250m\u001b[39m\u001b[38;5;124;03m\"\"\"\u001b[39;00m\n\u001b[0;32m   3432\u001b[0m \u001b[38;5;124;03mForm the intersection of two Index objects.\u001b[39;00m\n\u001b[0;32m   3433\u001b[0m \n\u001b[1;32m   (...)\u001b[0m\n\u001b[0;32m   3456\u001b[0m \u001b[38;5;124;03mIndex([3, 4], dtype='int64')\u001b[39;00m\n\u001b[0;32m   3457\u001b[0m \u001b[38;5;124;03m\"\"\"\u001b[39;00m\n\u001b[0;32m   3458\u001b[0m \u001b[38;5;28mself\u001b[39m\u001b[38;5;241m.\u001b[39m_validate_sort_keyword(sort)\n\u001b[1;32m-> 3459\u001b[0m \u001b[38;5;28;43mself\u001b[39;49m\u001b[38;5;241;43m.\u001b[39;49m\u001b[43m_assert_can_do_setop\u001b[49m\u001b[43m(\u001b[49m\u001b[43mother\u001b[49m\u001b[43m)\u001b[49m\n\u001b[0;32m   3460\u001b[0m other, result_name \u001b[38;5;241m=\u001b[39m \u001b[38;5;28mself\u001b[39m\u001b[38;5;241m.\u001b[39m_convert_can_do_setop(other)\n\u001b[0;32m   3462\u001b[0m \u001b[38;5;28;01mif\u001b[39;00m \u001b[38;5;28mself\u001b[39m\u001b[38;5;241m.\u001b[39mdtype \u001b[38;5;241m!=\u001b[39m other\u001b[38;5;241m.\u001b[39mdtype:\n",
      "File \u001b[1;32m~\\Desktop\\Agroforestry\\agro-env\\lib\\site-packages\\pandas\\core\\indexes\\base.py:3748\u001b[0m, in \u001b[0;36mIndex._assert_can_do_setop\u001b[1;34m(self, other)\u001b[0m\n\u001b[0;32m   3745\u001b[0m \u001b[38;5;129m@final\u001b[39m\n\u001b[0;32m   3746\u001b[0m \u001b[38;5;28;01mdef\u001b[39;00m \u001b[38;5;21m_assert_can_do_setop\u001b[39m(\u001b[38;5;28mself\u001b[39m, other) \u001b[38;5;241m-\u001b[39m\u001b[38;5;241m>\u001b[39m \u001b[38;5;28mbool\u001b[39m:\n\u001b[0;32m   3747\u001b[0m     \u001b[38;5;28;01mif\u001b[39;00m \u001b[38;5;129;01mnot\u001b[39;00m is_list_like(other):\n\u001b[1;32m-> 3748\u001b[0m         \u001b[38;5;28;01mraise\u001b[39;00m \u001b[38;5;167;01mTypeError\u001b[39;00m(\u001b[38;5;124m\"\u001b[39m\u001b[38;5;124mInput must be Index or array-like\u001b[39m\u001b[38;5;124m\"\u001b[39m)\n\u001b[0;32m   3749\u001b[0m     \u001b[38;5;28;01mreturn\u001b[39;00m \u001b[38;5;28;01mTrue\u001b[39;00m\n",
      "\u001b[1;31mTypeError\u001b[0m: Input must be Index or array-like"
     ]
    }
   ],
   "source": [
    "d1 = gpd.read_file(\"../data/griddedFeatures/twelve_mi_grid_uid.gpkg\")\n",
    "d2 = d1.filter('Unique_ID'== \"X12-1\")\n",
    "poly  = d1.loc[0, 'geometry']\n",
    "d2\n",
    "\n",
    "# d2 = make_grid(polygon = d1, edge_size = 5)"
   ]
  }
 ],
 "metadata": {
  "kernelspec": {
   "display_name": "Python 3 (ipykernel)",
   "language": "python",
   "name": "python3"
  },
  "language_info": {
   "codemirror_mode": {
    "name": "ipython",
    "version": 3
   },
   "file_extension": ".py",
   "mimetype": "text/x-python",
   "name": "python",
   "nbconvert_exporter": "python",
   "pygments_lexer": "ipython3",
   "version": "3.9.12"
  }
 },
 "nbformat": 4,
 "nbformat_minor": 5
}
